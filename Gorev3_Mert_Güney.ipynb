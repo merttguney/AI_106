{
  "nbformat": 4,
  "nbformat_minor": 0,
  "metadata": {
    "colab": {
      "provenance": [],
      "include_colab_link": true
    },
    "kernelspec": {
      "name": "python3",
      "display_name": "Python 3"
    },
    "language_info": {
      "name": "python"
    }
  },
  "cells": [
    {
      "cell_type": "markdown",
      "metadata": {
        "id": "view-in-github",
        "colab_type": "text"
      },
      "source": [
        "<a href=\"https://colab.research.google.com/github/merttguney/AI_106/blob/main/Gorev3_Mert_G%C3%BCney.ipynb\" target=\"_parent\"><img src=\"https://colab.research.google.com/assets/colab-badge.svg\" alt=\"Open In Colab\"/></a>"
      ]
    },
    {
      "cell_type": "markdown",
      "source": [
        "**1- Bir listedeki isimlerin baş harflerini yazdıran uygulama**"
      ],
      "metadata": {
        "id": "FnLURgcIQ_Gi"
      }
    },
    {
      "cell_type": "code",
      "execution_count": null,
      "metadata": {
        "id": "c0ib_9BUQbmp",
        "colab": {
          "base_uri": "https://localhost:8080/"
        },
        "outputId": "1048b8b8-c32a-4281-ab68-443501b6f898"
      },
      "outputs": [
        {
          "output_type": "stream",
          "name": "stdout",
          "text": [
            "M\n",
            "E\n",
            "Z\n",
            "M\n"
          ]
        }
      ],
      "source": [
        "isimler = [\"Mert\", \"Emre\", \"Zafer\", \"Murat\"]\n",
        "for isim in isimler:\n",
        "  print(isim[0]) # Baş harfleri aldım sadece. (0.indexler)"
      ]
    },
    {
      "cell_type": "markdown",
      "source": [
        "**2- \"Tamam\" ifadesini görene kadar bir şeyler yazmanı isteyen uygulama (while)**"
      ],
      "metadata": {
        "id": "qJwVk__lRAiR"
      }
    },
    {
      "cell_type": "code",
      "source": [
        "while True:  # Sonsuz bir döngü oluşturmuş oldum. Koşulu parametre olarak değil if ile sağladım.\n",
        "  mesaj = input(\"Bir seyler yaziniz: \")\n",
        "\n",
        "  if mesaj == \"Tamam\":\n",
        "    print(\"Tamamlandi\")\n",
        "    break"
      ],
      "metadata": {
        "id": "3wsm_xvxQ-ue",
        "colab": {
          "base_uri": "https://localhost:8080/"
        },
        "outputId": "79fcfe26-016b-4230-b694-5c4a532b40a9"
      },
      "execution_count": null,
      "outputs": [
        {
          "output_type": "stream",
          "name": "stdout",
          "text": [
            "Bir seyler yaziniz: Mert\n",
            "Bir seyler yaziniz: Tamam\n",
            "Tamamlandi\n"
          ]
        }
      ]
    },
    {
      "cell_type": "markdown",
      "source": [
        "**3- Bir listedeki aynı isimleri teke indirecek bir uygulama**"
      ],
      "metadata": {
        "id": "WWgcIT6uRCWe"
      }
    },
    {
      "cell_type": "code",
      "source": [
        "isimler = [\"Ahmet\", \"Mehmet\", \"Ayşe\", \"Ahmet\", \"Fatma\", \"Mehmet\"]\n",
        "\n",
        "tekrarsiz_isimler = [] # Bilerek boş bir liste açtım.\n",
        "\n",
        "for isim in isimler:\n",
        "    if isim not in tekrarsiz_isimler:  # Eğer isim benzersiz listesinde yoksa eklemesini sağlar.\n",
        "        tekrarsiz_isimler.append(isim)\n",
        "\n",
        "print(\"Birbirini tekrar etmeyen isimler: \", tekrarsiz_isimler)"
      ],
      "metadata": {
        "id": "pZCHhA43RFd6",
        "colab": {
          "base_uri": "https://localhost:8080/"
        },
        "outputId": "ede9f29b-64c9-4c76-eeda-c592be03f468"
      },
      "execution_count": null,
      "outputs": [
        {
          "output_type": "stream",
          "name": "stdout",
          "text": [
            "Birbirini tekrar etmeyen isimler:  ['Ahmet', 'Mehmet', 'Ayşe', 'Fatma']\n"
          ]
        }
      ]
    },
    {
      "cell_type": "markdown",
      "source": [
        "**4- \"Tamam\" yazana kadar girdiğiniz kelimeleri, bir listeye ekleyen uygulama**"
      ],
      "metadata": {
        "id": "YVTCRlDHRFzA"
      }
    },
    {
      "cell_type": "code",
      "source": [
        "kelime = \" \"\n",
        "kelimeler = []\n",
        "\n",
        "while True:\n",
        "  kelime = input(\"Bir seyler yaziniz: \")\n",
        "\n",
        "  if kelime == \"Tamam\":\n",
        "    print(\"Tamamlandi.\")\n",
        "    break # Burada 'Tamam' kelimesini eklememesi için döngüyü sonlandırdım.\n",
        "\n",
        "  kelimeler.append(kelime)\n",
        "\n",
        "print(kelimeler)"
      ],
      "metadata": {
        "id": "NlQKoNLMRHM_",
        "colab": {
          "base_uri": "https://localhost:8080/"
        },
        "outputId": "09f398c4-10fb-45c0-94b6-19031ad256c2"
      },
      "execution_count": 5,
      "outputs": [
        {
          "output_type": "stream",
          "name": "stdout",
          "text": [
            "Bir seyler yaziniz: Selamlar\n",
            "Bir seyler yaziniz: Ben\n",
            "Bir seyler yaziniz: Mert\n",
            "Bir seyler yaziniz: Tamam\n",
            "Tamamlandi\n",
            "['Selamlar', 'Ben', 'Mert']\n"
          ]
        }
      ]
    },
    {
      "cell_type": "markdown",
      "source": [
        "**5- Bir listedeki sadece stringleri döndüren bir döngü oluşturun**"
      ],
      "metadata": {
        "id": "8_hXPZchRI87"
      }
    },
    {
      "cell_type": "code",
      "source": [
        "list = [\"string_ornegi\", 14, {\"ad\": \"Ahmet\", \"yas\": 25}, 3.14,] # Burada birbirinden farklı veri tipleri içeren liste tanımladım. string, int, dict, float.\n",
        "\n",
        "for i in list:\n",
        "  if isinstance(i, str): # isinstance i değişkeninin string türünde olup olmadığını kontrol ediyor.\n",
        "    print(i)"
      ],
      "metadata": {
        "id": "aWRMFwupRJcU",
        "colab": {
          "base_uri": "https://localhost:8080/"
        },
        "outputId": "7dc852c8-0865-4eac-a4c9-547102f2ba47"
      },
      "execution_count": 1,
      "outputs": [
        {
          "output_type": "stream",
          "name": "stdout",
          "text": [
            "string_ornegi\n"
          ]
        }
      ]
    },
    {
      "cell_type": "markdown",
      "source": [
        "**6- Liste şeklindeki Celsius değerlerin fahrenayt a çevirecek uygulama**"
      ],
      "metadata": {
        "id": "NAHNnt_yRLPO"
      }
    },
    {
      "cell_type": "code",
      "source": [
        "list_celcius = [0, 10, 20, 30, 40, 50, 60, 70, 80, 90, 100] # Bu görevde olabildiğince az satır ile işleri gerçekleştirmeye çalıştım. Fonksiyon kullanımı yapmadım\n",
        "\n",
        "for celcius in list_celcius:\n",
        "  fahrenheit = (celcius * 9/5) + 32\n",
        "  print(f\"{celcius}°C = {fahrenheit}°F\")"
      ],
      "metadata": {
        "id": "oz-NbuPIRLxh",
        "colab": {
          "base_uri": "https://localhost:8080/"
        },
        "outputId": "37ded88b-c09c-45eb-8567-06fa9c6522bc"
      },
      "execution_count": 1,
      "outputs": [
        {
          "output_type": "stream",
          "name": "stdout",
          "text": [
            "0°C = 32.0°F\n",
            "10°C = 50.0°F\n",
            "20°C = 68.0°F\n",
            "30°C = 86.0°F\n",
            "40°C = 104.0°F\n",
            "50°C = 122.0°F\n"
          ]
        }
      ]
    },
    {
      "cell_type": "markdown",
      "source": [
        "**7 - Tahmin oyunu \"from random import randint\" randint(0, 100)**"
      ],
      "metadata": {
        "id": "uE4n65WoRMqU"
      }
    },
    {
      "cell_type": "code",
      "source": [
        "from random import randint\n",
        "\n",
        "rastgele_sayi = randint(0, 100)\n",
        "\n",
        "print(\"0 ile 100 arasinda bir sayi tahmin edin: \")\n",
        "tahmin_sayisi = 0\n",
        "\n",
        "while True:\n",
        "  try:\n",
        "    tahmin = int(input(\"Tahmininiz: \"))\n",
        "    tahmin_sayisi += 1 # Tahmin sayacı her tahminde sayacı arttırır.\n",
        "\n",
        "    if tahmin < 0 or tahmin > 100:\n",
        "        print(\"Lütfen 0 ile 100 arasında bir sayı girin.\")\n",
        "        continue  # Geçersiz giriş yapıldı, tekrar sor.\n",
        "\n",
        "    if tahmin < rastgele_sayi:\n",
        "            print(\"Benim tuttuğum sayı daha büyük.\")\n",
        "    elif tahmin > rastgele_sayi:\n",
        "          print(\"Benim tuttuğum sayı daha küçük.\")\n",
        "    else:\n",
        "        print(f\"Tebrikler! {rastgele_sayi} sayısını {tahmin_sayisi} tahminde buldunuz.\")\n",
        "        break  # Doğru tahmin, döngüden çık.\n",
        "  except ValueError:\n",
        "        print(\"Lütfen geçerli bir sayı girin!\")\n"
      ],
      "metadata": {
        "id": "vdds-C0XRO5s",
        "colab": {
          "base_uri": "https://localhost:8080/"
        },
        "outputId": "17ffab27-7269-4aad-a1cb-eb3f1c987447"
      },
      "execution_count": 4,
      "outputs": [
        {
          "output_type": "stream",
          "name": "stdout",
          "text": [
            "0 ile 100 arasinda bir sayi tahmin edin: \n",
            "Tahmininiz: 10\n",
            "Benim tuttuğum sayı daha küçük.\n",
            "Tahmininiz: 8\n",
            "Benim tuttuğum sayı daha küçük.\n",
            "Tahmininiz: 2\n",
            "Benim tuttuğum sayı daha büyük.\n",
            "Tahmininiz: 3\n",
            "Tebrikler! 3 sayısını 4 tahminde buldunuz.\n"
          ]
        }
      ]
    },
    {
      "cell_type": "markdown",
      "source": [
        "**8- 1 den 100 e kadar 3 er 3 er sayan uygulama**"
      ],
      "metadata": {
        "id": "QU6vfmZZZbhi"
      }
    },
    {
      "cell_type": "code",
      "source": [
        "for i in range(1, 100, 3):\n",
        "  print(i)"
      ],
      "metadata": {
        "id": "bNXgOq1yZbvo",
        "colab": {
          "base_uri": "https://localhost:8080/"
        },
        "outputId": "f32a727a-eec1-4b2d-e95a-236aedc8972d"
      },
      "execution_count": null,
      "outputs": [
        {
          "output_type": "stream",
          "name": "stdout",
          "text": [
            "1\n",
            "4\n",
            "7\n",
            "10\n",
            "13\n",
            "16\n",
            "19\n",
            "22\n",
            "25\n",
            "28\n",
            "31\n",
            "34\n",
            "37\n",
            "40\n",
            "43\n",
            "46\n",
            "49\n",
            "52\n",
            "55\n",
            "58\n",
            "61\n",
            "64\n",
            "67\n",
            "70\n",
            "73\n",
            "76\n",
            "79\n",
            "82\n",
            "85\n",
            "88\n",
            "91\n",
            "94\n",
            "97\n"
          ]
        }
      ]
    },
    {
      "cell_type": "markdown",
      "source": [
        "**9- While döngüsü yine bir döngü 5 kere dönmesi gerekirken 3. hakkında yanan - döngüden çıkan ve while döngüsünde de çıkan bir uygulama yazın**"
      ],
      "metadata": {
        "id": "UYM1bSIWZeu4"
      }
    },
    {
      "cell_type": "code",
      "source": [
        "sayac = 1\n",
        "\n",
        "while sayac <= 5:\n",
        "    print(f\"{sayac}. dongu calisiyor...\")\n",
        "\n",
        "    if sayac == 3:\n",
        "      print(\"3.turda cikis yapiliyor...\")\n",
        "      break\n",
        "\n",
        "    sayac += 1\n",
        "\n",
        "print(\"Dongu sonlandi.\")"
      ],
      "metadata": {
        "id": "BmbjkfJqZe_s",
        "colab": {
          "base_uri": "https://localhost:8080/"
        },
        "outputId": "84ea393b-b96d-4c8d-d766-1242cf87b0c3"
      },
      "execution_count": 9,
      "outputs": [
        {
          "output_type": "stream",
          "name": "stdout",
          "text": [
            "1. dongu calisiyor...\n",
            "2. dongu calisiyor...\n",
            "3. dongu calisiyor...\n",
            "3.turda cikis yapiliyor...\n",
            "Dongu sonlandi.\n"
          ]
        }
      ]
    },
    {
      "cell_type": "markdown",
      "source": [
        "**10- Girdiğiniz kelimedeki belirli harfleri yazdıran bir uygulama**"
      ],
      "metadata": {
        "id": "tCL2K59uZipA"
      }
    },
    {
      "cell_type": "code",
      "source": [
        "kelime = \"Mert\"\n",
        "for harf in kelime:\n",
        "  if harf == \"M\":\n",
        "    print(harf)"
      ],
      "metadata": {
        "id": "86xwHPXcZi4l",
        "colab": {
          "base_uri": "https://localhost:8080/"
        },
        "outputId": "86b65b1c-7f1e-4304-aaa9-7847d5d62a5e"
      },
      "execution_count": null,
      "outputs": [
        {
          "output_type": "stream",
          "name": "stdout",
          "text": [
            "M\n"
          ]
        }
      ]
    }
  ]
}