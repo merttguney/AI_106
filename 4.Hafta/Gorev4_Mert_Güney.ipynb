{
  "nbformat": 4,
  "nbformat_minor": 0,
  "metadata": {
    "colab": {
      "provenance": [],
      "include_colab_link": true
    },
    "kernelspec": {
      "name": "python3",
      "display_name": "Python 3"
    },
    "language_info": {
      "name": "python"
    }
  },
  "cells": [
    {
      "cell_type": "markdown",
      "metadata": {
        "id": "view-in-github",
        "colab_type": "text"
      },
      "source": [
        "<a href=\"https://colab.research.google.com/github/merttguney/AI_106/blob/main/Gorev4_Mert_G%C3%BCney.ipynb\" target=\"_parent\"><img src=\"https://colab.research.google.com/assets/colab-badge.svg\" alt=\"Open In Colab\"/></a>"
      ]
    },
    {
      "cell_type": "markdown",
      "source": [
        "**1- 3x2 lik 1 lerden oluşan bir matris oluşturun**"
      ],
      "metadata": {
        "id": "tDB7cieW6bnR"
      }
    },
    {
      "cell_type": "code",
      "source": [
        "import numpy as np # burada numpy kütüphanesini importladım\n",
        "\n",
        "A = np.ones((3, 2), dtype = int) # tüm elemanları 1 olan, 3x2 boyutunda bir matris oluşturdum.\n",
        "A"
      ],
      "metadata": {
        "id": "MMSmXjkc6h1f",
        "colab": {
          "base_uri": "https://localhost:8080/"
        },
        "outputId": "189a76c7-1468-443f-a159-f857b040d059"
      },
      "execution_count": 1,
      "outputs": [
        {
          "output_type": "execute_result",
          "data": {
            "text/plain": [
              "array([[1, 1],\n",
              "       [1, 1],\n",
              "       [1, 1]])"
            ]
          },
          "metadata": {},
          "execution_count": 1
        }
      ]
    },
    {
      "cell_type": "markdown",
      "source": [
        "**2- 2x5 6'lardan oluşan bir matris oluşturun**"
      ],
      "metadata": {
        "id": "TKr7Tmn16iKb"
      }
    },
    {
      "cell_type": "code",
      "source": [
        "import numpy as np\n",
        "\n",
        "A = np.ones((2, 5), dtype = int) * 6 # tüm elemanları 6 olan, 2x5 boyutunda bir matris oluşturdum.\n",
        "A"
      ],
      "metadata": {
        "id": "2lnN1dpY6j4H",
        "colab": {
          "base_uri": "https://localhost:8080/"
        },
        "outputId": "de598d69-d3e5-4069-f965-4dfce6aa321e"
      },
      "execution_count": 2,
      "outputs": [
        {
          "output_type": "execute_result",
          "data": {
            "text/plain": [
              "array([[6, 6, 6, 6, 6],\n",
              "       [6, 6, 6, 6, 6]])"
            ]
          },
          "metadata": {},
          "execution_count": 2
        }
      ]
    },
    {
      "cell_type": "markdown",
      "source": [
        "**3- 2-100 arası 2 şer atlayan bir array oluşturun**"
      ],
      "metadata": {
        "id": "vmZP_0kW6kLw"
      }
    },
    {
      "cell_type": "code",
      "source": [
        "import numpy as np\n",
        "\n",
        "A = np.arange(2, 101, 2) # 2 ile 100(dahil) arasındaki sayıları 2'şer atlayarak array oluşturdum\n",
        "A"
      ],
      "metadata": {
        "id": "9r_qMlQk6lxx",
        "colab": {
          "base_uri": "https://localhost:8080/"
        },
        "outputId": "fe70887f-f8f8-4c63-a920-6968b52e87b6"
      },
      "execution_count": 3,
      "outputs": [
        {
          "output_type": "execute_result",
          "data": {
            "text/plain": [
              "array([  2,   4,   6,   8,  10,  12,  14,  16,  18,  20,  22,  24,  26,\n",
              "        28,  30,  32,  34,  36,  38,  40,  42,  44,  46,  48,  50,  52,\n",
              "        54,  56,  58,  60,  62,  64,  66,  68,  70,  72,  74,  76,  78,\n",
              "        80,  82,  84,  86,  88,  90,  92,  94,  96,  98, 100])"
            ]
          },
          "metadata": {},
          "execution_count": 3
        }
      ]
    },
    {
      "cell_type": "markdown",
      "source": [
        "**4- 3-10 arasında eşit dağılımlı 50 değer oluşturan bir array oluşturun**"
      ],
      "metadata": {
        "id": "tA-qQKwS6lgM"
      }
    },
    {
      "cell_type": "code",
      "source": [
        "import numpy as np\n",
        "\n",
        "A = np.linspace(3, 10, 50) # 3 ile 10 arasında eşit dağılımlı 50 değer oluşturdum.\n",
        "A"
      ],
      "metadata": {
        "id": "3FtwTrUn6pzj",
        "colab": {
          "base_uri": "https://localhost:8080/"
        },
        "outputId": "275b810c-a54f-45df-d0ae-9125841e91ff"
      },
      "execution_count": 17,
      "outputs": [
        {
          "output_type": "execute_result",
          "data": {
            "text/plain": [
              "array([ 3.        ,  3.14285714,  3.28571429,  3.42857143,  3.57142857,\n",
              "        3.71428571,  3.85714286,  4.        ,  4.14285714,  4.28571429,\n",
              "        4.42857143,  4.57142857,  4.71428571,  4.85714286,  5.        ,\n",
              "        5.14285714,  5.28571429,  5.42857143,  5.57142857,  5.71428571,\n",
              "        5.85714286,  6.        ,  6.14285714,  6.28571429,  6.42857143,\n",
              "        6.57142857,  6.71428571,  6.85714286,  7.        ,  7.14285714,\n",
              "        7.28571429,  7.42857143,  7.57142857,  7.71428571,  7.85714286,\n",
              "        8.        ,  8.14285714,  8.28571429,  8.42857143,  8.57142857,\n",
              "        8.71428571,  8.85714286,  9.        ,  9.14285714,  9.28571429,\n",
              "        9.42857143,  9.57142857,  9.71428571,  9.85714286, 10.        ])"
            ]
          },
          "metadata": {},
          "execution_count": 17
        }
      ]
    },
    {
      "cell_type": "markdown",
      "source": [
        "**5- 10 boyutunda sıfırlardan oluşan bir vektör (array) oluşturun fakat 5. değeri 1 olsun**"
      ],
      "metadata": {
        "id": "OLcv49wD6qPz"
      }
    },
    {
      "cell_type": "code",
      "source": [
        "import numpy as np\n",
        "\n",
        "A = np.zeros(10) # 10 boyutunda sıfırlardan oluşan bir vektör oluşturdum.\n",
        "A[4] = 1 # 5.değeri(4.index) 1 yaptım.\n",
        "A"
      ],
      "metadata": {
        "id": "vk8Fwfa37J7W",
        "colab": {
          "base_uri": "https://localhost:8080/"
        },
        "outputId": "5cfe9e31-b8a9-41d3-e7a3-1ef5fcb0797a"
      },
      "execution_count": 10,
      "outputs": [
        {
          "output_type": "execute_result",
          "data": {
            "text/plain": [
              "array([0., 0., 0., 0., 1., 0., 0., 0., 0., 0.])"
            ]
          },
          "metadata": {},
          "execution_count": 10
        }
      ]
    },
    {
      "cell_type": "markdown",
      "source": [
        "**6- 0 dan 8 e kadar sıralı değerler barındıran 3x3 lük bir matris oluşturun**"
      ],
      "metadata": {
        "id": "FMHnXlya63HE"
      }
    },
    {
      "cell_type": "code",
      "source": [
        "import numpy as np\n",
        "\n",
        "A = np.arange(0, 9).reshape(3, 3) # 0 dan 8 e kadar sıralı değerler içeren 3x3 lük bir matris oluşturdum.\n",
        "A"
      ],
      "metadata": {
        "id": "wiw0Fko07JYZ",
        "colab": {
          "base_uri": "https://localhost:8080/"
        },
        "outputId": "1eb58f04-23bc-4625-84fe-8cce1c6eb512"
      },
      "execution_count": 11,
      "outputs": [
        {
          "output_type": "execute_result",
          "data": {
            "text/plain": [
              "array([[0, 1, 2],\n",
              "       [3, 4, 5],\n",
              "       [6, 7, 8]])"
            ]
          },
          "metadata": {},
          "execution_count": 11
        }
      ]
    },
    {
      "cell_type": "markdown",
      "source": [
        "**7- Rastgele sayılardan oluşan 3x3x3 lük bir array oluşturun**"
      ],
      "metadata": {
        "id": "6qDi0S_U6_Lt"
      }
    },
    {
      "cell_type": "code",
      "source": [
        "import numpy as np\n",
        "\n",
        "A = np.random.rand(3, 3, 3) # 0 ile 1 arasında rastgele sayılardan oluşan 3x3x3 lük bir array oluşturdum.\n",
        "A"
      ],
      "metadata": {
        "colab": {
          "base_uri": "https://localhost:8080/"
        },
        "id": "-8voMs-xwnI1",
        "outputId": "5bd7e22e-9908-4286-ddd9-fb8f2bfa1945"
      },
      "execution_count": 12,
      "outputs": [
        {
          "output_type": "execute_result",
          "data": {
            "text/plain": [
              "array([[[0.97344901, 0.08022396, 0.84602385],\n",
              "        [0.99822245, 0.41536591, 0.77180828],\n",
              "        [0.01921452, 0.11292912, 0.303245  ]],\n",
              "\n",
              "       [[0.40867755, 0.99235159, 0.34605888],\n",
              "        [0.35547662, 0.31099979, 0.86285006],\n",
              "        [0.32937203, 0.20827585, 0.15296354]],\n",
              "\n",
              "       [[0.97991058, 0.77257787, 0.89622615],\n",
              "        [0.57636341, 0.62654006, 0.4484082 ],\n",
              "        [0.94650241, 0.42219358, 0.66215287]]])"
            ]
          },
          "metadata": {},
          "execution_count": 12
        }
      ]
    },
    {
      "cell_type": "markdown",
      "source": [
        "**8- 10x10 luk bir array oluşturun. Max ve min değerlerini bir değişkene atayın**"
      ],
      "metadata": {
        "id": "lfW4I2Tn7AgA"
      }
    },
    {
      "cell_type": "code",
      "source": [
        "import numpy as np\n",
        "\n",
        "A = np.random.randint(0, 100, size=(10, 10)) # 0 ile 100 arasında rastgele tam sayılardan oluşan 10x10'luk matris oluşturdum.\n",
        "\n",
        "max_value = np.max(A)\n",
        "min_value = np.min(A) # Maksimum ve minimum değerleri bir değişkene atama\n",
        "\n",
        "print(\"Array:\")\n",
        "print(A)\n",
        "print(\"\\nMaximum Değer:\", max_value)\n",
        "print(\"Minimum Değer:\", min_value)"
      ],
      "metadata": {
        "id": "6VDV7Cxt7I9K",
        "colab": {
          "base_uri": "https://localhost:8080/"
        },
        "outputId": "290f1b76-b3de-4586-9f9e-a90bbb44bb03"
      },
      "execution_count": 13,
      "outputs": [
        {
          "output_type": "stream",
          "name": "stdout",
          "text": [
            "Array:\n",
            "[[13  6 43 30 46 19 20  6 46 46]\n",
            " [45 81 57 62 32 17 75 73 68 81]\n",
            " [45 18 22 31 59 81 21 45 42 72]\n",
            " [78 49 34 11 56 95 43 29 59 37]\n",
            " [31 37 71  6 73  6 36 16 54 42]\n",
            " [71 19 17 87 99 70 57 86 69 72]\n",
            " [62 84 97 37 70 92 48 73 75 72]\n",
            " [ 8 78 25 19 58 79 89 22  7  4]\n",
            " [14 75 37 95 38 56 80  1 31 14]\n",
            " [23  1 24 64 95 83 74  0 51 27]]\n",
            "\n",
            "Maximum Değer: 99\n",
            "Minimum Değer: 0\n"
          ]
        }
      ]
    },
    {
      "cell_type": "markdown",
      "source": [
        "**9- Birlerden oluşan 5x3 matrisi birlerden oluşan 3x2 matrisle çarpın (dot)**"
      ],
      "metadata": {
        "id": "r5kR51lX7EF_"
      }
    },
    {
      "cell_type": "code",
      "source": [
        "import numpy as np\n",
        "\n",
        "A = np.ones((5, 3)) # 5x3 boyutunda birlerden oluşan matris.\n",
        "\n",
        "B = np.ones((3, 2)) # 3x2 boyutunda birlerden oluşan matris.\n",
        "\n",
        "result = np.dot(A, B) # Matrisler çarpıldo. (dot çarpım)\n",
        "\n",
        "print(\"Sonuç Matrisi:\")\n",
        "print(result)"
      ],
      "metadata": {
        "id": "YAdatd-A7FfG",
        "colab": {
          "base_uri": "https://localhost:8080/"
        },
        "outputId": "a33fb884-372c-4b98-ef5d-cfab4edd38f4"
      },
      "execution_count": 18,
      "outputs": [
        {
          "output_type": "stream",
          "name": "stdout",
          "text": [
            "Sonuç Matrisi:\n",
            "[[3. 3.]\n",
            " [3. 3.]\n",
            " [3. 3.]\n",
            " [3. 3.]\n",
            " [3. 3.]]\n"
          ]
        }
      ]
    }
  ]
}