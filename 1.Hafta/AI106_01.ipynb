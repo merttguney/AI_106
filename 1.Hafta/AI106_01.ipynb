{
 "cells": [
  {
   "metadata": {
    "ExecuteTime": {
     "end_time": "2025-02-07T20:23:15.229945Z",
     "start_time": "2025-02-07T20:23:15.210870Z"
    }
   },
   "cell_type": "code",
   "source": [
    "x = 5\n",
    "y = 20\n",
    "print(x + y)"
   ],
   "id": "ac8354545476d732",
   "outputs": [
    {
     "name": "stdout",
     "output_type": "stream",
     "text": [
      "25\n"
     ]
    }
   ],
   "execution_count": 5
  },
  {
   "metadata": {
    "ExecuteTime": {
     "end_time": "2025-02-07T12:50:42.487668Z",
     "start_time": "2025-02-07T12:50:42.484003Z"
    }
   },
   "cell_type": "code",
   "source": [
    "# Dildeki değişken tipleri önemli.\n",
    "# Koşul yapıları nelerdir?\n",
    "# Döngü yapıları\n",
    "# Bunlar programlama dilinin yapılarıdır."
   ],
   "id": "50b9ee5f6a7651b5",
   "outputs": [],
   "execution_count": 4
  },
  {
   "metadata": {
    "ExecuteTime": {
     "end_time": "2025-02-07T20:36:44.366121Z",
     "start_time": "2025-02-07T20:36:44.362175Z"
    }
   },
   "cell_type": "code",
   "source": [
    "(\"Primitive Değişkenler\"\n",
    " \"1.Numbers\"\n",
    " \"2.String\"\n",
    " \"  3.Boolean\"\n",
    " \"\"\n",
    " \"Kompleks, Koleksiyon, Liste Tipinde\"\n",
    " \"4.List\"\n",
    " \"5.Tuple\"\n",
    " \"6.Dictionary\"\n",
    " \"7.Set\"\n",
    " )"
   ],
   "id": "5dfca18131b893e8",
   "outputs": [
    {
     "data": {
      "text/plain": [
       "'Primitive Değişkenler1.Numbers2.String  3.BooleanKompleks, Koleksiyon, Liste Tipinde4.List5.Tuple6.Dictionary7.Set'"
      ]
     },
     "execution_count": 12,
     "metadata": {},
     "output_type": "execute_result"
    }
   ],
   "execution_count": 12
  },
  {
   "metadata": {},
   "cell_type": "code",
   "outputs": [],
   "execution_count": null,
   "source": [
    "deger = True\n",
    "deger2 = False\n",
    "isimler = [\"Zafer\", \"Ege\", \"Mert\"]\n",
    "sayilar = [5, 45, 20]\n",
    "\n",
    "# Sayılar da int ve float olarak ikiye ayrılır. C#'taki gibi int sayi şeklinde yazmamıza gerek yok strongly-typed bir dil değil çünkü. Type fonk ile bakılabilir."
   ],
   "id": "d6f4a614d80290be"
  },
  {
   "metadata": {},
   "cell_type": "markdown",
   "source": "Aritmetik Operatörler",
   "id": "43a253d4e48b5830"
  },
  {
   "metadata": {},
   "cell_type": "code",
   "outputs": [],
   "execution_count": null,
   "source": [
    "x, y = 3, 2\n",
    "print(x + y) # = 5\n",
    "print(x - y) # = 1\n",
    "print(x * y) # = 6\n",
    "print(x / y) # = 1.5\n",
    "print(x // y) # = -1 bölümün tam kısmını alır\n",
    "print(x % y) # = 1 Modülüs, kalana bakar\n",
    "print(-x) # = -3\n",
    "print(abs(-x)) # mutlak değer = 3\n",
    "print(x ** y) # üs alma\n",
    "print(int(3.9)) # = 3\n",
    "print(float(x)) # = 3.0\n"
   ],
   "id": "c1a948b3494eb7bb"
  },
  {
   "metadata": {
    "ExecuteTime": {
     "end_time": "2025-02-07T21:17:59.235411Z",
     "start_time": "2025-02-07T21:17:59.229538Z"
    }
   },
   "cell_type": "code",
   "source": [
    "x = 1 > 2\n",
    "print(x)\n",
    "# False\n",
    "\n",
    "y = 2 < 1\n",
    "print(y)\n",
    "# True"
   ],
   "id": "7ab2aa3bf347822",
   "outputs": [
    {
     "name": "stdout",
     "output_type": "stream",
     "text": [
      "False\n",
      "False\n"
     ]
    }
   ],
   "execution_count": 14
  },
  {
   "metadata": {
    "ExecuteTime": {
     "end_time": "2025-02-07T21:24:47.634082Z",
     "start_time": "2025-02-07T21:24:47.628508Z"
    }
   },
   "cell_type": "code",
   "source": [
    "# * -- and, or, not\n",
    "\n",
    "x, y = True, False\n",
    "print(x or y ==  True)\n",
    "# True\n",
    "\n",
    "print(x or y == False)\n",
    "# True\n",
    "\n",
    "print((not y) == True)\n",
    "# True\n",
    "\n",
    "print((x and y) != False)\n",
    "# False"
   ],
   "id": "d8d538a54707d715",
   "outputs": [
    {
     "name": "stdout",
     "output_type": "stream",
     "text": [
      "True\n",
      "True\n",
      "True\n",
      "False\n"
     ]
    }
   ],
   "execution_count": 15
  },
  {
   "metadata": {
    "ExecuteTime": {
     "end_time": "2025-02-07T21:26:20.253478Z",
     "start_time": "2025-02-07T21:26:20.248868Z"
    }
   },
   "cell_type": "code",
   "source": [
    "ad = \"Mert\"\n",
    "print('ad', ad)\n",
    "\n",
    "ad = \"Kemal\"\n",
    "print('ad', ad)\n",
    "\n",
    "soyad = \"Güney\"\n",
    "print(ad + \" \" + soyad)"
   ],
   "id": "3ef3bdf51a332df3",
   "outputs": [
    {
     "name": "stdout",
     "output_type": "stream",
     "text": [
      "ad Mert\n",
      "ad Kemal\n",
      "Kemal Güney\n"
     ]
    }
   ],
   "execution_count": 17
  },
  {
   "metadata": {
    "ExecuteTime": {
     "end_time": "2025-02-13T18:17:35.967697Z",
     "start_time": "2025-02-13T18:17:35.960179Z"
    }
   },
   "cell_type": "code",
   "source": "6 == \"6\"",
   "id": "d79bd7409d1c6226",
   "outputs": [
    {
     "data": {
      "text/plain": [
       "False"
      ]
     },
     "execution_count": 1,
     "metadata": {},
     "output_type": "execute_result"
    }
   ],
   "execution_count": 1
  },
  {
   "metadata": {
    "ExecuteTime": {
     "end_time": "2025-02-13T18:18:08.661988Z",
     "start_time": "2025-02-13T18:18:08.652743Z"
    }
   },
   "cell_type": "code",
   "source": "6 == int('6')",
   "id": "a89622304cfde785",
   "outputs": [
    {
     "data": {
      "text/plain": [
       "True"
      ]
     },
     "execution_count": 2,
     "metadata": {},
     "output_type": "execute_result"
    }
   ],
   "execution_count": 2
  },
  {
   "metadata": {
    "ExecuteTime": {
     "end_time": "2025-02-13T18:18:21.532375Z",
     "start_time": "2025-02-13T18:18:21.513118Z"
    }
   },
   "cell_type": "code",
   "source": "str(6) == \"6\"",
   "id": "b95a38870235d5f1",
   "outputs": [
    {
     "data": {
      "text/plain": [
       "True"
      ]
     },
     "execution_count": 3,
     "metadata": {},
     "output_type": "execute_result"
    }
   ],
   "execution_count": 3
  },
  {
   "metadata": {},
   "cell_type": "markdown",
   "source": "Düzn",
   "id": "593d6e0a6437c18c"
  }
 ],
 "metadata": {
  "kernelspec": {
   "display_name": "Python 3",
   "language": "python",
   "name": "python3"
  },
  "language_info": {
   "codemirror_mode": {
    "name": "ipython",
    "version": 2
   },
   "file_extension": ".py",
   "mimetype": "text/x-python",
   "name": "python",
   "nbconvert_exporter": "python",
   "pygments_lexer": "ipython2",
   "version": "2.7.6"
  }
 },
 "nbformat": 4,
 "nbformat_minor": 5
}
