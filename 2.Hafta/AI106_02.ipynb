{
 "cells": [
  {
   "cell_type": "code",
   "id": "initial_id",
   "metadata": {
    "collapsed": true,
    "ExecuteTime": {
     "end_time": "2025-02-08T06:20:34.447471Z",
     "start_time": "2025-02-08T06:20:34.443223Z"
    }
   },
   "source": [
    "data = [5, \"kitap\", \"Merhaba\", True]\n",
    "data = [5, \"kitap\", [34, \"Merhaba\"], True]"
   ],
   "outputs": [],
   "execution_count": 1
  },
  {
   "metadata": {
    "ExecuteTime": {
     "end_time": "2025-02-08T06:21:05.093848Z",
     "start_time": "2025-02-08T06:21:05.087831Z"
    }
   },
   "cell_type": "code",
   "source": "data[2]",
   "id": "f8e473b9a76bacae",
   "outputs": [
    {
     "data": {
      "text/plain": [
       "[34, 'Merhaba']"
      ]
     },
     "execution_count": 3,
     "metadata": {},
     "output_type": "execute_result"
    }
   ],
   "execution_count": 3
  },
  {
   "metadata": {
    "ExecuteTime": {
     "end_time": "2025-02-08T06:21:55.782394Z",
     "start_time": "2025-02-08T06:21:55.771115Z"
    }
   },
   "cell_type": "code",
   "source": "data[2][1]",
   "id": "25f2f6870d921fec",
   "outputs": [
    {
     "data": {
      "text/plain": [
       "'Merhaba'"
      ]
     },
     "execution_count": 4,
     "metadata": {},
     "output_type": "execute_result"
    }
   ],
   "execution_count": 4
  },
  {
   "metadata": {},
   "cell_type": "markdown",
   "source": "Koşul",
   "id": "cc637f24ba6514ad"
  },
  {
   "metadata": {
    "ExecuteTime": {
     "end_time": "2025-02-08T06:25:33.332791Z",
     "start_time": "2025-02-08T06:25:24.363810Z"
    }
   },
   "cell_type": "code",
   "source": [
    "ad = input(\"İsmin nedir? \")\n",
    "print(\"Merhaba \", ad)"
   ],
   "id": "a472f3580ee1a9b5",
   "outputs": [
    {
     "name": "stdout",
     "output_type": "stream",
     "text": [
      "Merhaba  Mert\n"
     ]
    }
   ],
   "execution_count": 6
  },
  {
   "metadata": {
    "ExecuteTime": {
     "end_time": "2025-02-08T06:27:59.610354Z",
     "start_time": "2025-02-08T06:27:54.107734Z"
    }
   },
   "cell_type": "code",
   "source": [
    "yas = input(\"Yaşınız? \")\n",
    "sonuc = int(yas) - 3\n",
    "print(sonuc)"
   ],
   "id": "63597e18bb8f0321",
   "outputs": [
    {
     "name": "stdout",
     "output_type": "stream",
     "text": [
      "16\n"
     ]
    }
   ],
   "execution_count": 7
  },
  {
   "metadata": {
    "ExecuteTime": {
     "end_time": "2025-02-08T06:29:27.662270Z",
     "start_time": "2025-02-08T06:29:27.658403Z"
    }
   },
   "cell_type": "code",
   "source": [
    "# ==\n",
    "# !=\n",
    "# >\n",
    "# <\n",
    "# >=\n",
    "# <="
   ],
   "id": "b9f8d1168a6e3ab5",
   "outputs": [],
   "execution_count": 11
  },
  {
   "metadata": {
    "ExecuteTime": {
     "end_time": "2025-02-08T06:30:12.790813Z",
     "start_time": "2025-02-08T06:30:12.784952Z"
    }
   },
   "cell_type": "code",
   "source": [
    "print(2 == 2)\n",
    "print(2 != 3)\n",
    "print(2 > 3)\n",
    "print(3 >= 3)"
   ],
   "id": "fdd8063ae792f276",
   "outputs": [
    {
     "name": "stdout",
     "output_type": "stream",
     "text": [
      "True\n",
      "True\n",
      "False\n",
      "True\n"
     ]
    }
   ],
   "execution_count": 12
  },
  {
   "metadata": {
    "ExecuteTime": {
     "end_time": "2025-02-08T06:35:19.646640Z",
     "start_time": "2025-02-08T06:35:19.638464Z"
    }
   },
   "cell_type": "code",
   "source": [
    "x, y = 5, 10\n",
    "if x < y:\n",
    "      print(\"x, y den küçüktür \")\n",
    "\n",
    "print(\"Evrensel akışa ait kodlar\")\n",
    "# Python dilinde {} kullanımı yoktur"
   ],
   "id": "2dadfed227d63f4f",
   "outputs": [
    {
     "name": "stdout",
     "output_type": "stream",
     "text": [
      "x, y den küçüktür \n",
      "Evrensel akışa ait kodlar\n"
     ]
    }
   ],
   "execution_count": 15
  },
  {
   "metadata": {
    "ExecuteTime": {
     "end_time": "2025-02-08T06:37:14.350947Z",
     "start_time": "2025-02-08T06:37:10.108043Z"
    }
   },
   "cell_type": "code",
   "source": [
    "cevap = int(input(\"5 + 5 nedir? \"))\n",
    "if cevap == 10:\n",
    "    print(\"Doğru cevap tebrikler!\")"
   ],
   "id": "2812f2316509d89b",
   "outputs": [
    {
     "name": "stdout",
     "output_type": "stream",
     "text": [
      "Doğru cevap tebrikler!\n"
     ]
    }
   ],
   "execution_count": 16
  },
  {
   "metadata": {
    "ExecuteTime": {
     "end_time": "2025-02-08T06:39:38.592160Z",
     "start_time": "2025-02-08T06:39:38.572663Z"
    }
   },
   "cell_type": "code",
   "source": [
    "x, y,z = 5, 10, 5\n",
    "if x < y and x == z:\n",
    "    print(\"Her iki koşulda doğrudur\")\n",
    "\n",
    "print(\"Evrensel akışa ait kodlar\")"
   ],
   "id": "e10ca48b39f32c22",
   "outputs": [
    {
     "name": "stdout",
     "output_type": "stream",
     "text": [
      "Her iki koşulda doğrudur\n",
      "Evrensel akışa ait kodlar\n"
     ]
    }
   ],
   "execution_count": 17
  },
  {
   "metadata": {
    "ExecuteTime": {
     "end_time": "2025-02-08T06:44:02.914919Z",
     "start_time": "2025-02-08T06:44:02.896476Z"
    }
   },
   "cell_type": "code",
   "source": [
    "x, y, z = 5, 10, 5\n",
    "if x < y or x != z:\n",
    "    print(\"Bir veya daha fazla koşul doğru\")"
   ],
   "id": "9df5662e6ea23e27",
   "outputs": [
    {
     "name": "stdout",
     "output_type": "stream",
     "text": [
      "Bir veya daha fazla koşul doğru\n"
     ]
    }
   ],
   "execution_count": 18
  },
  {
   "metadata": {
    "ExecuteTime": {
     "end_time": "2025-02-08T06:44:54.361036Z",
     "start_time": "2025-02-08T06:44:54.354987Z"
    }
   },
   "cell_type": "code",
   "source": [
    "isimler = [\"Zafer\", \"Ege\", \"Tamer\"]\n",
    "\n",
    "if \"Zafer\" in isimler:\n",
    "    print(\"Bulundu\")"
   ],
   "id": "c337e00452243996",
   "outputs": [
    {
     "name": "stdout",
     "output_type": "stream",
     "text": [
      "Bulundu\n"
     ]
    }
   ],
   "execution_count": 20
  },
  {
   "metadata": {
    "ExecuteTime": {
     "end_time": "2025-02-08T06:46:24.353864Z",
     "start_time": "2025-02-08T06:46:24.342384Z"
    }
   },
   "cell_type": "code",
   "source": [
    "if \"Ayşe\" not in isimler:\n",
    "    print(\"Bulunamadı\")"
   ],
   "id": "77bfce1a16d4a076",
   "outputs": [
    {
     "name": "stdout",
     "output_type": "stream",
     "text": [
      "Bulunamadı\n"
     ]
    }
   ],
   "execution_count": 21
  },
  {
   "metadata": {
    "ExecuteTime": {
     "end_time": "2025-02-08T07:04:30.900916Z",
     "start_time": "2025-02-08T07:04:30.884721Z"
    }
   },
   "cell_type": "code",
   "outputs": [
    {
     "name": "stdout",
     "output_type": "stream",
     "text": [
      "Basketbol kelimesinde b karakteri vardır\n"
     ]
    }
   ],
   "execution_count": 23,
   "source": [
    "kelime = \"Basketbol\"\n",
    "if \"b\" in kelime:\n",
    "    print(\"{} kelimesinde b karakteri vardır\".format(kelime))"
   ],
   "id": "c35496d8057dfec7"
  },
  {
   "metadata": {
    "ExecuteTime": {
     "end_time": "2025-02-08T07:05:16.002277Z",
     "start_time": "2025-02-08T07:05:15.986730Z"
    }
   },
   "cell_type": "code",
   "outputs": [
    {
     "name": "stdout",
     "output_type": "stream",
     "text": [
      "Basketbol kelimesi x karakteri barındırmıyor\n"
     ]
    }
   ],
   "execution_count": 24,
   "source": [
    "kelime = \"Basketbol\"\n",
    "if \"x\" not in kelime:\n",
    "    print(f\"{kelime} kelimesi x karakteri barındırmıyor\")"
   ],
   "id": "ba67251fe52d6800"
  },
  {
   "metadata": {
    "ExecuteTime": {
     "end_time": "2025-02-08T07:08:48.611056Z",
     "start_time": "2025-02-08T07:08:48.600578Z"
    }
   },
   "cell_type": "code",
   "source": [
    "x, y = 5, 10\n",
    "if x > y:\n",
    "    print(\"x, y'den büyüktür\")\n",
    "elif x < y:\n",
    "    print(\"x, y'den küçüktür\")"
   ],
   "id": "6d53db65cda9896c",
   "outputs": [
    {
     "name": "stdout",
     "output_type": "stream",
     "text": [
      "x, y'den küçüktür\n"
     ]
    }
   ],
   "execution_count": 25
  },
  {
   "metadata": {
    "ExecuteTime": {
     "end_time": "2025-02-08T07:13:04.342532Z",
     "start_time": "2025-02-08T07:13:04.333820Z"
    }
   },
   "cell_type": "code",
   "source": [
    "if x > y:\n",
    "    print(\"x büyüktür\")\n",
    "elif (x + 10) < y:\n",
    "    print(\"y, 15'ten büyüktür\")\n",
    "elif (x + 5) == y:\n",
    "    print(\"Eşit\")"
   ],
   "id": "8b0fbebc57cc1e71",
   "outputs": [
    {
     "name": "stdout",
     "output_type": "stream",
     "text": [
      "Eşit\n"
     ]
    }
   ],
   "execution_count": 27
  },
  {
   "metadata": {
    "ExecuteTime": {
     "end_time": "2025-02-08T07:15:18.673068Z",
     "start_time": "2025-02-08T07:15:18.660695Z"
    }
   },
   "cell_type": "code",
   "source": [
    "ad = \"Cafer\"\n",
    "if ad[0] == \"A\":\n",
    "      print(\"Ad A ile başlıyor\")\n",
    "elif ad[0] == \"B\":\n",
    "      print(\"Ad B ile başlıyor\")\n",
    "elif ad[0] == \"Z\":\n",
    "      print(\"Ad Z ile başlıyor\")\n",
    "else:\n",
    "      print(\"Ad {} ile başlıyor\".format(ad[0]))"
   ],
   "id": "1261b93047de61bc",
   "outputs": [
    {
     "name": "stdout",
     "output_type": "stream",
     "text": [
      "Ad C ile başlıyor\n"
     ]
    }
   ],
   "execution_count": 28
  },
  {
   "metadata": {
    "ExecuteTime": {
     "end_time": "2025-02-08T07:22:05.712855Z",
     "start_time": "2025-02-08T07:22:05.699056Z"
    }
   },
   "cell_type": "code",
   "source": [
    "x, y, z = 5, 10, 5\n",
    "\n",
    "if x > y:\n",
    "      print(\"büyüktür\")\n",
    "elif x <= y:\n",
    "      if x == z:\n",
    "            print(\"x, z'ye eşittir\")\n",
    "      elif x != z:\n",
    "            print(\"x, z'ye eşit değildir\")"
   ],
   "id": "b1886da5b0d1af7",
   "outputs": [
    {
     "name": "stdout",
     "output_type": "stream",
     "text": [
      "x, z'ye eşittir\n"
     ]
    }
   ],
   "execution_count": 32
  },
  {
   "metadata": {},
   "cell_type": "markdown",
   "source": "Döngüler\n",
   "id": "74da8ea2a3867dcc"
  },
  {
   "metadata": {
    "ExecuteTime": {
     "end_time": "2025-02-08T07:22:15.456167Z",
     "start_time": "2025-02-08T07:22:15.447617Z"
    }
   },
   "cell_type": "code",
   "source": "list(range(5))",
   "id": "d9f332486f7d4a3b",
   "outputs": [
    {
     "data": {
      "text/plain": [
       "[0, 1, 2, 3, 4]"
      ]
     },
     "execution_count": 33,
     "metadata": {},
     "output_type": "execute_result"
    }
   ],
   "execution_count": 33
  },
  {
   "metadata": {
    "ExecuteTime": {
     "end_time": "2025-02-08T07:23:40.271718Z",
     "start_time": "2025-02-08T07:23:40.252288Z"
    }
   },
   "cell_type": "code",
   "source": [
    "for num in range(5):\n",
    "    print(\"Değer: \", num)"
   ],
   "id": "e286b83cd0b61d4a",
   "outputs": [
    {
     "name": "stdout",
     "output_type": "stream",
     "text": [
      "Değer:  0\n",
      "Değer:  1\n",
      "Değer:  2\n",
      "Değer:  3\n",
      "Değer:  4\n"
     ]
    }
   ],
   "execution_count": 35
  },
  {
   "metadata": {
    "ExecuteTime": {
     "end_time": "2025-02-08T07:24:03.879345Z",
     "start_time": "2025-02-08T07:24:03.871386Z"
    }
   },
   "cell_type": "code",
   "source": "list(range(2,10, 2))",
   "id": "80e5c2af6141769",
   "outputs": [
    {
     "data": {
      "text/plain": [
       "[2, 4, 6, 8]"
      ]
     },
     "execution_count": 36,
     "metadata": {},
     "output_type": "execute_result"
    }
   ],
   "execution_count": 36
  },
  {
   "metadata": {
    "ExecuteTime": {
     "end_time": "2025-02-08T07:24:41.596827Z",
     "start_time": "2025-02-08T07:24:41.592824Z"
    }
   },
   "cell_type": "code",
   "source": [
    "for num in range(2,10, 2):\n",
    "    print(\"Değer: \", num)"
   ],
   "id": "112101c15456a9f4",
   "outputs": [
    {
     "name": "stdout",
     "output_type": "stream",
     "text": [
      "Değer:  2\n",
      "Değer:  4\n",
      "Değer:  6\n",
      "Değer:  8\n"
     ]
    }
   ],
   "execution_count": 37
  },
  {
   "metadata": {
    "ExecuteTime": {
     "end_time": "2025-02-08T07:26:37.530496Z",
     "start_time": "2025-02-08T07:26:37.520446Z"
    }
   },
   "cell_type": "code",
   "source": [
    "sporlar = [\"Futbol\", \"Basketbol\", \"Tenis\", \"Yüzme\"]\n",
    "for spor in sporlar:\n",
    "    print(spor)"
   ],
   "id": "1805cd2adc0c1ed1",
   "outputs": [
    {
     "name": "stdout",
     "output_type": "stream",
     "text": [
      "Futbol\n",
      "Basketbol\n",
      "Tenis\n",
      "Yüzme\n"
     ]
    }
   ],
   "execution_count": 39
  },
  {
   "metadata": {
    "ExecuteTime": {
     "end_time": "2025-02-08T07:27:48.086462Z",
     "start_time": "2025-02-08T07:27:48.064870Z"
    }
   },
   "cell_type": "code",
   "source": [
    "ad = \"Mert Güney\"\n",
    "for harf in ad:\n",
    "    print(\"Harf: {}\".format(harf))"
   ],
   "id": "ac23120cf6702bb2",
   "outputs": [
    {
     "name": "stdout",
     "output_type": "stream",
     "text": [
      "Harf: M\n",
      "Harf: e\n",
      "Harf: r\n",
      "Harf: t\n",
      "Harf:  \n",
      "Harf: G\n",
      "Harf: ü\n",
      "Harf: n\n",
      "Harf: e\n",
      "Harf: y\n"
     ]
    }
   ],
   "execution_count": 40
  },
  {
   "metadata": {
    "ExecuteTime": {
     "end_time": "2025-02-08T07:30:53.687170Z",
     "start_time": "2025-02-08T07:30:53.677605Z"
    }
   },
   "cell_type": "code",
   "source": [
    "for num in range(6):\n",
    "    if num == 3:\n",
    "        continue\n",
    "    print(num)"
   ],
   "id": "9c17d0287701b64f",
   "outputs": [
    {
     "name": "stdout",
     "output_type": "stream",
     "text": [
      "0\n",
      "1\n",
      "2\n",
      "4\n",
      "5\n"
     ]
    }
   ],
   "execution_count": 41
  },
  {
   "metadata": {
    "ExecuteTime": {
     "end_time": "2025-02-08T07:31:37.803724Z",
     "start_time": "2025-02-08T07:31:37.795512Z"
    }
   },
   "cell_type": "code",
   "outputs": [
    {
     "name": "stdout",
     "output_type": "stream",
     "text": [
      "0\n",
      "1\n",
      "2\n"
     ]
    }
   ],
   "execution_count": 42,
   "source": [
    "for num in range(6):\n",
    "    if num == 3:\n",
    "        break\n",
    "    print(num)"
   ],
   "id": "1d473329ad6310ca"
  },
  {
   "metadata": {
    "ExecuteTime": {
     "end_time": "2025-02-08T07:42:48.963673Z",
     "start_time": "2025-02-08T07:42:48.949184Z"
    }
   },
   "cell_type": "code",
   "outputs": [
    {
     "name": "stdout",
     "output_type": "stream",
     "text": [
      "10\n",
      "9\n",
      "8\n",
      "7\n",
      "6\n",
      "5\n",
      "4\n",
      "3\n",
      "2\n",
      "1\n"
     ]
    }
   ],
   "execution_count": 44,
   "source": [
    "deger = 10\n",
    "while deger > 0:\n",
    "    print(deger)\n",
    "    deger -= 1\n",
    " #  deger = deger - 1"
   ],
   "id": "c002a27ee14c0a78"
  },
  {
   "metadata": {
    "ExecuteTime": {
     "end_time": "2025-02-08T07:45:32.123542Z",
     "start_time": "2025-02-08T07:45:32.107119Z"
    }
   },
   "cell_type": "code",
   "source": [
    "n = 5\n",
    "while n > 0:\n",
    "      n -= 1\n",
    "      if n == 2:\n",
    "          break\n",
    "      print(n)\n",
    "\n",
    "print('Loop sonlandı.')"
   ],
   "id": "204901a0f5874071",
   "outputs": [
    {
     "name": "stdout",
     "output_type": "stream",
     "text": [
      "4\n",
      "3\n",
      "Loop sonlandı.\n"
     ]
    }
   ],
   "execution_count": 45
  },
  {
   "metadata": {
    "ExecuteTime": {
     "end_time": "2025-02-08T08:03:53.026132Z",
     "start_time": "2025-02-08T08:03:53.001012Z"
    }
   },
   "cell_type": "code",
   "source": [
    "n = 5\n",
    "while n > 0:\n",
    "      n -= 1\n",
    "      if n == 2:\n",
    "          continue\n",
    "      print(n)\n",
    "\n",
    "print('Loop sonlandı')"
   ],
   "id": "e5b6da5e527c1e77",
   "outputs": [
    {
     "name": "stdout",
     "output_type": "stream",
     "text": [
      "4\n",
      "3\n",
      "1\n",
      "0\n",
      "Loop sonlandı\n"
     ]
    }
   ],
   "execution_count": 46
  },
  {
   "metadata": {
    "ExecuteTime": {
     "end_time": "2025-02-08T08:05:46.675280Z",
     "start_time": "2025-02-08T08:05:46.663185Z"
    }
   },
   "cell_type": "code",
   "source": [
    "isimler = [\"Ege\", \"Zafer\", \"Ege\", \"Ege\", \"Ayşe\"]\n",
    "while \"Ege\" in isimler:\n",
    "    isimler.remove(\"Ege\")\n",
    "    print(isimler)"
   ],
   "id": "b7cb8d64c5e7be69",
   "outputs": [
    {
     "name": "stdout",
     "output_type": "stream",
     "text": [
      "['Zafer', 'Ege', 'Ege', 'Ayşe']\n",
      "['Zafer', 'Ege', 'Ayşe']\n",
      "['Zafer', 'Ayşe']\n"
     ]
    }
   ],
   "execution_count": 47
  },
  {
   "metadata": {
    "ExecuteTime": {
     "end_time": "2025-02-08T08:08:49.436242Z",
     "start_time": "2025-02-08T08:08:49.423727Z"
    }
   },
   "cell_type": "code",
   "source": [
    "isimler = [\"Ege\", \"Zafer\", \"Ege\", \"Ege\", \"Ayşe\"]\n",
    "while \"Ege\" in isimler:\n",
    "      isimler.remove(\"Ege\")\n",
    "\n",
    "\n",
    "print(isimler)"
   ],
   "id": "53a30d4bde568b1e",
   "outputs": [
    {
     "name": "stdout",
     "output_type": "stream",
     "text": [
      "['Zafer', 'Ayşe']\n"
     ]
    }
   ],
   "execution_count": 48
  },
  {
   "metadata": {
    "ExecuteTime": {
     "end_time": "2025-02-08T08:27:17.142743Z",
     "start_time": "2025-02-08T08:27:17.126014Z"
    }
   },
   "cell_type": "code",
   "source": [
    "# dil = input(\"Hangi Dil? \")\n",
    "#\n",
    "# match dil:                                MATCH'i sürüm desteklemedi.\n",
    "#       case \"JavaScript\":\n",
    "#             print(\"js\")\n",
    "#\n",
    "#       case \"Python\":\n",
    "#             print(\"py\")\n",
    "#\n",
    "#       case \"PHP\":\n",
    "#             print(\"php\")\n",
    "#\n",
    "#       case \"c#\":\n",
    "#             print(\"Si sharp\")\n",
    "#\n",
    "#       case \"Java\":\n",
    "#             print(\"Java\")\n",
    "#       case _:\n",
    "#             print(\"Herhangi bir dil seçilmedi\")"
   ],
   "id": "420bea2477182e8a",
   "outputs": [],
   "execution_count": 49
  },
  {
   "metadata": {
    "ExecuteTime": {
     "end_time": "2025-02-08T08:27:27.266316Z",
     "start_time": "2025-02-08T08:27:27.258668Z"
    }
   },
   "cell_type": "code",
   "source": [
    "for i in range(2):\n",
    "      for j in range(3):\n",
    "            print( i, j )"
   ],
   "id": "93785e42fd3b66ff",
   "outputs": [
    {
     "name": "stdout",
     "output_type": "stream",
     "text": [
      "0 0\n",
      "0 1\n",
      "0 2\n",
      "1 0\n",
      "1 1\n",
      "1 2\n"
     ]
    }
   ],
   "execution_count": 50
  },
  {
   "metadata": {
    "ExecuteTime": {
     "end_time": "2025-02-08T08:27:58.453675Z",
     "start_time": "2025-02-08T08:27:58.441775Z"
    }
   },
   "cell_type": "code",
   "source": [
    "sayilar = [5, 3, 9]\n",
    "print(min(sayilar))\n",
    "print(max(sayilar))\n",
    "print(sum(sayilar))"
   ],
   "id": "d2a86244764bf50c",
   "outputs": [
    {
     "name": "stdout",
     "output_type": "stream",
     "text": [
      "3\n",
      "9\n",
      "17\n"
     ]
    }
   ],
   "execution_count": 51
  },
  {
   "metadata": {
    "ExecuteTime": {
     "end_time": "2025-02-08T08:30:31.331049Z",
     "start_time": "2025-02-08T08:30:31.318692Z"
    }
   },
   "cell_type": "code",
   "source": [
    "sayilar = [5, 0, 8, 3]\n",
    "sayilar.sort(reverse=True)\n",
    "sayilar"
   ],
   "id": "e082424a97207ae3",
   "outputs": [
    {
     "data": {
      "text/plain": [
       "[8, 5, 3, 0]"
      ]
     },
     "execution_count": 58,
     "metadata": {},
     "output_type": "execute_result"
    }
   ],
   "execution_count": 58
  },
  {
   "metadata": {},
   "cell_type": "markdown",
   "source": "# Fonksiyonlar",
   "id": "c2c64dccdd2b93e8"
  },
  {
   "metadata": {
    "ExecuteTime": {
     "end_time": "2025-02-08T08:38:47.236339Z",
     "start_time": "2025-02-08T08:38:47.219465Z"
    }
   },
   "cell_type": "code",
   "source": [
    "print(\"merhaba\")\n",
    "\n",
    "\n",
    "\n",
    "print(\"merhaba\")\n",
    "\n",
    "\n",
    "\n",
    "\n",
    "print(\"merhaba\")\n",
    "\n",
    "\n",
    "\n",
    "print(\"merhaba\")\n",
    "\n",
    "print(\"merhaba\")"
   ],
   "id": "99446bda99a9f376",
   "outputs": [
    {
     "name": "stdout",
     "output_type": "stream",
     "text": [
      "merhaba\n",
      "merhaba\n",
      "merhaba\n",
      "merhaba\n",
      "merhaba\n"
     ]
    }
   ],
   "execution_count": 59
  },
  {
   "metadata": {
    "ExecuteTime": {
     "end_time": "2025-02-08T08:38:58.995719Z",
     "start_time": "2025-02-08T08:38:58.986528Z"
    }
   },
   "cell_type": "code",
   "source": [
    "def mesaj():\n",
    "  print(\"Günaydın\")\n",
    "\n",
    "\n",
    "mesaj()\n",
    "mesaj()\n",
    "\n",
    "\n",
    "mesaj()\n",
    "\n",
    "\n",
    "mesaj()\n",
    "\n",
    "mesaj()\n",
    "\n",
    "mesaj()"
   ],
   "id": "5daec837cf099bd8",
   "outputs": [
    {
     "name": "stdout",
     "output_type": "stream",
     "text": [
      "Günaydın\n",
      "Günaydın\n",
      "Günaydın\n",
      "Günaydın\n",
      "Günaydın\n",
      "Günaydın\n"
     ]
    }
   ],
   "execution_count": 60
  },
  {
   "metadata": {},
   "cell_type": "code",
   "outputs": [],
   "execution_count": null,
   "source": "",
   "id": "84e0d028bc58ed86"
  },
  {
   "metadata": {
    "ExecuteTime": {
     "end_time": "2025-02-08T09:15:40.335411Z",
     "start_time": "2025-02-08T09:15:40.329443Z"
    }
   },
   "cell_type": "code",
   "source": [
    "def hesap(x, y):\n",
    "    print(x + y)\n",
    "\n",
    "hesap(5, 10)\n",
    "\n",
    "hesap(1235, 5879)"
   ],
   "id": "f0d3260e705b329c",
   "outputs": [
    {
     "name": "stdout",
     "output_type": "stream",
     "text": [
      "15\n",
      "7114\n"
     ]
    }
   ],
   "execution_count": 62
  },
  {
   "metadata": {
    "ExecuteTime": {
     "end_time": "2025-02-08T09:26:29.178198Z",
     "start_time": "2025-02-08T09:26:24.164208Z"
    }
   },
   "cell_type": "code",
   "source": [
    "def mesaj(isim):\n",
    "    print(\"Günaydın\", isim)\n",
    "\n",
    "ad = input(\"isim\")\n",
    "mesaj(ad)"
   ],
   "id": "2d703814deceacf0",
   "outputs": [
    {
     "name": "stdout",
     "output_type": "stream",
     "text": [
      "Günaydın Mert\n"
     ]
    }
   ],
   "execution_count": 67
  },
  {
   "metadata": {
    "ExecuteTime": {
     "end_time": "2025-02-08T09:27:31.428615Z",
     "start_time": "2025-02-08T09:27:31.415072Z"
    }
   },
   "cell_type": "code",
   "source": [
    "def isim_yazdir(isim):\n",
    "    print(\"İsmin: {}\".format(isim))\n",
    "\n",
    "isim_yazdir(\"Mert Güney\")\n",
    "isim_yazdir(\"Kemal Güney\")"
   ],
   "id": "d0c117d551195ef0",
   "outputs": [
    {
     "name": "stdout",
     "output_type": "stream",
     "text": [
      "İsmin: Mert Güney\n",
      "İsmin: Kemal Güney\n"
     ]
    }
   ],
   "execution_count": 68
  },
  {
   "metadata": {
    "ExecuteTime": {
     "end_time": "2025-02-08T09:28:21.406856Z",
     "start_time": "2025-02-08T09:28:21.401078Z"
    }
   },
   "cell_type": "code",
   "source": [
    "def sayi_ekle(sayi1, sayi2):\n",
    "    return sayi1 + sayi2\n",
    "\n",
    "num = sayi_ekle(5.5, 4.5)\n",
    "print(num)"
   ],
   "id": "93d7648cdc63c32a",
   "outputs": [
    {
     "name": "stdout",
     "output_type": "stream",
     "text": [
      "10.0\n"
     ]
    }
   ],
   "execution_count": 70
  },
  {
   "metadata": {
    "ExecuteTime": {
     "end_time": "2025-02-08T10:02:20.573789Z",
     "start_time": "2025-02-08T10:02:20.553896Z"
    }
   },
   "cell_type": "code",
   "source": [
    "def sayi_ekle(sayi1:int , sayi2:int):\n",
    "      return sayi1 + sayi2\n",
    "\n",
    "\n",
    "\n",
    "num = sayi_ekle(\"zafer \", \"demirkol\")\n",
    "\n",
    "\n",
    "print(num)"
   ],
   "id": "692230b8b4cab1b7",
   "outputs": [
    {
     "name": "stdout",
     "output_type": "stream",
     "text": [
      "zafer demirkol\n"
     ]
    }
   ],
   "execution_count": 71
  }
 ],
 "metadata": {
  "kernelspec": {
   "display_name": "Python 3",
   "language": "python",
   "name": "python3"
  },
  "language_info": {
   "codemirror_mode": {
    "name": "ipython",
    "version": 2
   },
   "file_extension": ".py",
   "mimetype": "text/x-python",
   "name": "python",
   "nbconvert_exporter": "python",
   "pygments_lexer": "ipython2",
   "version": "2.7.6"
  }
 },
 "nbformat": 4,
 "nbformat_minor": 5
}
