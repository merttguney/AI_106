{
 "cells": [
  {
   "cell_type": "code",
   "id": "initial_id",
   "metadata": {
    "collapsed": true,
    "ExecuteTime": {
     "end_time": "2025-02-08T06:20:34.447471Z",
     "start_time": "2025-02-08T06:20:34.443223Z"
    }
   },
   "source": [
    "data = [5, \"kitap\", \"Merhaba\", True]\n",
    "data = [5, \"kitap\", [34, \"Merhaba\"], True]"
   ],
   "outputs": [],
   "execution_count": 1
  },
  {
   "metadata": {
    "ExecuteTime": {
     "end_time": "2025-02-08T06:21:05.093848Z",
     "start_time": "2025-02-08T06:21:05.087831Z"
    }
   },
   "cell_type": "code",
   "source": "data[2]",
   "id": "f8e473b9a76bacae",
   "outputs": [
    {
     "data": {
      "text/plain": [
       "[34, 'Merhaba']"
      ]
     },
     "execution_count": 3,
     "metadata": {},
     "output_type": "execute_result"
    }
   ],
   "execution_count": 3
  },
  {
   "metadata": {
    "ExecuteTime": {
     "end_time": "2025-02-08T06:21:55.782394Z",
     "start_time": "2025-02-08T06:21:55.771115Z"
    }
   },
   "cell_type": "code",
   "source": "data[2][1]",
   "id": "25f2f6870d921fec",
   "outputs": [
    {
     "data": {
      "text/plain": [
       "'Merhaba'"
      ]
     },
     "execution_count": 4,
     "metadata": {},
     "output_type": "execute_result"
    }
   ],
   "execution_count": 4
  },
  {
   "metadata": {},
   "cell_type": "markdown",
   "source": "Koşul",
   "id": "cc637f24ba6514ad"
  },
  {
   "metadata": {
    "ExecuteTime": {
     "end_time": "2025-02-08T06:25:33.332791Z",
     "start_time": "2025-02-08T06:25:24.363810Z"
    }
   },
   "cell_type": "code",
   "source": [
    "ad = input(\"İsmin nedir? \")\n",
    "print(\"Merhaba \", ad)"
   ],
   "id": "a472f3580ee1a9b5",
   "outputs": [
    {
     "name": "stdout",
     "output_type": "stream",
     "text": [
      "Merhaba  Mert\n"
     ]
    }
   ],
   "execution_count": 6
  },
  {
   "metadata": {
    "ExecuteTime": {
     "end_time": "2025-02-08T06:27:59.610354Z",
     "start_time": "2025-02-08T06:27:54.107734Z"
    }
   },
   "cell_type": "code",
   "source": [
    "yas = input(\"Yaşınız? \")\n",
    "sonuc = int(yas) - 3\n",
    "print(sonuc)"
   ],
   "id": "63597e18bb8f0321",
   "outputs": [
    {
     "name": "stdout",
     "output_type": "stream",
     "text": [
      "16\n"
     ]
    }
   ],
   "execution_count": 7
  },
  {
   "metadata": {
    "ExecuteTime": {
     "end_time": "2025-02-08T06:29:27.662270Z",
     "start_time": "2025-02-08T06:29:27.658403Z"
    }
   },
   "cell_type": "code",
   "source": [
    "# ==\n",
    "# !=\n",
    "# >\n",
    "# <\n",
    "# >=\n",
    "# <="
   ],
   "id": "b9f8d1168a6e3ab5",
   "outputs": [],
   "execution_count": 11
  },
  {
   "metadata": {
    "ExecuteTime": {
     "end_time": "2025-02-08T06:30:12.790813Z",
     "start_time": "2025-02-08T06:30:12.784952Z"
    }
   },
   "cell_type": "code",
   "source": [
    "print(2 == 2)\n",
    "print(2 != 3)\n",
    "print(2 > 3)\n",
    "print(3 >= 3)"
   ],
   "id": "fdd8063ae792f276",
   "outputs": [
    {
     "name": "stdout",
     "output_type": "stream",
     "text": [
      "True\n",
      "True\n",
      "False\n",
      "True\n"
     ]
    }
   ],
   "execution_count": 12
  },
  {
   "metadata": {
    "ExecuteTime": {
     "end_time": "2025-02-08T06:35:19.646640Z",
     "start_time": "2025-02-08T06:35:19.638464Z"
    }
   },
   "cell_type": "code",
   "source": [
    "x, y = 5, 10\n",
    "if x < y:\n",
    "      print(\"x, y den küçüktür \")\n",
    "\n",
    "print(\"Evrensel akışa ait kodlar\")\n",
    "# Python dilinde {} kullanımı yoktur"
   ],
   "id": "2dadfed227d63f4f",
   "outputs": [
    {
     "name": "stdout",
     "output_type": "stream",
     "text": [
      "x, y den küçüktür \n",
      "Evrensel akışa ait kodlar\n"
     ]
    }
   ],
   "execution_count": 15
  },
  {
   "metadata": {
    "ExecuteTime": {
     "end_time": "2025-02-08T06:37:14.350947Z",
     "start_time": "2025-02-08T06:37:10.108043Z"
    }
   },
   "cell_type": "code",
   "source": [
    "cevap = int(input(\"5 + 5 nedir? \"))\n",
    "if cevap == 10:\n",
    "    print(\"Doğru cevap tebrikler!\")"
   ],
   "id": "2812f2316509d89b",
   "outputs": [
    {
     "name": "stdout",
     "output_type": "stream",
     "text": [
      "Doğru cevap tebrikler!\n"
     ]
    }
   ],
   "execution_count": 16
  },
  {
   "metadata": {
    "ExecuteTime": {
     "end_time": "2025-02-08T06:39:38.592160Z",
     "start_time": "2025-02-08T06:39:38.572663Z"
    }
   },
   "cell_type": "code",
   "source": [
    "x, y,z = 5, 10, 5\n",
    "if x < y and x == z:\n",
    "    print(\"Her iki koşulda doğrudur\")\n",
    "\n",
    "print(\"Evrensel akışa ait kodlar\")"
   ],
   "id": "e10ca48b39f32c22",
   "outputs": [
    {
     "name": "stdout",
     "output_type": "stream",
     "text": [
      "Her iki koşulda doğrudur\n",
      "Evrensel akışa ait kodlar\n"
     ]
    }
   ],
   "execution_count": 17
  },
  {
   "metadata": {
    "ExecuteTime": {
     "end_time": "2025-02-08T06:44:02.914919Z",
     "start_time": "2025-02-08T06:44:02.896476Z"
    }
   },
   "cell_type": "code",
   "source": [
    "x, y, z = 5, 10, 5\n",
    "if x < y or x != z:\n",
    "    print(\"Bir veya daha fazla koşul doğru\")"
   ],
   "id": "9df5662e6ea23e27",
   "outputs": [
    {
     "name": "stdout",
     "output_type": "stream",
     "text": [
      "Bir veya daha fazla koşul doğru\n"
     ]
    }
   ],
   "execution_count": 18
  },
  {
   "metadata": {
    "ExecuteTime": {
     "end_time": "2025-02-08T06:44:54.361036Z",
     "start_time": "2025-02-08T06:44:54.354987Z"
    }
   },
   "cell_type": "code",
   "source": [
    "isimler = [\"Zafer\", \"Ege\", \"Tamer\"]\n",
    "\n",
    "if \"Zafer\" in isimler:\n",
    "    print(\"Bulundu\")"
   ],
   "id": "c337e00452243996",
   "outputs": [
    {
     "name": "stdout",
     "output_type": "stream",
     "text": [
      "Bulundu\n"
     ]
    }
   ],
   "execution_count": 20
  },
  {
   "metadata": {
    "ExecuteTime": {
     "end_time": "2025-02-08T06:46:24.353864Z",
     "start_time": "2025-02-08T06:46:24.342384Z"
    }
   },
   "cell_type": "code",
   "source": [
    "if \"Ayşe\" not in isimler:\n",
    "    print(\"Bulunamadı\")"
   ],
   "id": "77bfce1a16d4a076",
   "outputs": [
    {
     "name": "stdout",
     "output_type": "stream",
     "text": [
      "Bulunamadı\n"
     ]
    }
   ],
   "execution_count": 21
  },
  {
   "metadata": {
    "ExecuteTime": {
     "end_time": "2025-02-08T07:04:30.900916Z",
     "start_time": "2025-02-08T07:04:30.884721Z"
    }
   },
   "cell_type": "code",
   "outputs": [
    {
     "name": "stdout",
     "output_type": "stream",
     "text": [
      "Basketbol kelimesinde b karakteri vardır\n"
     ]
    }
   ],
   "execution_count": 23,
   "source": [
    "kelime = \"Basketbol\"\n",
    "if \"b\" in kelime:\n",
    "    print(\"{} kelimesinde b karakteri vardır\".format(kelime))"
   ],
   "id": "c35496d8057dfec7"
  },
  {
   "metadata": {
    "ExecuteTime": {
     "end_time": "2025-02-08T07:05:16.002277Z",
     "start_time": "2025-02-08T07:05:15.986730Z"
    }
   },
   "cell_type": "code",
   "outputs": [
    {
     "name": "stdout",
     "output_type": "stream",
     "text": [
      "Basketbol kelimesi x karakteri barındırmıyor\n"
     ]
    }
   ],
   "execution_count": 24,
   "source": [
    "kelime = \"Basketbol\"\n",
    "if \"x\" not in kelime:\n",
    "    print(f\"{kelime} kelimesi x karakteri barındırmıyor\")"
   ],
   "id": "ba67251fe52d6800"
  },
  {
   "metadata": {
    "ExecuteTime": {
     "end_time": "2025-02-08T07:08:48.611056Z",
     "start_time": "2025-02-08T07:08:48.600578Z"
    }
   },
   "cell_type": "code",
   "source": [
    "x, y = 5, 10\n",
    "if x > y:\n",
    "    print(\"x, y'den büyüktür\")\n",
    "elif x < y:\n",
    "    print(\"x, y'den küçüktür\")"
   ],
   "id": "6d53db65cda9896c",
   "outputs": [
    {
     "name": "stdout",
     "output_type": "stream",
     "text": [
      "x, y'den küçüktür\n"
     ]
    }
   ],
   "execution_count": 25
  },
  {
   "metadata": {
    "ExecuteTime": {
     "end_time": "2025-02-08T07:13:04.342532Z",
     "start_time": "2025-02-08T07:13:04.333820Z"
    }
   },
   "cell_type": "code",
   "source": [
    "if x > y:\n",
    "    print(\"x büyüktür\")\n",
    "elif (x + 10) < y:\n",
    "    print(\"y, 15'ten büyüktür\")\n",
    "elif (x + 5) == y:\n",
    "    print(\"Eşit\")"
   ],
   "id": "8b0fbebc57cc1e71",
   "outputs": [
    {
     "name": "stdout",
     "output_type": "stream",
     "text": [
      "Eşit\n"
     ]
    }
   ],
   "execution_count": 27
  },
  {
   "metadata": {
    "ExecuteTime": {
     "end_time": "2025-02-08T07:15:18.673068Z",
     "start_time": "2025-02-08T07:15:18.660695Z"
    }
   },
   "cell_type": "code",
   "source": [
    "ad = \"Cafer\"\n",
    "if ad[0] == \"A\":\n",
    "      print(\"Ad A ile başlıyor\")\n",
    "elif ad[0] == \"B\":\n",
    "      print(\"Ad B ile başlıyor\")\n",
    "elif ad[0] == \"Z\":\n",
    "      print(\"Ad Z ile başlıyor\")\n",
    "else:\n",
    "      print(\"Ad {} ile başlıyor\".format(ad[0]))"
   ],
   "id": "1261b93047de61bc",
   "outputs": [
    {
     "name": "stdout",
     "output_type": "stream",
     "text": [
      "Ad C ile başlıyor\n"
     ]
    }
   ],
   "execution_count": 28
  },
  {
   "metadata": {
    "ExecuteTime": {
     "end_time": "2025-02-08T07:22:05.712855Z",
     "start_time": "2025-02-08T07:22:05.699056Z"
    }
   },
   "cell_type": "code",
   "source": [
    "x, y, z = 5, 10, 5\n",
    "\n",
    "if x > y:\n",
    "      print(\"büyüktür\")\n",
    "elif x <= y:\n",
    "      if x == z:\n",
    "            print(\"x, z'ye eşittir\")\n",
    "      elif x != z:\n",
    "            print(\"x, z'ye eşit değildir\")"
   ],
   "id": "b1886da5b0d1af7",
   "outputs": [
    {
     "name": "stdout",
     "output_type": "stream",
     "text": [
      "x, z'ye eşittir\n"
     ]
    }
   ],
   "execution_count": 32
  },
  {
   "metadata": {},
   "cell_type": "markdown",
   "source": "Döngüler\n",
   "id": "74da8ea2a3867dcc"
  },
  {
   "metadata": {
    "ExecuteTime": {
     "end_time": "2025-02-08T07:22:15.456167Z",
     "start_time": "2025-02-08T07:22:15.447617Z"
    }
   },
   "cell_type": "code",
   "source": "list(range(5))",
   "id": "d9f332486f7d4a3b",
   "outputs": [
    {
     "data": {
      "text/plain": [
       "[0, 1, 2, 3, 4]"
      ]
     },
     "execution_count": 33,
     "metadata": {},
     "output_type": "execute_result"
    }
   ],
   "execution_count": 33
  },
  {
   "metadata": {
    "ExecuteTime": {
     "end_time": "2025-02-08T07:23:40.271718Z",
     "start_time": "2025-02-08T07:23:40.252288Z"
    }
   },
   "cell_type": "code",
   "source": [
    "for num in range(5):\n",
    "    print(\"Değer: \", num)"
   ],
   "id": "e286b83cd0b61d4a",
   "outputs": [
    {
     "name": "stdout",
     "output_type": "stream",
     "text": [
      "Değer:  0\n",
      "Değer:  1\n",
      "Değer:  2\n",
      "Değer:  3\n",
      "Değer:  4\n"
     ]
    }
   ],
   "execution_count": 35
  },
  {
   "metadata": {
    "ExecuteTime": {
     "end_time": "2025-02-08T07:24:03.879345Z",
     "start_time": "2025-02-08T07:24:03.871386Z"
    }
   },
   "cell_type": "code",
   "source": "list(range(2,10, 2))",
   "id": "80e5c2af6141769",
   "outputs": [
    {
     "data": {
      "text/plain": [
       "[2, 4, 6, 8]"
      ]
     },
     "execution_count": 36,
     "metadata": {},
     "output_type": "execute_result"
    }
   ],
   "execution_count": 36
  },
  {
   "metadata": {
    "ExecuteTime": {
     "end_time": "2025-02-08T07:24:41.596827Z",
     "start_time": "2025-02-08T07:24:41.592824Z"
    }
   },
   "cell_type": "code",
   "source": [
    "for num in range(2,10, 2):\n",
    "    print(\"Değer: \", num)"
   ],
   "id": "112101c15456a9f4",
   "outputs": [
    {
     "name": "stdout",
     "output_type": "stream",
     "text": [
      "Değer:  2\n",
      "Değer:  4\n",
      "Değer:  6\n",
      "Değer:  8\n"
     ]
    }
   ],
   "execution_count": 37
  },
  {
   "metadata": {
    "ExecuteTime": {
     "end_time": "2025-02-08T07:26:37.530496Z",
     "start_time": "2025-02-08T07:26:37.520446Z"
    }
   },
   "cell_type": "code",
   "source": [
    "sporlar = [\"Futbol\", \"Basketbol\", \"Tenis\", \"Yüzme\"]\n",
    "for spor in sporlar:\n",
    "    print(spor)"
   ],
   "id": "1805cd2adc0c1ed1",
   "outputs": [
    {
     "name": "stdout",
     "output_type": "stream",
     "text": [
      "Futbol\n",
      "Basketbol\n",
      "Tenis\n",
      "Yüzme\n"
     ]
    }
   ],
   "execution_count": 39
  },
  {
   "metadata": {
    "ExecuteTime": {
     "end_time": "2025-02-08T07:27:48.086462Z",
     "start_time": "2025-02-08T07:27:48.064870Z"
    }
   },
   "cell_type": "code",
   "source": [
    "ad = \"Mert Güney\"\n",
    "for harf in ad:\n",
    "    print(\"Harf: {}\".format(harf))"
   ],
   "id": "ac23120cf6702bb2",
   "outputs": [
    {
     "name": "stdout",
     "output_type": "stream",
     "text": [
      "Harf: M\n",
      "Harf: e\n",
      "Harf: r\n",
      "Harf: t\n",
      "Harf:  \n",
      "Harf: G\n",
      "Harf: ü\n",
      "Harf: n\n",
      "Harf: e\n",
      "Harf: y\n"
     ]
    }
   ],
   "execution_count": 40
  },
  {
   "metadata": {
    "ExecuteTime": {
     "end_time": "2025-02-08T07:30:53.687170Z",
     "start_time": "2025-02-08T07:30:53.677605Z"
    }
   },
   "cell_type": "code",
   "source": [
    "for num in range(6):\n",
    "    if num == 3:\n",
    "        continue\n",
    "    print(num)"
   ],
   "id": "9c17d0287701b64f",
   "outputs": [
    {
     "name": "stdout",
     "output_type": "stream",
     "text": [
      "0\n",
      "1\n",
      "2\n",
      "4\n",
      "5\n"
     ]
    }
   ],
   "execution_count": 41
  },
  {
   "metadata": {
    "ExecuteTime": {
     "end_time": "2025-02-08T07:31:37.803724Z",
     "start_time": "2025-02-08T07:31:37.795512Z"
    }
   },
   "cell_type": "code",
   "outputs": [
    {
     "name": "stdout",
     "output_type": "stream",
     "text": [
      "0\n",
      "1\n",
      "2\n"
     ]
    }
   ],
   "execution_count": 42,
   "source": [
    "for num in range(6):\n",
    "    if num == 3:\n",
    "        break\n",
    "    print(num)"
   ],
   "id": "1d473329ad6310ca"
  },
  {
   "metadata": {
    "ExecuteTime": {
     "end_time": "2025-02-08T07:42:48.963673Z",
     "start_time": "2025-02-08T07:42:48.949184Z"
    }
   },
   "cell_type": "code",
   "outputs": [
    {
     "name": "stdout",
     "output_type": "stream",
     "text": [
      "10\n",
      "9\n",
      "8\n",
      "7\n",
      "6\n",
      "5\n",
      "4\n",
      "3\n",
      "2\n",
      "1\n"
     ]
    }
   ],
   "execution_count": 44,
   "source": [
    "deger = 10\n",
    "while deger > 0:\n",
    "    print(deger)\n",
    "    deger -= 1\n",
    " #  deger = deger - 1"
   ],
   "id": "c002a27ee14c0a78"
  },
  {
   "metadata": {
    "ExecuteTime": {
     "end_time": "2025-02-08T07:45:32.123542Z",
     "start_time": "2025-02-08T07:45:32.107119Z"
    }
   },
   "cell_type": "code",
   "source": [
    "n = 5\n",
    "while n > 0:\n",
    "      n -= 1\n",
    "      if n == 2:\n",
    "          break\n",
    "      print(n)\n",
    "\n",
    "print('Loop sonlandı.')"
   ],
   "id": "204901a0f5874071",
   "outputs": [
    {
     "name": "stdout",
     "output_type": "stream",
     "text": [
      "4\n",
      "3\n",
      "Loop sonlandı.\n"
     ]
    }
   ],
   "execution_count": 45
  },
  {
   "metadata": {
    "ExecuteTime": {
     "end_time": "2025-02-08T08:03:53.026132Z",
     "start_time": "2025-02-08T08:03:53.001012Z"
    }
   },
   "cell_type": "code",
   "source": [
    "n = 5\n",
    "while n > 0:\n",
    "      n -= 1\n",
    "      if n == 2:\n",
    "          continue\n",
    "      print(n)\n",
    "\n",
    "print('Loop sonlandı')"
   ],
   "id": "e5b6da5e527c1e77",
   "outputs": [
    {
     "name": "stdout",
     "output_type": "stream",
     "text": [
      "4\n",
      "3\n",
      "1\n",
      "0\n",
      "Loop sonlandı\n"
     ]
    }
   ],
   "execution_count": 46
  },
  {
   "metadata": {
    "ExecuteTime": {
     "end_time": "2025-02-08T08:05:46.675280Z",
     "start_time": "2025-02-08T08:05:46.663185Z"
    }
   },
   "cell_type": "code",
   "source": [
    "isimler = [\"Ege\", \"Zafer\", \"Ege\", \"Ege\", \"Ayşe\"]\n",
    "while \"Ege\" in isimler:\n",
    "    isimler.remove(\"Ege\")\n",
    "    print(isimler)"
   ],
   "id": "b7cb8d64c5e7be69",
   "outputs": [
    {
     "name": "stdout",
     "output_type": "stream",
     "text": [
      "['Zafer', 'Ege', 'Ege', 'Ayşe']\n",
      "['Zafer', 'Ege', 'Ayşe']\n",
      "['Zafer', 'Ayşe']\n"
     ]
    }
   ],
   "execution_count": 47
  },
  {
   "metadata": {
    "ExecuteTime": {
     "end_time": "2025-02-08T08:08:49.436242Z",
     "start_time": "2025-02-08T08:08:49.423727Z"
    }
   },
   "cell_type": "code",
   "source": [
    "isimler = [\"Ege\", \"Zafer\", \"Ege\", \"Ege\", \"Ayşe\"]\n",
    "while \"Ege\" in isimler:\n",
    "      isimler.remove(\"Ege\")\n",
    "\n",
    "\n",
    "print(isimler)"
   ],
   "id": "53a30d4bde568b1e",
   "outputs": [
    {
     "name": "stdout",
     "output_type": "stream",
     "text": [
      "['Zafer', 'Ayşe']\n"
     ]
    }
   ],
   "execution_count": 48
  },
  {
   "metadata": {
    "ExecuteTime": {
     "end_time": "2025-02-08T08:27:17.142743Z",
     "start_time": "2025-02-08T08:27:17.126014Z"
    }
   },
   "cell_type": "code",
   "source": [
    "# dil = input(\"Hangi Dil? \")\n",
    "#\n",
    "# match dil:                                MATCH'i sürüm desteklemedi.\n",
    "#       case \"JavaScript\":\n",
    "#             print(\"js\")\n",
    "#\n",
    "#       case \"Python\":\n",
    "#             print(\"py\")\n",
    "#\n",
    "#       case \"PHP\":\n",
    "#             print(\"php\")\n",
    "#\n",
    "#       case \"c#\":\n",
    "#             print(\"Si sharp\")\n",
    "#\n",
    "#       case \"Java\":\n",
    "#             print(\"Java\")\n",
    "#       case _:\n",
    "#             print(\"Herhangi bir dil seçilmedi\")"
   ],
   "id": "420bea2477182e8a",
   "outputs": [],
   "execution_count": 49
  },
  {
   "metadata": {
    "ExecuteTime": {
     "end_time": "2025-02-08T08:27:27.266316Z",
     "start_time": "2025-02-08T08:27:27.258668Z"
    }
   },
   "cell_type": "code",
   "source": [
    "for i in range(2):\n",
    "      for j in range(3):\n",
    "            print( i, j )"
   ],
   "id": "93785e42fd3b66ff",
   "outputs": [
    {
     "name": "stdout",
     "output_type": "stream",
     "text": [
      "0 0\n",
      "0 1\n",
      "0 2\n",
      "1 0\n",
      "1 1\n",
      "1 2\n"
     ]
    }
   ],
   "execution_count": 50
  },
  {
   "metadata": {
    "ExecuteTime": {
     "end_time": "2025-02-08T08:27:58.453675Z",
     "start_time": "2025-02-08T08:27:58.441775Z"
    }
   },
   "cell_type": "code",
   "source": [
    "sayilar = [5, 3, 9]\n",
    "print(min(sayilar))\n",
    "print(max(sayilar))\n",
    "print(sum(sayilar))"
   ],
   "id": "d2a86244764bf50c",
   "outputs": [
    {
     "name": "stdout",
     "output_type": "stream",
     "text": [
      "3\n",
      "9\n",
      "17\n"
     ]
    }
   ],
   "execution_count": 51
  },
  {
   "metadata": {
    "ExecuteTime": {
     "end_time": "2025-02-08T08:30:31.331049Z",
     "start_time": "2025-02-08T08:30:31.318692Z"
    }
   },
   "cell_type": "code",
   "source": [
    "sayilar = [5, 0, 8, 3]\n",
    "sayilar.sort(reverse=True)\n",
    "sayilar"
   ],
   "id": "e082424a97207ae3",
   "outputs": [
    {
     "data": {
      "text/plain": [
       "[8, 5, 3, 0]"
      ]
     },
     "execution_count": 58,
     "metadata": {},
     "output_type": "execute_result"
    }
   ],
   "execution_count": 58
  },
  {
   "metadata": {},
   "cell_type": "markdown",
   "source": "# Fonksiyonlar",
   "id": "c2c64dccdd2b93e8"
  },
  {
   "metadata": {
    "ExecuteTime": {
     "end_time": "2025-02-08T08:38:47.236339Z",
     "start_time": "2025-02-08T08:38:47.219465Z"
    }
   },
   "cell_type": "code",
   "source": [
    "print(\"merhaba\")\n",
    "\n",
    "\n",
    "\n",
    "print(\"merhaba\")\n",
    "\n",
    "\n",
    "\n",
    "\n",
    "print(\"merhaba\")\n",
    "\n",
    "\n",
    "\n",
    "print(\"merhaba\")\n",
    "\n",
    "print(\"merhaba\")"
   ],
   "id": "99446bda99a9f376",
   "outputs": [
    {
     "name": "stdout",
     "output_type": "stream",
     "text": [
      "merhaba\n",
      "merhaba\n",
      "merhaba\n",
      "merhaba\n",
      "merhaba\n"
     ]
    }
   ],
   "execution_count": 59
  },
  {
   "metadata": {
    "ExecuteTime": {
     "end_time": "2025-02-08T08:38:58.995719Z",
     "start_time": "2025-02-08T08:38:58.986528Z"
    }
   },
   "cell_type": "code",
   "source": [
    "def mesaj():\n",
    "  print(\"Günaydın\")\n",
    "\n",
    "\n",
    "mesaj()\n",
    "mesaj()\n",
    "\n",
    "\n",
    "mesaj()\n",
    "\n",
    "\n",
    "mesaj()\n",
    "\n",
    "mesaj()\n",
    "\n",
    "mesaj()"
   ],
   "id": "5daec837cf099bd8",
   "outputs": [
    {
     "name": "stdout",
     "output_type": "stream",
     "text": [
      "Günaydın\n",
      "Günaydın\n",
      "Günaydın\n",
      "Günaydın\n",
      "Günaydın\n",
      "Günaydın\n"
     ]
    }
   ],
   "execution_count": 60
  },
  {
   "metadata": {},
   "cell_type": "code",
   "outputs": [],
   "execution_count": null,
   "source": "",
   "id": "84e0d028bc58ed86"
  },
  {
   "metadata": {
    "ExecuteTime": {
     "end_time": "2025-02-08T09:15:40.335411Z",
     "start_time": "2025-02-08T09:15:40.329443Z"
    }
   },
   "cell_type": "code",
   "source": [
    "def hesap(x, y):\n",
    "    print(x + y)\n",
    "\n",
    "hesap(5, 10)\n",
    "\n",
    "hesap(1235, 5879)"
   ],
   "id": "f0d3260e705b329c",
   "outputs": [
    {
     "name": "stdout",
     "output_type": "stream",
     "text": [
      "15\n",
      "7114\n"
     ]
    }
   ],
   "execution_count": 62
  },
  {
   "metadata": {
    "ExecuteTime": {
     "end_time": "2025-02-08T09:26:29.178198Z",
     "start_time": "2025-02-08T09:26:24.164208Z"
    }
   },
   "cell_type": "code",
   "source": [
    "def mesaj(isim):\n",
    "    print(\"Günaydın\", isim)\n",
    "\n",
    "ad = input(\"isim\")\n",
    "mesaj(ad)"
   ],
   "id": "2d703814deceacf0",
   "outputs": [
    {
     "name": "stdout",
     "output_type": "stream",
     "text": [
      "Günaydın Mert\n"
     ]
    }
   ],
   "execution_count": 67
  },
  {
   "metadata": {
    "ExecuteTime": {
     "end_time": "2025-02-08T09:27:31.428615Z",
     "start_time": "2025-02-08T09:27:31.415072Z"
    }
   },
   "cell_type": "code",
   "source": [
    "def isim_yazdir(isim):\n",
    "    print(\"İsmin: {}\".format(isim))\n",
    "\n",
    "isim_yazdir(\"Mert Güney\")\n",
    "isim_yazdir(\"Kemal Güney\")"
   ],
   "id": "d0c117d551195ef0",
   "outputs": [
    {
     "name": "stdout",
     "output_type": "stream",
     "text": [
      "İsmin: Mert Güney\n",
      "İsmin: Kemal Güney\n"
     ]
    }
   ],
   "execution_count": 68
  },
  {
   "metadata": {
    "ExecuteTime": {
     "end_time": "2025-02-08T09:28:21.406856Z",
     "start_time": "2025-02-08T09:28:21.401078Z"
    }
   },
   "cell_type": "code",
   "source": [
    "def sayi_ekle(sayi1, sayi2):\n",
    "    return sayi1 + sayi2\n",
    "\n",
    "num = sayi_ekle(5.5, 4.5)\n",
    "print(num)"
   ],
   "id": "93d7648cdc63c32a",
   "outputs": [
    {
     "name": "stdout",
     "output_type": "stream",
     "text": [
      "10.0\n"
     ]
    }
   ],
   "execution_count": 70
  },
  {
   "metadata": {
    "ExecuteTime": {
     "end_time": "2025-02-08T10:02:20.573789Z",
     "start_time": "2025-02-08T10:02:20.553896Z"
    }
   },
   "cell_type": "code",
   "source": [
    "def sayi_ekle(sayi1:int , sayi2:int):\n",
    "      return sayi1 + sayi2\n",
    "\n",
    "\n",
    "\n",
    "num = sayi_ekle(\"zafer \", \"demirkol\")\n",
    "\n",
    "\n",
    "print(num)"
   ],
   "id": "692230b8b4cab1b7",
   "outputs": [
    {
     "name": "stdout",
     "output_type": "stream",
     "text": [
      "zafer demirkol\n"
     ]
    }
   ],
   "execution_count": 71
  },
  {
   "metadata": {
    "ExecuteTime": {
     "end_time": "2025-02-09T07:15:02.362751Z",
     "start_time": "2025-02-09T07:15:02.358153Z"
    }
   },
   "cell_type": "code",
   "source": [
    "def karesi(sayilar):\n",
    "      for sayi in sayilar:\n",
    "            print(sayi**2)"
   ],
   "id": "e661045c9b6cfe57",
   "outputs": [],
   "execution_count": 1
  },
  {
   "metadata": {
    "ExecuteTime": {
     "end_time": "2025-02-09T07:15:58.433524Z",
     "start_time": "2025-02-09T07:15:58.425464Z"
    }
   },
   "cell_type": "code",
   "source": "karesi([1,2,3,4,5])",
   "id": "a52e6cc7011370e6",
   "outputs": [
    {
     "name": "stdout",
     "output_type": "stream",
     "text": [
      "1\n",
      "4\n",
      "9\n",
      "16\n",
      "25\n"
     ]
    }
   ],
   "execution_count": 2
  },
  {
   "metadata": {
    "ExecuteTime": {
     "end_time": "2025-02-09T07:19:49.989230Z",
     "start_time": "2025-02-09T07:19:49.980601Z"
    }
   },
   "cell_type": "code",
   "source": [
    "def daire_alani(r, pi = 3.14):\n",
    "    alan = pi * (r ** 2)\n",
    "    print(\"Alan: {}\".format(alan))\n",
    "\n",
    "daire_alani(2)"
   ],
   "id": "fd67f9e1029561e1",
   "outputs": [
    {
     "name": "stdout",
     "output_type": "stream",
     "text": [
      "Alan: 12.56\n"
     ]
    }
   ],
   "execution_count": 3
  },
  {
   "metadata": {
    "ExecuteTime": {
     "end_time": "2025-02-09T07:22:16.939450Z",
     "start_time": "2025-02-09T07:22:16.930916Z"
    }
   },
   "cell_type": "code",
   "source": "daire_alani(2, 3.145678899)",
   "id": "56c4727732b1437d",
   "outputs": [
    {
     "name": "stdout",
     "output_type": "stream",
     "text": [
      "Alan: 12.582715596\n"
     ]
    }
   ],
   "execution_count": 4
  },
  {
   "metadata": {
    "ExecuteTime": {
     "end_time": "2025-02-13T21:15:05.223499Z",
     "start_time": "2025-02-13T21:15:05.219207Z"
    }
   },
   "cell_type": "code",
   "source": [
    "def isim_yazdir(isim, *args):       # ÖNEMLİ OLAN * İşareti, args kullanmak zorunda değiliz. Listeye aktarıyor o değerleri\n",
    "    print(isim)\n",
    "    for arg in args:\n",
    "        print(arg)"
   ],
   "id": "b1837041fe1a50d2",
   "outputs": [],
   "execution_count": 2
  },
  {
   "metadata": {
    "ExecuteTime": {
     "end_time": "2025-02-09T07:29:42.157444Z",
     "start_time": "2025-02-09T07:29:42.152405Z"
    }
   },
   "cell_type": "code",
   "outputs": [
    {
     "name": "stdout",
     "output_type": "stream",
     "text": [
      "Mert Güney\n",
      "5\n",
      "True\n",
      "Kemal\n"
     ]
    }
   ],
   "execution_count": 6,
   "source": "isim_yazdir(\"Mert Güney\", 5, True, \"Kemal\")",
   "id": "2b2ccbb9cc5e66f8"
  },
  {
   "metadata": {
    "ExecuteTime": {
     "end_time": "2025-02-09T07:30:30.667971Z",
     "start_time": "2025-02-09T07:30:30.663549Z"
    }
   },
   "cell_type": "code",
   "outputs": [
    {
     "name": "stdout",
     "output_type": "stream",
     "text": [
      "Mert Güney\n",
      "5\n",
      "True\n",
      "Kemal\n",
      "False\n",
      "Siliconmade Academy\n"
     ]
    }
   ],
   "execution_count": 7,
   "source": "isim_yazdir(\"Mert Güney\", 5, True, \"Kemal\", False, \"Siliconmade Academy\")\n",
   "id": "de4ed67952f4a605"
  },
  {
   "metadata": {
    "ExecuteTime": {
     "end_time": "2025-02-09T08:17:28.311486Z",
     "start_time": "2025-02-09T08:17:28.307205Z"
    }
   },
   "cell_type": "code",
   "outputs": [
    {
     "name": "stdout",
     "output_type": "stream",
     "text": [
      "5\n"
     ]
    }
   ],
   "execution_count": 11,
   "source": [
    "def ornek():\n",
    "    sayi = 5\n",
    "    print(sayi)\n",
    "\n",
    "ornek()\n",
    "# print(sayi)"
   ],
   "id": "f95599d6e2e12f40"
  },
  {
   "metadata": {},
   "cell_type": "markdown",
   "source": [
    "# ÖDEV 1\n",
    "1. Dörtgen, üçgen veya  dairenin  Alan hesabı. Kullanıcıdan en boy değerleri alınacak ve alan hesaplanacak.\n",
    "\n",
    "\n",
    "2. Girilen \"gün\", \"saat\", \"dakika\" ve \"saniye\" değerine göre, toplam saniyeyi hesaplayan bir uygulama yapınız.\n",
    "\n",
    "\n",
    "3. Vücut Kitle Endeksini hesaplayan uygulamayı yapın (ağırlığın(kg) boyun karesine (m)bölümü)\n",
    "\n",
    "\n",
    "4. Restoran. Kullanıcı \"pizza\", \"burger\" veya \"salata\" seçeneklerinden birini seçecek. seçtiği menünün fiyatını bir değişkene atayacak.\n",
    "Bu fiyata %15 vergi oranı uygulayacak, %10 bahşiş ekleyecek ve toplam fiyat yazdırılacak.\n",
    "\n",
    "5. feet'i inch, yard, mil e çevirin.\n",
    "\n",
    "\n",
    "6. Kullanıcı bir kelime girecek, bu kelime \"tr\" ifadesi içeriyorsa \"kelime tr ifadesi içeriyor\" mesajı, içermiyorsa \"tr ifadesi içermiyor\" mesajı versin.\n",
    "\n",
    "\n",
    "7. Kullanıcıdan iki kelime girdisi isteyeceksiniz. ikisinin aynı kelime olup olmadığını kıyaslayacaksınız.\n",
    "(kullanıcı ister büyük harfle girsin ister küçük. -lower)\n",
    "\n",
    "\n",
    "8. Herhangi  bir sayı girsin. Girdiği sayının 100 den büyük, küçük veya eşit olduğu mesajı verilsin. (tiplere dikkat)\n",
    "\n",
    "\n",
    "9. Kullanıcı yaşını girecek, 12 yaşa kadar- Çocuk, 13-19 yaş - Ergen, 20-30 yaş Genç yetişkin, 30-64 yaş Yetişkin, 64 yaş üzeri olgun.\n",
    "\n",
    "\n",
    "10. Kullanıcı bir kelime girecek, sonu \"miş\" le mi bitiyor kontrol edilecek. mesaj yazdıracaksınız.(endwith, negatif indexleme)\n",
    "\n",
    "11. Hesap makinesi. Kullanıcıdan hangi işlemi yapmak istediği metin olarak alınacak. \"bol\" \"carp\" gibi. (bölme işlemi handikaplı, 0'a bölme hatası verir. Kullanıcının metin mi sayı mı girdi kontrolüne gerek yok. Bölme ve çıkarmada sıralamnın önemli olduğunu verebiliriz.\n",
    "\n",
    "12. Uygulama\n",
    "Aslandan kaçma oyunu\n",
    "Bir aslanla karşılaştınız ne yapardınız?\n",
    "1-Kaçardım\n",
    "2-Ağaca tırmanırdım\n",
    "\n",
    "1 seçeneği seçilirse\n",
    "    1-Nehire doğru\n",
    "    2-Otoyola doğru\n",
    "eğer burda 1 seçilirse aslana yakalanacak, 2 seçilirse aslandan kaçabilecek.\n",
    "\n",
    "2 seçeneği seçilirse\n",
    "    1-En yakın\n",
    "    2-Biraz daha uzak ama daha uzun\n",
    "eğer burada 1 seçeneği seçilirse aslan sizi yakalayacak."
   ],
   "id": "dbaa8452c8ea9ced"
  },
  {
   "metadata": {},
   "cell_type": "markdown",
   "source": "# Dictionary\n",
   "id": "4515d162c995d1ca"
  },
  {
   "metadata": {},
   "cell_type": "code",
   "source": "isimler = {}",
   "id": "72503f76d54773e9",
   "outputs": [],
   "execution_count": null
  },
  {
   "metadata": {
    "ExecuteTime": {
     "end_time": "2025-02-09T09:38:04.646895Z",
     "start_time": "2025-02-09T09:38:04.637709Z"
    }
   },
   "cell_type": "code",
   "source": [
    "musteriler = {\n",
    "    \"ad\" : \"Zafer\",  # Key Value şeklinde kullanılır.\n",
    "    \"yas\" : 53\n",
    "}\n",
    "\n",
    "print(musteriler)"
   ],
   "id": "32e7e689206914be",
   "outputs": [],
   "execution_count": 13
  },
  {
   "metadata": {
    "ExecuteTime": {
     "end_time": "2025-02-09T09:41:48.063410Z",
     "start_time": "2025-02-09T09:41:48.035397Z"
    }
   },
   "cell_type": "code",
   "source": "musteriler[\"ad\"]",
   "id": "8e025395da16d2e3",
   "outputs": [
    {
     "data": {
      "text/plain": [
       "'Zafer'"
      ]
     },
     "execution_count": 14,
     "metadata": {},
     "output_type": "execute_result"
    }
   ],
   "execution_count": 14
  },
  {
   "metadata": {
    "ExecuteTime": {
     "end_time": "2025-02-09T09:41:56.911473Z",
     "start_time": "2025-02-09T09:41:56.895722Z"
    }
   },
   "cell_type": "code",
   "source": "musteriler.get(\"ad\")",
   "id": "36893cdba6e7023e",
   "outputs": [
    {
     "data": {
      "text/plain": [
       "'Zafer'"
      ]
     },
     "execution_count": 15,
     "metadata": {},
     "output_type": "execute_result"
    }
   ],
   "execution_count": 15
  },
  {
   "metadata": {
    "ExecuteTime": {
     "end_time": "2025-02-09T09:43:53.202221Z",
     "start_time": "2025-02-09T09:43:53.196008Z"
    }
   },
   "cell_type": "code",
   "source": "musteriler.get(\"isimler\", \"bulunamadı \")",
   "id": "ade49207a2d886e9",
   "outputs": [
    {
     "data": {
      "text/plain": [
       "'bulunamadı '"
      ]
     },
     "execution_count": 16,
     "metadata": {},
     "output_type": "execute_result"
    }
   ],
   "execution_count": 16
  },
  {
   "metadata": {
    "ExecuteTime": {
     "end_time": "2025-02-09T09:44:29.322379Z",
     "start_time": "2025-02-09T09:44:29.307980Z"
    }
   },
   "cell_type": "code",
   "source": "data = [\"Zafer\", \"Ege\", {\"ad\": \"Ayşe\"}]",
   "id": "22dfacaeb460dd23",
   "outputs": [],
   "execution_count": 17
  },
  {
   "metadata": {
    "ExecuteTime": {
     "end_time": "2025-02-09T09:44:36.134449Z",
     "start_time": "2025-02-09T09:44:36.129697Z"
    }
   },
   "cell_type": "code",
   "source": "data[2]",
   "id": "a0dca9995342b7ea",
   "outputs": [
    {
     "data": {
      "text/plain": [
       "{'ad': 'Ayşe'}"
      ]
     },
     "execution_count": 18,
     "metadata": {},
     "output_type": "execute_result"
    }
   ],
   "execution_count": 18
  },
  {
   "metadata": {
    "ExecuteTime": {
     "end_time": "2025-02-09T09:45:17.651054Z",
     "start_time": "2025-02-09T09:45:17.644747Z"
    }
   },
   "cell_type": "code",
   "source": "data[2][\"ad\"]",
   "id": "b9f12452e4315ee9",
   "outputs": [
    {
     "data": {
      "text/plain": [
       "'Ayşe'"
      ]
     },
     "execution_count": 19,
     "metadata": {},
     "output_type": "execute_result"
    }
   ],
   "execution_count": 19
  },
  {
   "metadata": {
    "ExecuteTime": {
     "end_time": "2025-02-09T10:06:16.163257Z",
     "start_time": "2025-02-09T10:06:16.151484Z"
    }
   },
   "cell_type": "code",
   "source": [
    "data = {\n",
    "    \"takım\" : \"liverpool\",\n",
    "    \"kupa\" : {\"2018\" : 1, \"2017\" : 3}\n",
    "}"
   ],
   "id": "6ba84b746cf96b0d",
   "outputs": [],
   "execution_count": 20
  },
  {
   "metadata": {
    "ExecuteTime": {
     "end_time": "2025-02-09T10:06:29.149156Z",
     "start_time": "2025-02-09T10:06:29.144105Z"
    }
   },
   "cell_type": "code",
   "source": "print(data[\"kupa\"])",
   "id": "7f9bee0bfdf71b80",
   "outputs": [
    {
     "name": "stdout",
     "output_type": "stream",
     "text": [
      "{'2018': 1, '2017': 3}\n"
     ]
    }
   ],
   "execution_count": 21
  },
  {
   "metadata": {
    "ExecuteTime": {
     "end_time": "2025-02-09T10:06:52.035179Z",
     "start_time": "2025-02-09T10:06:52.030086Z"
    }
   },
   "cell_type": "code",
   "source": "print(data[\"kupa\"][\"2018\"])",
   "id": "f4e18b25323572db",
   "outputs": [
    {
     "name": "stdout",
     "output_type": "stream",
     "text": [
      "1\n"
     ]
    }
   ],
   "execution_count": 22
  },
  {
   "metadata": {
    "ExecuteTime": {
     "end_time": "2025-02-09T10:08:35.407478Z",
     "start_time": "2025-02-09T10:08:35.403852Z"
    }
   },
   "cell_type": "code",
   "source": "print(data[\"takım\"], data[\"kupa\"][\"2018\"])",
   "id": "c090628d93db790f",
   "outputs": [
    {
     "name": "stdout",
     "output_type": "stream",
     "text": [
      "liverpool 1\n"
     ]
    }
   ],
   "execution_count": 24
  },
  {
   "metadata": {
    "ExecuteTime": {
     "end_time": "2025-02-09T10:09:37.595820Z",
     "start_time": "2025-02-09T10:09:37.587082Z"
    }
   },
   "cell_type": "code",
   "source": [
    "araba = {\"yıl\" : 2018}\n",
    "\n",
    "araba[\"renk\"] = \"Mavi\"\n",
    "print(araba)"
   ],
   "id": "25385cefda3cbfd5",
   "outputs": [
    {
     "name": "stdout",
     "output_type": "stream",
     "text": [
      "{'yıl': 2018, 'renk': 'Mavi'}\n"
     ]
    }
   ],
   "execution_count": 25
  },
  {
   "metadata": {
    "ExecuteTime": {
     "end_time": "2025-02-09T10:10:48.858467Z",
     "start_time": "2025-02-09T10:10:48.853741Z"
    }
   },
   "cell_type": "code",
   "source": [
    "araba = {\"yıl\" : 2018, \"renk\" : \"Mavi\"}\n",
    "araba[\"renk\"] = \"Kırmızı\"\n",
    "print(araba)"
   ],
   "id": "7f7df09ff9cfccc5",
   "outputs": [
    {
     "name": "stdout",
     "output_type": "stream",
     "text": [
      "{'yıl': 2018, 'renk': 'Kırmızı'}\n"
     ]
    }
   ],
   "execution_count": 27
  },
  {
   "metadata": {
    "ExecuteTime": {
     "end_time": "2025-02-09T10:11:32.672809Z",
     "start_time": "2025-02-09T10:11:32.667194Z"
    }
   },
   "cell_type": "code",
   "source": [
    "araba = {\"yıl\" : 2018}\n",
    "\n",
    "del araba[\"yıl\"]\n",
    "print(araba)"
   ],
   "id": "3f8e7eef473db37a",
   "outputs": [
    {
     "name": "stdout",
     "output_type": "stream",
     "text": [
      "{}\n"
     ]
    }
   ],
   "execution_count": 28
  },
  {
   "metadata": {
    "ExecuteTime": {
     "end_time": "2025-02-09T10:33:26.229087Z",
     "start_time": "2025-02-09T10:33:26.214634Z"
    }
   },
   "cell_type": "code",
   "source": "personel = {\"ad\": \"Zafer\", \"yas\": 55}",
   "id": "6e4546bb39ab5afe",
   "outputs": [],
   "execution_count": 29
  },
  {
   "metadata": {
    "ExecuteTime": {
     "end_time": "2025-02-09T10:33:32.944367Z",
     "start_time": "2025-02-09T10:33:32.936502Z"
    }
   },
   "cell_type": "code",
   "source": "personel.keys()",
   "id": "78fccf8f518e49e9",
   "outputs": [
    {
     "data": {
      "text/plain": [
       "dict_keys(['ad', 'yas'])"
      ]
     },
     "execution_count": 30,
     "metadata": {},
     "output_type": "execute_result"
    }
   ],
   "execution_count": 30
  },
  {
   "metadata": {
    "ExecuteTime": {
     "end_time": "2025-02-09T10:33:44.114448Z",
     "start_time": "2025-02-09T10:33:44.101487Z"
    }
   },
   "cell_type": "code",
   "source": [
    "for key in personel.keys():\n",
    "      print(key)\n",
    "      print(personel[key])"
   ],
   "id": "adaf986929f95195",
   "outputs": [
    {
     "name": "stdout",
     "output_type": "stream",
     "text": [
      "ad\n",
      "Zafer\n",
      "yas\n",
      "55\n"
     ]
    }
   ],
   "execution_count": 31
  },
  {
   "metadata": {
    "ExecuteTime": {
     "end_time": "2025-02-09T10:33:50.687975Z",
     "start_time": "2025-02-09T10:33:50.681809Z"
    }
   },
   "cell_type": "code",
   "source": "personel.values()",
   "id": "e8e9e736a53597b8",
   "outputs": [
    {
     "data": {
      "text/plain": [
       "dict_values(['Zafer', 55])"
      ]
     },
     "execution_count": 32,
     "metadata": {},
     "output_type": "execute_result"
    }
   ],
   "execution_count": 32
  },
  {
   "metadata": {
    "ExecuteTime": {
     "end_time": "2025-02-09T10:33:58.937657Z",
     "start_time": "2025-02-09T10:33:58.933181Z"
    }
   },
   "cell_type": "code",
   "source": [
    "for value in personel.values():\n",
    "\n",
    "\n",
    "      print(value)"
   ],
   "id": "750e3575d133a9e2",
   "outputs": [
    {
     "name": "stdout",
     "output_type": "stream",
     "text": [
      "Zafer\n",
      "55\n"
     ]
    }
   ],
   "execution_count": 33
  },
  {
   "metadata": {
    "ExecuteTime": {
     "end_time": "2025-02-09T10:34:05.016884Z",
     "start_time": "2025-02-09T10:34:05.012063Z"
    }
   },
   "cell_type": "code",
   "source": "personel.items()",
   "id": "70bc9e34851699b3",
   "outputs": [
    {
     "data": {
      "text/plain": [
       "dict_items([('ad', 'Zafer'), ('yas', 55)])"
      ]
     },
     "execution_count": 34,
     "metadata": {},
     "output_type": "execute_result"
    }
   ],
   "execution_count": 34
  },
  {
   "metadata": {
    "ExecuteTime": {
     "end_time": "2025-02-09T10:34:11.027027Z",
     "start_time": "2025-02-09T10:34:11.003763Z"
    }
   },
   "cell_type": "code",
   "source": [
    "personel = {\"ad\": \"zafer\", \"yas\": 53}\n",
    "for key, value in personel.items():\n",
    "      print(\"{}: {}\".format(key, value))"
   ],
   "id": "a09bd72daf13e9ca",
   "outputs": [
    {
     "name": "stdout",
     "output_type": "stream",
     "text": [
      "ad: zafer\n",
      "yas: 53\n"
     ]
    }
   ],
   "execution_count": 35
  },
  {
   "metadata": {
    "ExecuteTime": {
     "end_time": "2025-02-09T10:34:16.261309Z",
     "start_time": "2025-02-09T10:34:16.256371Z"
    }
   },
   "cell_type": "code",
   "source": [
    "t1 = (\"merhaba\", 2, \"zafer\", 2)  # parantezle\n",
    "t2 = True, 1  # parentezsiz\n",
    "t3 = tuple((1, 2, 3))\n",
    "\n",
    "print(type(t1), type(t2), type(t3))"
   ],
   "id": "8c8092db905e337f",
   "outputs": [
    {
     "name": "stdout",
     "output_type": "stream",
     "text": [
      "<class 'tuple'> <class 'tuple'> <class 'tuple'>\n"
     ]
    }
   ],
   "execution_count": 36
  },
  {
   "metadata": {
    "ExecuteTime": {
     "end_time": "2025-02-09T10:34:30.930148Z",
     "start_time": "2025-02-09T10:34:30.925301Z"
    }
   },
   "cell_type": "code",
   "source": "t1[0]",
   "id": "504ca3c7064f2455",
   "outputs": [
    {
     "data": {
      "text/plain": [
       "'merhaba'"
      ]
     },
     "execution_count": 37,
     "metadata": {},
     "output_type": "execute_result"
    }
   ],
   "execution_count": 37
  },
  {
   "metadata": {
    "ExecuteTime": {
     "end_time": "2025-02-09T10:50:10.784689Z",
     "start_time": "2025-02-09T10:50:10.716645Z"
    }
   },
   "cell_type": "code",
   "source": "#t1[0] = 1",
   "id": "eb56a76fb0ef5154",
   "outputs": [
    {
     "ename": "TypeError",
     "evalue": "'tuple' object does not support item assignment",
     "output_type": "error",
     "traceback": [
      "\u001B[0;31m---------------------------------------------------------------------------\u001B[0m",
      "\u001B[0;31mTypeError\u001B[0m                                 Traceback (most recent call last)",
      "Cell \u001B[0;32mIn[38], line 1\u001B[0m\n\u001B[0;32m----> 1\u001B[0m \u001B[43mt1\u001B[49m\u001B[43m[\u001B[49m\u001B[38;5;241;43m0\u001B[39;49m\u001B[43m]\u001B[49m \u001B[38;5;241m=\u001B[39m \u001B[38;5;241m1\u001B[39m\n",
      "\u001B[0;31mTypeError\u001B[0m: 'tuple' object does not support item assignment"
     ]
    }
   ],
   "execution_count": 38
  },
  {
   "metadata": {
    "ExecuteTime": {
     "end_time": "2025-02-09T10:50:20.759719Z",
     "start_time": "2025-02-09T10:50:20.754481Z"
    }
   },
   "cell_type": "code",
   "source": "t1 + t2",
   "id": "ac7d636436de4991",
   "outputs": [
    {
     "data": {
      "text/plain": [
       "('merhaba', 2, 'zafer', 2, True, 1)"
      ]
     },
     "execution_count": 39,
     "metadata": {},
     "output_type": "execute_result"
    }
   ],
   "execution_count": 39
  },
  {
   "metadata": {
    "ExecuteTime": {
     "end_time": "2025-02-09T10:50:24.954680Z",
     "start_time": "2025-02-09T10:50:24.948676Z"
    }
   },
   "cell_type": "code",
   "source": "t1",
   "id": "79e06cac11e5c977",
   "outputs": [
    {
     "data": {
      "text/plain": [
       "('merhaba', 2, 'zafer', 2)"
      ]
     },
     "execution_count": 40,
     "metadata": {},
     "output_type": "execute_result"
    }
   ],
   "execution_count": 40
  },
  {
   "metadata": {
    "ExecuteTime": {
     "end_time": "2025-02-09T10:50:30.811290Z",
     "start_time": "2025-02-09T10:50:30.807028Z"
    }
   },
   "cell_type": "code",
   "source": "dir(t1)",
   "id": "bbc9d6614370f5eb",
   "outputs": [
    {
     "data": {
      "text/plain": [
       "['__add__',\n",
       " '__class__',\n",
       " '__class_getitem__',\n",
       " '__contains__',\n",
       " '__delattr__',\n",
       " '__dir__',\n",
       " '__doc__',\n",
       " '__eq__',\n",
       " '__format__',\n",
       " '__ge__',\n",
       " '__getattribute__',\n",
       " '__getitem__',\n",
       " '__getnewargs__',\n",
       " '__gt__',\n",
       " '__hash__',\n",
       " '__init__',\n",
       " '__init_subclass__',\n",
       " '__iter__',\n",
       " '__le__',\n",
       " '__len__',\n",
       " '__lt__',\n",
       " '__mul__',\n",
       " '__ne__',\n",
       " '__new__',\n",
       " '__reduce__',\n",
       " '__reduce_ex__',\n",
       " '__repr__',\n",
       " '__rmul__',\n",
       " '__setattr__',\n",
       " '__sizeof__',\n",
       " '__str__',\n",
       " '__subclasshook__',\n",
       " 'count',\n",
       " 'index']"
      ]
     },
     "execution_count": 41,
     "metadata": {},
     "output_type": "execute_result"
    }
   ],
   "execution_count": 41
  },
  {
   "metadata": {
    "ExecuteTime": {
     "end_time": "2025-02-09T10:50:38.892229Z",
     "start_time": "2025-02-09T10:50:38.886128Z"
    }
   },
   "cell_type": "code",
   "source": "t1 = (\"merhaba\", 2, \"zafer\", 2)  # parantezle",
   "id": "b2c6cb6f48718825",
   "outputs": [],
   "execution_count": 42
  },
  {
   "metadata": {
    "ExecuteTime": {
     "end_time": "2025-02-09T10:50:46.255702Z",
     "start_time": "2025-02-09T10:50:46.249737Z"
    }
   },
   "cell_type": "code",
   "source": "t1.count(2)",
   "id": "be80e2e37f4ba64a",
   "outputs": [
    {
     "data": {
      "text/plain": [
       "2"
      ]
     },
     "execution_count": 43,
     "metadata": {},
     "output_type": "execute_result"
    }
   ],
   "execution_count": 43
  },
  {
   "metadata": {
    "ExecuteTime": {
     "end_time": "2025-02-09T10:51:11.018912Z",
     "start_time": "2025-02-09T10:51:11.014226Z"
    }
   },
   "cell_type": "code",
   "source": "t1.index(2)",
   "id": "7adbd063d071cb67",
   "outputs": [
    {
     "data": {
      "text/plain": [
       "1"
      ]
     },
     "execution_count": 44,
     "metadata": {},
     "output_type": "execute_result"
    }
   ],
   "execution_count": 44
  },
  {
   "metadata": {},
   "cell_type": "markdown",
   "source": "# SET",
   "id": "7f96979ea1c5a55d"
  },
  {
   "metadata": {
    "ExecuteTime": {
     "end_time": "2025-02-15T06:12:22.062964Z",
     "start_time": "2025-02-15T06:12:22.057851Z"
    }
   },
   "cell_type": "code",
   "source": [
    "s1 = set([1, 2, 3, 1])\n",
    "s2 = {4, 4, 5}\n",
    "s3 = set((\"a\", \"b\", \"c\"))\n",
    "\n",
    "print(type(s1), type(s2), type(s3))\n",
    "print(s1)\n",
    "print(s2)\n",
    "print(s3)"
   ],
   "id": "702c6f65ea82e965",
   "outputs": [
    {
     "name": "stdout",
     "output_type": "stream",
     "text": [
      "<class 'set'> <class 'set'> <class 'set'>\n",
      "{1, 2, 3}\n",
      "{4, 5}\n",
      "{'c', 'a', 'b'}\n"
     ]
    }
   ],
   "execution_count": 11
  },
  {
   "metadata": {
    "ExecuteTime": {
     "end_time": "2025-02-15T06:12:28.322982Z",
     "start_time": "2025-02-15T06:12:28.320151Z"
    }
   },
   "cell_type": "code",
   "source": "sayilar= list(s1)",
   "id": "6b2dd830aedde7a5",
   "outputs": [],
   "execution_count": 14
  },
  {
   "metadata": {
    "ExecuteTime": {
     "end_time": "2025-02-15T06:12:30.133344Z",
     "start_time": "2025-02-15T06:12:30.128121Z"
    }
   },
   "cell_type": "code",
   "source": "sayilar[0]",
   "id": "7c70e5bad86df5de",
   "outputs": [
    {
     "data": {
      "text/plain": [
       "1"
      ]
     },
     "execution_count": 15,
     "metadata": {},
     "output_type": "execute_result"
    }
   ],
   "execution_count": 15
  },
  {
   "metadata": {
    "ExecuteTime": {
     "end_time": "2025-02-15T06:12:32.079210Z",
     "start_time": "2025-02-15T06:12:32.075573Z"
    }
   },
   "cell_type": "code",
   "source": "s1.add(5)",
   "id": "f242e49713680088",
   "outputs": [],
   "execution_count": 16
  },
  {
   "metadata": {
    "ExecuteTime": {
     "end_time": "2025-02-15T06:12:33.481145Z",
     "start_time": "2025-02-15T06:12:33.478226Z"
    }
   },
   "cell_type": "code",
   "source": "s1",
   "id": "216f09dc7d15af6",
   "outputs": [
    {
     "data": {
      "text/plain": [
       "{1, 2, 3, 5}"
      ]
     },
     "execution_count": 17,
     "metadata": {},
     "output_type": "execute_result"
    }
   ],
   "execution_count": 17
  },
  {
   "metadata": {
    "ExecuteTime": {
     "end_time": "2025-02-15T06:12:34.612696Z",
     "start_time": "2025-02-15T06:12:34.610896Z"
    }
   },
   "cell_type": "code",
   "source": "s1.remove(1)",
   "id": "6448cf3b31af6fbf",
   "outputs": [],
   "execution_count": 18
  },
  {
   "metadata": {
    "ExecuteTime": {
     "end_time": "2025-02-15T06:17:23.930592Z",
     "start_time": "2025-02-15T06:17:23.913370Z"
    }
   },
   "cell_type": "code",
   "source": "s1",
   "id": "69b29bf19e8b34c",
   "outputs": [
    {
     "data": {
      "text/plain": [
       "{2, 3, 5}"
      ]
     },
     "execution_count": 19,
     "metadata": {},
     "output_type": "execute_result"
    }
   ],
   "execution_count": 19
  },
  {
   "metadata": {
    "ExecuteTime": {
     "end_time": "2025-02-15T06:17:47.807935Z",
     "start_time": "2025-02-15T06:17:47.804063Z"
    }
   },
   "cell_type": "code",
   "source": "fset = frozenset([1, 2, 3, 4, 1])",
   "id": "9b76f1994b4575a9",
   "outputs": [],
   "execution_count": 20
  },
  {
   "metadata": {
    "ExecuteTime": {
     "end_time": "2025-02-15T06:18:14.850626Z",
     "start_time": "2025-02-15T06:18:14.842096Z"
    }
   },
   "cell_type": "code",
   "source": "fset",
   "id": "aef59790a7127d5b",
   "outputs": [
    {
     "data": {
      "text/plain": [
       "frozenset({1, 2, 3, 4})"
      ]
     },
     "execution_count": 21,
     "metadata": {},
     "output_type": "execute_result"
    }
   ],
   "execution_count": 21
  },
  {
   "metadata": {
    "ExecuteTime": {
     "end_time": "2025-02-15T06:18:23.883020Z",
     "start_time": "2025-02-15T06:18:23.874238Z"
    }
   },
   "cell_type": "code",
   "source": [
    "for a in fset:\n",
    "    print(a)"
   ],
   "id": "9c3d412cf767bf45",
   "outputs": [
    {
     "name": "stdout",
     "output_type": "stream",
     "text": [
      "1\n",
      "2\n",
      "3\n",
      "4\n"
     ]
    }
   ],
   "execution_count": 22
  }
 ],
 "metadata": {
  "kernelspec": {
   "display_name": "Python 3",
   "language": "python",
   "name": "python3"
  },
  "language_info": {
   "codemirror_mode": {
    "name": "ipython",
    "version": 2
   },
   "file_extension": ".py",
   "mimetype": "text/x-python",
   "name": "python",
   "nbconvert_exporter": "python",
   "pygments_lexer": "ipython2",
   "version": "2.7.6"
  }
 },
 "nbformat": 4,
 "nbformat_minor": 5
}
