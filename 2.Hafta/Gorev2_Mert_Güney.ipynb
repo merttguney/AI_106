{
  "nbformat": 4,
  "nbformat_minor": 0,
  "metadata": {
    "colab": {
      "provenance": [],
      "include_colab_link": true
    },
    "kernelspec": {
      "name": "python3",
      "display_name": "Python 3"
    },
    "language_info": {
      "name": "python"
    }
  },
  "cells": [
    {
      "cell_type": "markdown",
      "metadata": {
        "id": "view-in-github",
        "colab_type": "text"
      },
      "source": [
        "<a href=\"https://colab.research.google.com/github/merttguney/AI_106/blob/main/Gorev2_Mert_G%C3%BCney.ipynb\" target=\"_parent\"><img src=\"https://colab.research.google.com/assets/colab-badge.svg\" alt=\"Open In Colab\"/></a>"
      ]
    },
    {
      "cell_type": "markdown",
      "source": [
        "**1.\n",
        "Dörtgen, üçgen veya dairenin Alan hesabı. Kullanıcıdan en boy değerleri alınacak ve alan hesaplanacak.**"
      ],
      "metadata": {
        "id": "rAg5H9YoYySv"
      }
    },
    {
      "cell_type": "code",
      "source": [
        "def dortgen_alan():\n",
        "  en = float(input(\"En uzunlugunu giriniz: \"))\n",
        "  boy = float(input(\"Boy uzunlugunu giriniz: \"))\n",
        "  alan = en * boy\n",
        "  print(f\"Dortgenin alani : {alan}\")\n",
        "\n",
        "def ucgen_alan():\n",
        "  taban = float(input(\"Taban uzunlugunu giriniz: \"))\n",
        "  yukseklik = float(input(\"Yüksekligi giriniz: \"))\n",
        "  alan = (taban * yukseklik) / 2\n",
        "  print(f\"Ucgenin alani: {alan}\")                       # Fonksiyonlaştırarak kullandım. Daha clean bir yazım olması için.\n",
        "\n",
        "def daire_alan():\n",
        "  pi = 3.14\n",
        "  yaricap = float(input(\"Yaricapi uzunlugunu giriniz: \"))\n",
        "  alan = pi * (yaricap ** 2)\n",
        "  print(f\"Dairenin alani: {alan}\")\n",
        "\n",
        "print(\"Alanını hesaplamak istediginiz sekli seciniz:\\n\"\n",
        "      \"1 - Dortgen\\n\"\n",
        "      \"2 - Ucgen\\n\"\n",
        "      \"3 - Daire\")\n",
        "\n",
        "sekil = int(input(\"Seciminiz (1/2/3)\"))\n",
        "\n",
        "if sekil == 1:\n",
        "  dortgen_alan()\n",
        "elif sekil == 2:\n",
        "  ucgen_alan()\n",
        "elif sekil == 3:\n",
        "  daire_alan()\n",
        "else:\n",
        "  print(\"Lütfen gecerli bir sayı giriniz.\")"
      ],
      "metadata": {
        "id": "C9NZiSfsYyB0",
        "colab": {
          "base_uri": "https://localhost:8080/"
        },
        "outputId": "97ae0341-282d-447b-a774-b34ac7ebef05"
      },
      "execution_count": null,
      "outputs": [
        {
          "output_type": "stream",
          "name": "stdout",
          "text": [
            "Alanını hesaplamak istediginiz sekli seciniz:\n",
            "1 - Dortgen\n",
            "2 - Ucgen\n",
            "3 - Daire\n",
            "Seciminiz (1/2/3)1\n",
            "En uzunlugunu giriniz: 3\n",
            "Boy uzunlugunu giriniz: 4\n",
            "Dortgenin alani : 12.0\n"
          ]
        }
      ]
    },
    {
      "cell_type": "markdown",
      "source": [
        "**2. Girilen \"gün\", \"saat\", \"dakika\" ve \"saniye\" değerine göre, toplam saniyeyi hesaplayan bir uygulama yapınız.**"
      ],
      "metadata": {
        "id": "5gncL5MUYiXf"
      }
    },
    {
      "cell_type": "code",
      "source": [
        "gun = int(input(\"Gun degerini giriniz: \"))\n",
        "saat = int(input(\"Saat degerini giriniz: \"))\n",
        "dakika = int(input(\"Dakika degerini giriniz : \"))\n",
        "saniye = int(input(\"Saniye degerini giriniz: \"))\n",
        "\n",
        "saniye_cevrim = [gun * 86400, saat * 3600, dakika * 60, saniye]\n",
        "\n",
        "toplam_saniye = 0\n",
        "for saniye in saniye_cevrim:\n",
        "  toplam_saniye += saniye\n",
        "\n",
        "print(f\"Toplam saniye : {toplam_saniye}\")\n"
      ],
      "metadata": {
        "id": "DHSZCA1KYiME",
        "colab": {
          "base_uri": "https://localhost:8080/"
        },
        "outputId": "efb14ed1-b7fd-466b-ab2e-44e3fd934b7c"
      },
      "execution_count": null,
      "outputs": [
        {
          "output_type": "stream",
          "name": "stdout",
          "text": [
            "Gun degerini giriniz: 10\n",
            "Saat degerini giriniz: 3\n",
            "Dakika degerini giriniz : 10\n",
            "Saniye degerini giriniz: 5\n",
            "Toplam saniye : 875405\n"
          ]
        }
      ]
    },
    {
      "cell_type": "markdown",
      "source": [
        "**3. Vücut Kitle Endeksini hesaplayan uygulamayı yapın (ağırlığın(kg) boyun karesine (m)bölümü)**"
      ],
      "metadata": {
        "id": "tbzq2ubIYeH5"
      }
    },
    {
      "cell_type": "code",
      "source": [
        "def vucut_kitle_endeksi():\n",
        "  kilo = float(input(\"Kilonuzu(kg) giriniz: \"))\n",
        "  boy = float(input(\"Boyunuzu(cm) giriniz: \")) / 100 # Burada, boyu örneğin 1.83 ve 183 aldığımızda sonuç farklı çıkıyor. Onun kullanıcı için basit kontrolünü yaptım.\n",
        "  print(f\"Vücut kitle endeksiniz: {kilo / boy ** 2}\") # Detaylı hesaplama için .2 tarzı bir kontrole gerek duymadım.\n",
        "\n",
        "vucut_kitle_endeksi()"
      ],
      "metadata": {
        "id": "rYGujz-VYd4x",
        "colab": {
          "base_uri": "https://localhost:8080/"
        },
        "outputId": "534cdd0b-9f32-4382-f7fe-8cb19b66b76b"
      },
      "execution_count": null,
      "outputs": [
        {
          "output_type": "stream",
          "name": "stdout",
          "text": [
            "Kilonuzu(kg) giriniz: 93\n",
            "Boyunuzu(cm) giriniz: 1.83\n",
            "Vücut kitle endeksiniz: 277703.12639971334\n"
          ]
        }
      ]
    },
    {
      "cell_type": "markdown",
      "source": [
        "**4. Restoran. Kullanıcı \"pizza\", \"burger\" veya \"salata\" seçeneklerinden birini seçecek. seçtiği menünün fiyatını bir değişkene atayacak. Bu fiyata %15 vergi oranı uygulayacak, %10 bahşiş ekleyecek ve toplam fiyat yazdırılacak.**"
      ],
      "metadata": {
        "id": "L4figayXYXe5"
      }
    },
    {
      "cell_type": "code",
      "source": [
        "def fiyat_hesaplama():\n",
        "  secim = int(input(\"Seciminiz (1/2/3)\"))\n",
        "\n",
        "  if secim == 1:\n",
        "    fiyat = 70\n",
        "  elif secim == 2:\n",
        "    fiyat = 80\n",
        "  elif secim == 3:\n",
        "    fiyat = 90\n",
        "  else:\n",
        "    print(\"Lütfen, gecerli bir sayi giriniz.\")\n",
        "    return\n",
        "\n",
        "  toplam_fiyat = ((fiyat * 15/100) + (fiyat * 10/100)) # Burada ilk fiyat üzerinden hesaplamaları yaptım. Bahşişi de ilk fiyat üzerinden hesaplattım.\n",
        "  print(f\"Toplam fiyat: {toplam_fiyat:.2f} TL\") # Daha düzgün görünmesi için .2f ekledim\n",
        "\n",
        "print(\"Seçenekler:\\n\"\n",
        "      \"1 - Pizza\\n\"\n",
        "      \"2 - Burger\\n\"\n",
        "      \"3 - Salata\")\n",
        "\n",
        "fiyat_hesaplama()"
      ],
      "metadata": {
        "id": "VB1QiLO2YXRp",
        "colab": {
          "base_uri": "https://localhost:8080/"
        },
        "outputId": "77553196-3574-480d-de30-906683458060"
      },
      "execution_count": null,
      "outputs": [
        {
          "output_type": "stream",
          "name": "stdout",
          "text": [
            "Seçenekler:\n",
            "1 - Pizza\n",
            "2 - Burger\n",
            "3 - Salata\n",
            "Seciminiz (1/2/3)3\n",
            "Toplam fiyat: 22.50 TL\n"
          ]
        }
      ]
    },
    {
      "cell_type": "markdown",
      "source": [
        "**5. feet'i inch, yard, mil e çevirin.**"
      ],
      "metadata": {
        "id": "0W2pRsvWX5Bh"
      }
    },
    {
      "cell_type": "code",
      "source": [
        "\"\"\"\n",
        "Feet'i inch, yard ve mil cinsine cevirmek icin temel dönüsüm oranları:\n",
        "\n",
        "1 feet = 12 inch\n",
        "1 feet = 0.333 yard\n",
        "1 feet = 0.000189 mil\n",
        "\"\"\"\n",
        "def feet_cevirme():\n",
        "  feet = float(input(\"Feet degerini giriniz: \"))\n",
        "\n",
        "  inch = feet * 12\n",
        "  yard = feet * 0.333\n",
        "  mil = feet * 0.000189\n",
        "\n",
        "  print(f\"{feet} feet = {inch:.2f} inch\")\n",
        "  print(f\"{feet} feet = {yard:.3f} yard\")  # Verdiğim birimlere göre netleşmesi için formatladım.\n",
        "  print(f\"{feet} feet = {mil:.6f} mil\")\n",
        "\n",
        "feet_cevirme()"
      ],
      "metadata": {
        "id": "cIWBXIDUX4vk",
        "colab": {
          "base_uri": "https://localhost:8080/"
        },
        "outputId": "00c2f7d5-e1fb-401e-c047-61d135b2388b"
      },
      "execution_count": null,
      "outputs": [
        {
          "output_type": "stream",
          "name": "stdout",
          "text": [
            "Feet degerini giriniz: 90\n",
            "90.0 feet = 1080.00 inch\n",
            "90.0 feet = 29.970 yard\n",
            "90.0 feet = 0.017010 mil\n"
          ]
        }
      ]
    },
    {
      "cell_type": "markdown",
      "source": [
        "**6. Kullanıcı bir kelime girecek, bu kelime \"tr\" ifadesi içeriyorsa \"kelime tr ifadesi içeriyor\" mesajı, içermiyorsa \"tr ifadesi içermiyor\" mesajı versin.**\n"
      ],
      "metadata": {
        "id": "ZR7uy5EQ81oq"
      }
    },
    {
      "cell_type": "code",
      "source": [
        "def kelime_kontrolu():\n",
        "  kelime = input(\"Kelime giriniz: \")\n",
        "\n",
        "  if \"tr\" in kelime:\n",
        "    print(\"Kelime 'tr' ifadesi iceriyor.\")  # 'in' anahtar kelimesi ile kelimeyi kelime içinde arattım. Gereksiz upper, lower case kontrolüne girmedim.\n",
        "  else:\n",
        "    print(\"Kelime 'tr' ifadesi icermiyor.\")\n",
        "\n",
        "kelime_kontrolu()"
      ],
      "metadata": {
        "id": "aIqjpcHT80hp",
        "colab": {
          "base_uri": "https://localhost:8080/"
        },
        "outputId": "188740fc-c7a3-43a6-bb26-ed999ed4e8f0"
      },
      "execution_count": null,
      "outputs": [
        {
          "output_type": "stream",
          "name": "stdout",
          "text": [
            "Kelime giriniz: tr\n",
            "Kelime 'tr' ifadesi iceriyor.\n"
          ]
        }
      ]
    },
    {
      "cell_type": "markdown",
      "source": [
        "**7. Kullanıcıdan iki kelime girdisi isteyeceksiniz. ikisinin aynı kelime olup olmadığını kıyaslayacaksınız.(kullanıcı ister büyük harfle girsin ister küçük. -lower)**"
      ],
      "metadata": {
        "id": "D5qr87tb83Ni"
      }
    },
    {
      "cell_type": "code",
      "source": [
        "kelime_1 = input(\"Birinci kelimeyi giriniz: \")\n",
        "kelime_2 = input(\"İkinci kelimeyi giriniz: \")\n",
        "\n",
        "if kelime_1.lower() == kelime_2.lower():  # lower metodu girdileri formatladı ki karşılaştırmada problem olmasın.\n",
        "  print(\"Kelimeler ayni.\")"
      ],
      "metadata": {
        "id": "Wh11kq0k9CzF",
        "colab": {
          "base_uri": "https://localhost:8080/"
        },
        "outputId": "db8f0639-3dd1-4aca-a87e-a06e95ac10fe"
      },
      "execution_count": 1,
      "outputs": [
        {
          "output_type": "stream",
          "name": "stdout",
          "text": [
            "Birinci kelimeyi giriniz: selam\n",
            "İkinci kelimeyi giriniz: selam\n",
            "Kelimeler ayni.\n"
          ]
        }
      ]
    },
    {
      "cell_type": "markdown",
      "source": [
        " **8. Herhangi  bir sayı girsin. Girdiği sayının 100 den büyük, küçük veya eşit olduğu mesajı verilsin.\n",
        "(tiplere dikkat)**"
      ],
      "metadata": {
        "id": "xfAmYAV2-O6f"
      }
    },
    {
      "cell_type": "code",
      "source": [
        "sayi = float(input(\"Bir sayi girin: \"))\n",
        "\n",
        "if sayi > 100:\n",
        "    print(\"Girdiğiniz sayı 100'den büyük.\")\n",
        "elif sayi < 100:\n",
        "    print(\"Girdiğiniz sayı 100'den küçük.\") # Tek seferlik işlem yapacağımız için fonksiyon olarak yapmaya gerek duymadım. Yukarıdaki örneklerde fonksiyon kullandığım birçok kısım var zaten.\n",
        "else:\n",
        "    print(\"Girdiğiniz sayı 100'e eşit.\")"
      ],
      "metadata": {
        "id": "vE0p48ip-VXj",
        "colab": {
          "base_uri": "https://localhost:8080/"
        },
        "outputId": "95fa0295-5ac7-41b2-cf4b-d149f447bcfb"
      },
      "execution_count": 2,
      "outputs": [
        {
          "output_type": "stream",
          "name": "stdout",
          "text": [
            "Bir sayı girin: 10\n",
            "Girdiğiniz sayı 100'den küçük.\n"
          ]
        }
      ]
    },
    {
      "cell_type": "markdown",
      "source": [
        "**9. Kullanıcı yaşını girecek, 12 yaşa kadar- Çocuk, 13-19 yaş - Ergen, 20-30 yaş Genç yetişkin,\n",
        "30-64 yaş Yetişkin, 64 yaş üzeri olgun.**"
      ],
      "metadata": {
        "id": "Bf6SqbVH9Chh"
      }
    },
    {
      "cell_type": "code",
      "source": [
        "def yas_kontrol(yas):  # yas parametrem var buna göre fonksiyonun döndürdüğü değeri alıcam aşağıda\n",
        "  if yas <= 12:        # # bunun amacı da sonucu istediğimiz gibi kullanabilmek\n",
        "    return \"Cocuk\"\n",
        "  elif 13 <= yas <= 19:\n",
        "    return \"Ergen\"\n",
        "  elif 20 <= yas <= 30:\n",
        "    return \"Genc yetiskin\"\n",
        "  elif 30 < yas <= 64:\n",
        "    return \"Yetiskin\"\n",
        "  else:\n",
        "    return \"Olgun\"\n",
        "\n",
        "yas = int(input(\"Yasinizi giriniz: \"))\n",
        "kategori = yas_kontrol(yas) # Fonksiyondan gelen değeri aldık yukarıda bahsettiğim gibi\n",
        "print(f\"Yas kategoriniz: {kategori}\") # Burada da sonucu yazdırdım.\n",
        ""
      ],
      "metadata": {
        "id": "9XivzU7c-Zlz",
        "colab": {
          "base_uri": "https://localhost:8080/"
        },
        "outputId": "b6907a0b-de62-44d3-b55a-d5311b1e6a79"
      },
      "execution_count": 3,
      "outputs": [
        {
          "output_type": "stream",
          "name": "stdout",
          "text": [
            "Yasinizi giriniz: 19\n",
            "Yas kategoriniz: Ergen\n"
          ]
        }
      ]
    },
    {
      "cell_type": "markdown",
      "source": [
        "**10. Kullanıcı bir kelime girecek, sonu \"miş\" le mi bitiyor kontrol edilecek. mesaj yazdıracaksınız.**"
      ],
      "metadata": {
        "id": "Nry-NrXB-ciZ"
      }
    },
    {
      "cell_type": "code",
      "source": [
        "kelime = input(\"Bir kelime giriniz: \")\n",
        "\n",
        "if kelime.endswith(\"miş\"):\n",
        "  print(\"Kelime 'miş' ile bitiyor.\") # mış-miş kontrolü yapmadım. Fazla detay olmasın diye.\n",
        "else:\n",
        "  print(\"Kelime 'miş' ile bitmiyor.\")"
      ],
      "metadata": {
        "id": "6hMRlHSn-e9N",
        "colab": {
          "base_uri": "https://localhost:8080/"
        },
        "outputId": "cc4db192-1459-4545-936d-5eae3c6a68c4"
      },
      "execution_count": 8,
      "outputs": [
        {
          "output_type": "stream",
          "name": "stdout",
          "text": [
            "Bir kelime giriniz: yapmıyorlar\n",
            "Kelime 'miş' ile bitmiyor.\n"
          ]
        }
      ]
    },
    {
      "cell_type": "markdown",
      "source": [
        " **11. Hesap makinesi. Kullanıcıdan hangi işlemi yapmak istediği metin olarak alınacak.\n",
        "\"bol\" \"carp\" gibi.**"
      ],
      "metadata": {
        "id": "gq8KyV2D-fLD"
      }
    },
    {
      "cell_type": "code",
      "source": [
        "a = float(input(\"Birinci sayiyi giriniz: \"))\n",
        "b = float(input(\"Ikinci sayiyi giriniz: \"))\n",
        "\n",
        "islem = input(\"İşlemi girin (topla, cıkar, carp, bol): \").lower()\n",
        "\n",
        "if islem == \"bol\":\n",
        "  sonuc = a / b\n",
        "elif islem == \"carp\":  # Sıfıra bölme hatası tarzında bir kontrole gerek olmadığını söyledi Zafer hoca. Ondan hareketle eklemedim.\n",
        "  sonuc = a * b\n",
        "elif islem == \"topla\":\n",
        "  sonuc = a + b\n",
        "elif islem == \"cıkar\":  # Çıkarmada oluşacak büyükten küçüğü çıkarma tarzı kontrol detayını yapsam mı emin olamadım eklemedim o yüzden.\n",
        "  sonuc = a - b\n",
        "else:\n",
        "  print(\"Gecersiz islem.\")\n",
        "  exit()\n",
        "\n",
        "print(f\"Sonuc: {sonuc}\")"
      ],
      "metadata": {
        "id": "ltk0OKTA-kfh",
        "colab": {
          "base_uri": "https://localhost:8080/"
        },
        "outputId": "bc459a4a-80f2-437a-c17b-c494f349c1d5"
      },
      "execution_count": 6,
      "outputs": [
        {
          "output_type": "stream",
          "name": "stdout",
          "text": [
            "Birinci sayiyi giriniz: 10\n",
            "Ikinci sayiyi giriniz: 20\n",
            "İşlemi girin (topla, cıkar, carp, bol): cıkar\n",
            "Sonuc: -10.0\n"
          ]
        }
      ]
    },
    {
      "cell_type": "markdown",
      "source": [
        "**12. Uygulama\n",
        "Aslandan kaçma oyunu\n",
        "Bir aslanla karşılaştınız ne yapardınız?**\n",
        "\n",
        "\n",
        "> 1-Kaçardım\n",
        "\n",
        "> 2-Ağaca tırmanırdım\n",
        "\n",
        "1 seçeneği seçilirse\n",
        "\n",
        "  >  1-Nehire doğru\n",
        "\n",
        "  >  2-Otoyola doğru\n",
        "\n",
        "eğer burda\n",
        "\n",
        "> 1 seçilirse aslana yakalanacak,\n",
        "\n",
        "> 2 seçilirse aslandan kaçabilecek.\n",
        "\n",
        "2 seçeneği seçilirse\n",
        "  >  1-En yakın\n",
        "  >  2-Biraz daha uzak ama daha uzun\n",
        "\n",
        "\n",
        "eğer burada 1 seçeneği seçilirse aslan sizi yakalayacak."
      ],
      "metadata": {
        "id": "LHJ2g3h5-kww"
      }
    },
    {
      "cell_type": "code",
      "source": [
        "def aslandan_kacma_oyunu():\n",
        "  print(\"Bir aslanla karsilastiniz, ne yapardiniz?\")\n",
        "  print(\"1 - Kacardim\")\n",
        "  print(\"2 - Agaca tirmanirdim\")\n",
        "\n",
        "  secim1 = input(\"Seçiminizi yapın (1/2): \")\n",
        "\n",
        "  if secim1 == \"1\":\n",
        "    print(\"Nereye kacardiniz?\")\n",
        "    print(\"1 - Nehire dogru\")\n",
        "    print(\"2 - Otoyola dogru\")\n",
        "\n",
        "  secim2 = input(\"Seçiminizi yapın (1/2): \")\n",
        "\n",
        "  if secim2 == \"1\":\n",
        "    print(\"Aslan sizi yakaladı! Oyun bitti.\")\n",
        "  elif secim2 == \"2\":\n",
        "    print(\"Otoyola kaçtınız ve aslandan kurtuldunuz.\")\n",
        "  else:\n",
        "    print(\"Geçersiz seçim.\")\n",
        "\n",
        "aslandan_kacma_oyunu() # Aslında görev boyunca kullandığım fonksiyon çağırma olayı bu şekilde çok doğru kullanım olmuyor."
      ],
      "metadata": {
        "id": "H04st55R_INT",
        "colab": {
          "base_uri": "https://localhost:8080/"
        },
        "outputId": "dc41e198-b37b-43fb-b1fb-df72f953b951"
      },
      "execution_count": 7,
      "outputs": [
        {
          "output_type": "stream",
          "name": "stdout",
          "text": [
            "Bir aslanla karsilastiniz, ne yapardiniz?\n",
            "1 - Kacardim\n",
            "2 - Agaca tirmanirdim\n",
            "Seçiminizi yapın (1/2): 1\n",
            "Nereye kacardiniz?\n",
            "1 - Nehire dogru\n",
            "2 - Otoyola dogru\n",
            "Seçiminizi yapın (1/2): 2\n",
            "Otoyola kaçtınız ve aslandan kurtuldunuz.\n"
          ]
        }
      ]
    }
  ]
}