{
 "cells": [
  {
   "metadata": {},
   "cell_type": "markdown",
   "source": "# Dosyalar ile çalışmak",
   "id": "d6083aec8926fb3f"
  },
  {
   "metadata": {
    "ExecuteTime": {
     "end_time": "2025-02-15T08:40:05.446656Z",
     "start_time": "2025-02-15T08:40:05.428637Z"
    }
   },
   "cell_type": "code",
   "source": [
    "f = open(\"test.txt\",\"w+\")\n",
    "\n",
    "f.write(\"Benim adım Mert\")\n",
    "\n",
    "f.close()"
   ],
   "id": "4c4ffb9b55064312",
   "outputs": [],
   "execution_count": 2
  },
  {
   "metadata": {
    "ExecuteTime": {
     "end_time": "2025-02-15T08:40:05.472925Z",
     "start_time": "2025-02-15T08:40:05.469506Z"
    }
   },
   "cell_type": "code",
   "source": [
    "f = open(\"test.txt\",\"r\")\n",
    "\n",
    "data = f.read()\n",
    "\n",
    "f.close()\n",
    "\n",
    "print(data)"
   ],
   "id": "c35c49e906c2dd61",
   "outputs": [
    {
     "name": "stdout",
     "output_type": "stream",
     "text": [
      "Benim adım Mert\n"
     ]
    }
   ],
   "execution_count": 3
  },
  {
   "metadata": {},
   "cell_type": "markdown",
   "source": "# Nesneye Yönelik Programlama\n",
   "id": "eb17cf5d9b7da46f"
  },
  {
   "metadata": {
    "ExecuteTime": {
     "end_time": "2025-02-15T08:40:05.501279Z",
     "start_time": "2025-02-15T08:40:05.498704Z"
    }
   },
   "cell_type": "code",
   "source": [
    "class Araba():\n",
    "    korna = \"biip\"\n",
    "    renk = \"Kırmızı\""
   ],
   "id": "db8761c77252d4d7",
   "outputs": [],
   "execution_count": 4
  },
  {
   "metadata": {
    "ExecuteTime": {
     "end_time": "2025-02-15T08:40:05.523469Z",
     "start_time": "2025-02-15T08:40:05.519665Z"
    }
   },
   "cell_type": "code",
   "source": [
    "ford = Araba()\n",
    "toyota = Araba()\n",
    "print(ford.renk)"
   ],
   "id": "f194b104f06de427",
   "outputs": [
    {
     "name": "stdout",
     "output_type": "stream",
     "text": [
      "Kırmızı\n"
     ]
    }
   ],
   "execution_count": 5
  },
  {
   "metadata": {
    "ExecuteTime": {
     "end_time": "2025-02-15T08:40:05.553750Z",
     "start_time": "2025-02-15T08:40:05.551635Z"
    }
   },
   "cell_type": "code",
   "source": "ford.renk = \"Siyah\"",
   "id": "ed137d1f1de86dd3",
   "outputs": [],
   "execution_count": 6
  },
  {
   "metadata": {
    "ExecuteTime": {
     "end_time": "2025-02-15T08:40:05.579473Z",
     "start_time": "2025-02-15T08:40:05.575090Z"
    }
   },
   "cell_type": "code",
   "source": "print(ford.renk)",
   "id": "ac778a070d4946cf",
   "outputs": [
    {
     "name": "stdout",
     "output_type": "stream",
     "text": [
      "Siyah\n"
     ]
    }
   ],
   "execution_count": 7
  },
  {
   "metadata": {
    "ExecuteTime": {
     "end_time": "2025-02-15T08:40:05.603325Z",
     "start_time": "2025-02-15T08:40:05.595991Z"
    }
   },
   "cell_type": "code",
   "source": "print(toyota.renk)",
   "id": "a743c991bfc6ef18",
   "outputs": [
    {
     "name": "stdout",
     "output_type": "stream",
     "text": [
      "Kırmızı\n"
     ]
    }
   ],
   "execution_count": 8
  },
  {
   "metadata": {
    "ExecuteTime": {
     "end_time": "2025-02-15T08:40:05.624787Z",
     "start_time": "2025-02-15T08:40:05.622694Z"
    }
   },
   "cell_type": "code",
   "source": [
    "class Araba():\n",
    "    def __init__(self, color, year):  # self ilk parametredir.(sınıfın kendisi anlamına gelir.)\n",
    "        self.renk = color\n",
    "        self.yil = year"
   ],
   "id": "ddf00bd55b4367f2",
   "outputs": [],
   "execution_count": 9
  },
  {
   "metadata": {
    "ExecuteTime": {
     "end_time": "2025-02-15T08:40:05.646080Z",
     "start_time": "2025-02-15T08:40:05.640681Z"
    }
   },
   "cell_type": "code",
   "source": "ford = Araba(\"Mavi\", 2016)",
   "id": "711e21fb2ee6014b",
   "outputs": [],
   "execution_count": 10
  },
  {
   "metadata": {
    "ExecuteTime": {
     "end_time": "2025-02-15T08:40:05.661351Z",
     "start_time": "2025-02-15T08:40:05.656314Z"
    }
   },
   "cell_type": "code",
   "source": "ford.renk",
   "id": "952079033aa756c4",
   "outputs": [
    {
     "data": {
      "text/plain": [
       "'Mavi'"
      ]
     },
     "execution_count": 11,
     "metadata": {},
     "output_type": "execute_result"
    }
   ],
   "execution_count": 11
  },
  {
   "metadata": {
    "ExecuteTime": {
     "end_time": "2025-02-15T08:40:05.692706Z",
     "start_time": "2025-02-15T08:40:05.687987Z"
    }
   },
   "cell_type": "code",
   "source": "toyota = Araba(\"Turuncu\", 2018)",
   "id": "10a9d99875d7eab6",
   "outputs": [],
   "execution_count": 12
  },
  {
   "metadata": {
    "ExecuteTime": {
     "end_time": "2025-02-15T08:40:05.736122Z",
     "start_time": "2025-02-15T08:40:05.731427Z"
    }
   },
   "cell_type": "code",
   "source": "toyota.renk # Özellik",
   "id": "20ac6d5dcfc4c500",
   "outputs": [
    {
     "data": {
      "text/plain": [
       "'Turuncu'"
      ]
     },
     "execution_count": 13,
     "metadata": {},
     "output_type": "execute_result"
    }
   ],
   "execution_count": 13
  },
  {
   "metadata": {
    "ExecuteTime": {
     "end_time": "2025-02-15T08:40:05.789372Z",
     "start_time": "2025-02-15T08:40:05.786795Z"
    }
   },
   "cell_type": "code",
   "source": [
    "class Telefon():\n",
    "    def mesajUyari(self):\n",
    "        print(\"biip biip\")"
   ],
   "id": "a7b5d4751c874c5e",
   "outputs": [],
   "execution_count": 14
  },
  {
   "metadata": {
    "ExecuteTime": {
     "end_time": "2025-02-15T08:40:05.828043Z",
     "start_time": "2025-02-15T08:40:05.823822Z"
    }
   },
   "cell_type": "code",
   "source": [
    "iphone12 = Telefon()\n",
    "iphone12.mesajUyari() # Methodlar, fonksiyonlardan türer."
   ],
   "id": "da34944e2d49b3c2",
   "outputs": [
    {
     "name": "stdout",
     "output_type": "stream",
     "text": [
      "biip biip\n"
     ]
    }
   ],
   "execution_count": 15
  },
  {
   "metadata": {},
   "cell_type": "markdown",
   "source": "# Modül ve Paketler",
   "id": "59adbc504d3ccde7"
  },
  {
   "metadata": {
    "ExecuteTime": {
     "end_time": "2025-02-15T08:40:05.852854Z",
     "start_time": "2025-02-15T08:40:05.845410Z"
    }
   },
   "cell_type": "code",
   "source": "import ornek_modul",
   "id": "c312536121d467f3",
   "outputs": [],
   "execution_count": 16
  },
  {
   "metadata": {
    "ExecuteTime": {
     "end_time": "2025-02-15T08:40:05.876768Z",
     "start_time": "2025-02-15T08:40:05.873624Z"
    }
   },
   "cell_type": "code",
   "source": "ornek_modul.topla(10, 20)",
   "id": "32ab93e9d9b37ec1",
   "outputs": [
    {
     "name": "stdout",
     "output_type": "stream",
     "text": [
      "30\n"
     ]
    }
   ],
   "execution_count": 17
  },
  {
   "metadata": {
    "ExecuteTime": {
     "end_time": "2025-02-15T08:40:05.912118Z",
     "start_time": "2025-02-15T08:40:05.910142Z"
    }
   },
   "cell_type": "code",
   "source": "import sys",
   "id": "c8bbfe16c24c8055",
   "outputs": [],
   "execution_count": 18
  },
  {
   "metadata": {
    "ExecuteTime": {
     "end_time": "2025-02-15T08:40:05.924856Z",
     "start_time": "2025-02-15T08:40:05.922254Z"
    }
   },
   "cell_type": "code",
   "source": "sys.path",
   "id": "6329e67c8e0c08b",
   "outputs": [
    {
     "data": {
      "text/plain": [
       "['/Users/mertguney/Desktop/AI_106',\n",
       " '/Applications/PyCharm.app/Contents/plugins/python-ce/helpers/pydev',\n",
       " '/Applications/PyCharm.app/Contents/plugins/python/helpers-pro/jupyter_debug',\n",
       " '/Library/Developer/CommandLineTools/Library/Frameworks/Python3.framework/Versions/3.9/lib/python39.zip',\n",
       " '/Library/Developer/CommandLineTools/Library/Frameworks/Python3.framework/Versions/3.9/lib/python3.9',\n",
       " '/Library/Developer/CommandLineTools/Library/Frameworks/Python3.framework/Versions/3.9/lib/python3.9/lib-dynload',\n",
       " '',\n",
       " '/Users/mertguney/Library/Python/3.9/lib/python/site-packages',\n",
       " '/Library/Developer/CommandLineTools/Library/Frameworks/Python3.framework/Versions/3.9/lib/python3.9/site-packages']"
      ]
     },
     "execution_count": 19,
     "metadata": {},
     "output_type": "execute_result"
    }
   ],
   "execution_count": 19
  },
  {
   "metadata": {
    "ExecuteTime": {
     "end_time": "2025-02-15T08:40:05.967796Z",
     "start_time": "2025-02-15T08:40:05.965334Z"
    }
   },
   "cell_type": "code",
   "source": [
    "def topla(a,b):\n",
    "    print(a+b)\n",
    "\n",
    "def carp(c,d):\n",
    "    print(c*d)"
   ],
   "id": "82420b1f8055ce41",
   "outputs": [],
   "execution_count": 20
  },
  {
   "metadata": {
    "ExecuteTime": {
     "end_time": "2025-02-15T08:40:06.030928Z",
     "start_time": "2025-02-15T08:40:06.011430Z"
    }
   },
   "cell_type": "code",
   "source": "sys.path.append(\"/kod_dosyalari\")",
   "id": "5b44bbdb6a97b6b7",
   "outputs": [],
   "execution_count": 21
  },
  {
   "metadata": {
    "ExecuteTime": {
     "end_time": "2025-02-15T08:40:06.048921Z",
     "start_time": "2025-02-15T08:40:06.041943Z"
    }
   },
   "cell_type": "code",
   "source": "sys.path",
   "id": "1d062eb434aa1279",
   "outputs": [
    {
     "data": {
      "text/plain": [
       "['/Users/mertguney/Desktop/AI_106',\n",
       " '/Applications/PyCharm.app/Contents/plugins/python-ce/helpers/pydev',\n",
       " '/Applications/PyCharm.app/Contents/plugins/python/helpers-pro/jupyter_debug',\n",
       " '/Library/Developer/CommandLineTools/Library/Frameworks/Python3.framework/Versions/3.9/lib/python39.zip',\n",
       " '/Library/Developer/CommandLineTools/Library/Frameworks/Python3.framework/Versions/3.9/lib/python3.9',\n",
       " '/Library/Developer/CommandLineTools/Library/Frameworks/Python3.framework/Versions/3.9/lib/python3.9/lib-dynload',\n",
       " '',\n",
       " '/Users/mertguney/Library/Python/3.9/lib/python/site-packages',\n",
       " '/Library/Developer/CommandLineTools/Library/Frameworks/Python3.framework/Versions/3.9/lib/python3.9/site-packages',\n",
       " '/kod_dosyalari']"
      ]
     },
     "execution_count": 22,
     "metadata": {},
     "output_type": "execute_result"
    }
   ],
   "execution_count": 22
  },
  {
   "metadata": {
    "ExecuteTime": {
     "end_time": "2025-02-15T08:40:06.138719Z",
     "start_time": "2025-02-15T08:40:06.136276Z"
    }
   },
   "cell_type": "code",
   "source": "import ornek_modul as om",
   "id": "7d78003ee7d68464",
   "outputs": [],
   "execution_count": 23
  },
  {
   "metadata": {
    "ExecuteTime": {
     "end_time": "2025-02-15T08:40:06.196600Z",
     "start_time": "2025-02-15T08:40:06.194090Z"
    }
   },
   "cell_type": "code",
   "source": "om.carp(10, 20)",
   "id": "c47a6e6805bf9b2e",
   "outputs": [
    {
     "name": "stdout",
     "output_type": "stream",
     "text": [
      "200\n"
     ]
    }
   ],
   "execution_count": 24
  },
  {
   "metadata": {
    "ExecuteTime": {
     "end_time": "2025-02-15T08:40:06.306174Z",
     "start_time": "2025-02-15T08:40:06.293475Z"
    }
   },
   "cell_type": "code",
   "source": "from ornek_modul import topla",
   "id": "911126ae5dffb1d1",
   "outputs": [],
   "execution_count": 25
  },
  {
   "metadata": {
    "ExecuteTime": {
     "end_time": "2025-02-15T08:40:06.341165Z",
     "start_time": "2025-02-15T08:40:06.332647Z"
    }
   },
   "cell_type": "code",
   "source": "topla(457896, 124896)",
   "id": "919ccd52596d11ae",
   "outputs": [
    {
     "name": "stdout",
     "output_type": "stream",
     "text": [
      "582792\n"
     ]
    }
   ],
   "execution_count": 26
  },
  {
   "metadata": {
    "ExecuteTime": {
     "end_time": "2025-02-15T08:40:06.392974Z",
     "start_time": "2025-02-15T08:40:06.387725Z"
    }
   },
   "cell_type": "code",
   "source": "dir(om)",
   "id": "b701bd3bb33763d8",
   "outputs": [
    {
     "data": {
      "text/plain": [
       "['__builtins__',\n",
       " '__cached__',\n",
       " '__doc__',\n",
       " '__file__',\n",
       " '__loader__',\n",
       " '__name__',\n",
       " '__package__',\n",
       " '__spec__',\n",
       " 'carp',\n",
       " 'topla']"
      ]
     },
     "execution_count": 27,
     "metadata": {},
     "output_type": "execute_result"
    }
   ],
   "execution_count": 27
  },
  {
   "metadata": {},
   "cell_type": "markdown",
   "source": "# Hata Yönetimi",
   "id": "df2adad36910dc82"
  },
  {
   "metadata": {
    "ExecuteTime": {
     "end_time": "2025-02-15T08:40:21.349755Z",
     "start_time": "2025-02-15T08:40:21.342686Z"
    }
   },
   "cell_type": "code",
   "source": "#  5isim = 5",
   "id": "2bfb0a441ee7e73a",
   "outputs": [
    {
     "ename": "SyntaxError",
     "evalue": "invalid syntax (3173218729.py, line 1)",
     "output_type": "error",
     "traceback": [
      "\u001B[0;36m  Cell \u001B[0;32mIn[28], line 1\u001B[0;36m\u001B[0m\n\u001B[0;31m    5isim = 5\u001B[0m\n\u001B[0m     ^\u001B[0m\n\u001B[0;31mSyntaxError\u001B[0m\u001B[0;31m:\u001B[0m invalid syntax\n"
     ]
    }
   ],
   "execution_count": 28
  },
  {
   "metadata": {
    "ExecuteTime": {
     "end_time": "2025-02-15T08:40:44.599339Z",
     "start_time": "2025-02-15T08:40:44.593303Z"
    }
   },
   "cell_type": "code",
   "source": [
    "#  if 3>2\n",
    "    print(\"3, 2'den büyüktür\")"
   ],
   "id": "422dd4ef28766689",
   "outputs": [
    {
     "ename": "SyntaxError",
     "evalue": "invalid syntax (755824853.py, line 1)",
     "output_type": "error",
     "traceback": [
      "\u001B[0;36m  Cell \u001B[0;32mIn[29], line 1\u001B[0;36m\u001B[0m\n\u001B[0;31m    if 3>2\u001B[0m\n\u001B[0m          ^\u001B[0m\n\u001B[0;31mSyntaxError\u001B[0m\u001B[0;31m:\u001B[0m invalid syntax\n"
     ]
    }
   ],
   "execution_count": 29
  },
  {
   "metadata": {
    "ExecuteTime": {
     "end_time": "2025-02-15T08:40:55.176754Z",
     "start_time": "2025-02-15T08:40:55.134174Z"
    }
   },
   "cell_type": "code",
   "source": "6/0",
   "id": "636d9c8f69aed06e",
   "outputs": [
    {
     "ename": "ZeroDivisionError",
     "evalue": "division by zero",
     "output_type": "error",
     "traceback": [
      "\u001B[0;31m---------------------------------------------------------------------------\u001B[0m",
      "\u001B[0;31mZeroDivisionError\u001B[0m                         Traceback (most recent call last)",
      "Cell \u001B[0;32mIn[30], line 1\u001B[0m\n\u001B[0;32m----> 1\u001B[0m \u001B[38;5;241;43m6\u001B[39;49m\u001B[38;5;241;43m/\u001B[39;49m\u001B[38;5;241;43m0\u001B[39;49m\n",
      "\u001B[0;31mZeroDivisionError\u001B[0m: division by zero"
     ]
    }
   ],
   "execution_count": 30
  },
  {
   "metadata": {
    "ExecuteTime": {
     "end_time": "2025-02-15T08:46:39.597068Z",
     "start_time": "2025-02-15T08:46:25.138561Z"
    }
   },
   "cell_type": "code",
   "source": [
    "try: # Hata olasılığı olan kodları buraya yazarız.\n",
    "    sayi1 = float(input(\"Bölünecek sayıyı giriniz\"))\n",
    "    sayi2 = float(input(\"Böleni giriniz\"))\n",
    "\n",
    "    print(sayi1/sayi2)\n",
    "except:\n",
    "    print(\"Bir sayı, sıfıra bölünemez\")\n",
    "\n",
    "print(\"Programın ana akışı\")"
   ],
   "id": "9da299769b06f7a1",
   "outputs": [
    {
     "name": "stdout",
     "output_type": "stream",
     "text": [
      "Bir sayı, sıfıra bölünemez\n",
      "Programın ana akışı\n"
     ]
    }
   ],
   "execution_count": 32
  },
  {
   "metadata": {
    "ExecuteTime": {
     "end_time": "2025-02-15T09:17:34.644299Z",
     "start_time": "2025-02-15T09:17:22.506645Z"
    }
   },
   "cell_type": "code",
   "source": [
    "try:\n",
    "    sayi1 = float(input(\"Bölünecek sayıyı giriniz\"))\n",
    "    sayi2 = float(input(\"Böleni giriniz\"))\n",
    "\n",
    "    print(sayi1/sayi2)\n",
    "\n",
    "    liste=[1,2,3]\n",
    "    i=int(input(\"Lütfen bir indeks giriniz\"))\n",
    "    print(liste[i])\n",
    "\n",
    "except ZeroDivisionError:\n",
    "    print(\"Bir sayı sıfıra bölünemez\")\n",
    "except IndexError:\n",
    "    print(\"Liste indeksi olarak 2 den büyük değer giremezsiniz...\")\n",
    "\n",
    "print(\"Programın ana akışı\")"
   ],
   "id": "f75aa7c52ed8dffc",
   "outputs": [
    {
     "name": "stdout",
     "output_type": "stream",
     "text": [
      "4.0\n",
      "Liste indeksi olarak 2 den büyük değer giremezsiniz...\n",
      "Programın ana akışı\n"
     ]
    }
   ],
   "execution_count": 35
  },
  {
   "metadata": {},
   "cell_type": "markdown",
   "source": [
    "\n",
    "1. Dörtgen, üçgen veya  dairenin  Alan hesabı. Kullanıcıdan en boy değerleri alınacak ve alan hesaplanacak.\n",
    "\n",
    "\n",
    "2. Girilen \"gün\", \"saat\", \"dakika\" ve \"saniye\" değerine göre, toplam saniyeyi hesaplayan bir uygulama yapınız.\n",
    "\n",
    "\n",
    "3. Vücut Kitle Endeksini hesaplayan uygulamayı yapın (ağırlığın(kg) boyun karesine (m)bölümü)\n",
    "\n",
    "\n",
    "4. Restoran. Kullanıcı \"pizza\", \"burger\" veya \"salata\" seçeneklerinden birini seçecek. seçtiği menünün fiyatını bir değişkene atayacak.\n",
    "Bu fiyata %15 vergi oranı uygulayacak, %10 bahşiş ekleyecek ve toplam fiyat yazdırılacak.\n",
    "\n",
    "5. feed'i inch, yard, mil e çevirin.\n",
    "\n",
    "\n",
    "6. Kullanıcı bir kelime girecek, bu kelime \"tr\" ifadesi içeriyorsa \"kelime tr ifadesi içeriyor\" mesajı, içermiyorsa \"tr ifadesi içermiyor\" mesajı versin.\n",
    "\n",
    "\n",
    "7. Kullanıcıdan iki kelime girdisi isteyeceksiniz. ikisinin aynı kelime olup olmadığını kıyaslayacaksınız.\n",
    "(kullanıcı ister büyük harfle girsin ister küçük. -lower)\n",
    "\n",
    "\n",
    "8. Herhangi  bir sayı girsin. Girdiği sayının 100 den büyük, küçük veya eşit olduğu mesajı verilsin. (tiplere dikkat)\n",
    "\n",
    "\n",
    "9. Kullanıcı yaşını girecek, 12 yaşa kadar- Çocuk, 13-19 yaş - Ergen, 20-30 yaş Genç yetişkin, 30-64 yaş Yetişkin, 64 yaş üzeri olgun.\n",
    "\n",
    "\n",
    "10. Kullanıcı bir kelime girecek, sonu \"miş\" le mi bitiyor kontrol edilecek. mesaj yazdıracaksınız.\n",
    "\n",
    "\n",
    "11. Hesap makinesi. Kullanıcıdan hangi işlemi yapmak istediği metin olarak alınacak. \"bol\" \"carp\" gibi.\n",
    "\n",
    "12. Uygulama\n",
    "Aslandan kaçma oyunu\n",
    "Bir aslanla karşılaştınız ne yapardınız?\n",
    "1-Kaçardım\n",
    "2-Ağaca tırmanırdım\n",
    "\n",
    "1 seçeneği seçilirse\n",
    "    1-Nehire doğru\n",
    "    2-Otoyola doğru\n",
    "eğer burda 1 seçilirse aslana yakalanacak, 2 seçilirse aslandan kaçabilecek.\n",
    "\n",
    "2 seçeneği seçilirse\n",
    "    1-En yakın\n",
    "    2-Biraz daha uzak ama daha uzun\n",
    "eğer burada 1 seçeneği seçilirse aslan sizi yakalayacak."
   ],
   "id": "abea89249bca059"
  },
  {
   "metadata": {
    "ExecuteTime": {
     "end_time": "2025-02-15T20:19:18.500982Z",
     "start_time": "2025-02-15T20:19:11.911651Z"
    }
   },
   "cell_type": "code",
   "source": [
    "genişlik = float(input(\"Genişlik: \"))\n",
    "yukseklik = float(input(\"yükseklik: \"))\n",
    "alan = genişlik * yukseklik\n",
    "print(\"Odanın alanı \", alan , \" m kare\")"
   ],
   "id": "454b8011c88d054a",
   "outputs": [
    {
     "name": "stdout",
     "output_type": "stream",
     "text": [
      "Odanın alanı  12.0  m kare\n"
     ]
    }
   ],
   "execution_count": 37
  },
  {
   "metadata": {
    "ExecuteTime": {
     "end_time": "2025-02-15T20:19:42.317822Z",
     "start_time": "2025-02-15T20:19:26.650613Z"
    }
   },
   "cell_type": "code",
   "source": [
    "gun = float(input(\"Gun sayısı giriniz: \"))\n",
    "saat = float(input(\"Saat sayısı: \"))\n",
    "dakika = float(input(\"Dakika?: \"))\n",
    "saniye = float(input(\"Saniye: \"))\n",
    "\n",
    "gun_saniye = gun * 86400\n",
    "saat_saniye = saat * 3600\n",
    "dakika_saniye = dakika * 60\n",
    "\n",
    "\n",
    "toplam_saniye = gun_saniye + saat_saniye + dakika_saniye + saniye\n",
    "print(\"Toplam saniye: \", toplam_saniye)"
   ],
   "id": "82410cf9fd066c5c",
   "outputs": [
    {
     "name": "stdout",
     "output_type": "stream",
     "text": [
      "Toplam saniye:  714312.0\n"
     ]
    }
   ],
   "execution_count": 38
  },
  {
   "metadata": {
    "ExecuteTime": {
     "end_time": "2025-02-15T20:20:05.263617Z",
     "start_time": "2025-02-15T20:20:00.662340Z"
    }
   },
   "cell_type": "code",
   "source": [
    "yemek = input(\"Hangi yemeği (menüyü) istersiniz? (pizza, burger, salata)? \")\n",
    "\n",
    "if yemek == \"pizza\":\n",
    "      fiyat = 150.98\n",
    "elif yemek == \"burger\":\n",
    "      fiyat = 140.55\n",
    "else:\n",
    "      fiyat = 100.11\n",
    "\n",
    "\n",
    "vergi_orani = 0.15\n",
    "vergi = vergi_orani * fiyat\n",
    "# bahsis vergi oranı 10 %\n",
    "bahsis_orani = 0.10\n",
    "bahsis = bahsis_orani * fiyat\n",
    "\n",
    "toplam_fiyat = vergi + bahsis + fiyat\n",
    "\n",
    "\n",
    "print(yemek, \"fiyatı: \", fiyat, \"TL\")\n",
    "print(f\"Vergi:  {vergi:.2f} TL\")\n",
    "print(f\"Bahşiş:  {bahsis:.2f}TL\")\n",
    "print(f\"Toplam fiyat: {toplam_fiyat:.2f} TL\")"
   ],
   "id": "c428daec2b71cb49",
   "outputs": [
    {
     "name": "stdout",
     "output_type": "stream",
     "text": [
      "burger fiyatı:  140.55 TL\n",
      "Vergi:  21.08 TL\n",
      "Bahşiş:  14.06TL\n",
      "Toplam fiyat: 175.69 TL\n"
     ]
    }
   ],
   "execution_count": 39
  },
  {
   "metadata": {
    "ExecuteTime": {
     "end_time": "2025-02-16T07:24:08.232338Z",
     "start_time": "2025-02-16T07:24:04.699064Z"
    }
   },
   "cell_type": "code",
   "source": [
    "cevap = input('Lütfen bir kelime giriniz: ')\n",
    "\n",
    "if 'tr' in cevap:\n",
    "      print('Kelimen \"tr\" içerir')\n",
    "elif 'tr' not in cevap:\n",
    "      print('Kelimen \"tr\" içermiyor')"
   ],
   "id": "2268d023f187df0e",
   "outputs": [
    {
     "name": "stdout",
     "output_type": "stream",
     "text": [
      "Kelimen \"tr\" içermiyor\n"
     ]
    }
   ],
   "execution_count": 40
  },
  {
   "metadata": {
    "ExecuteTime": {
     "end_time": "2025-02-16T07:24:27.150467Z",
     "start_time": "2025-02-16T07:24:24.037576Z"
    }
   },
   "cell_type": "code",
   "source": [
    "yas = int(input('Kaç yaşındasın? '))\n",
    "\n",
    "if yas >= 0 and yas <= 12:\n",
    "      print('Çocuk')\n",
    "elif yas >= 13 and yas <= 19:\n",
    "      print('Ergen')\n",
    "elif yas >= 20 and yas <= 30:\n",
    "      print('Genç yetişkin')\n",
    "elif yas >= 31 and yas <= 64:\n",
    "      print('Yetişkin')\n",
    "elif yas >= 65:\n",
    "      print('Olgun')"
   ],
   "id": "b716f00a60a169c8",
   "outputs": [
    {
     "name": "stdout",
     "output_type": "stream",
     "text": [
      "Yetişkin\n"
     ]
    }
   ],
   "execution_count": 41
  },
  {
   "metadata": {
    "ExecuteTime": {
     "end_time": "2025-02-16T07:24:41.929444Z",
     "start_time": "2025-02-16T07:24:36.477648Z"
    }
   },
   "cell_type": "code",
   "source": [
    "cevap = input('Bir kelime giriniz: ')\n",
    "\n",
    "if 'miş' in cevap[-3:].lower():\n",
    "      print('Kelime sonunda \"miş\" var.')\n",
    "elif 'miş' not in cevap[-3:].lower():\n",
    "      print('Kelime sonunda \"miş\" yok.')"
   ],
   "id": "1448f77dbafef320",
   "outputs": [
    {
     "name": "stdout",
     "output_type": "stream",
     "text": [
      "Kelime sonunda \"miş\" yok.\n"
     ]
    }
   ],
   "execution_count": 42
  },
  {
   "metadata": {
    "ExecuteTime": {
     "end_time": "2025-02-16T07:26:11.613367Z",
     "start_time": "2025-02-16T07:26:11.600533Z"
    }
   },
   "cell_type": "code",
   "source": "\"GELMİŞ\".lower()",
   "id": "a9a59deee30ffa1b",
   "outputs": [
    {
     "data": {
      "text/plain": [
       "'gelmi̇ş'"
      ]
     },
     "execution_count": 45,
     "metadata": {},
     "output_type": "execute_result"
    }
   ],
   "execution_count": 45
  },
  {
   "metadata": {},
   "cell_type": "markdown",
   "source": "# Numpy",
   "id": "aaed6b691aa7e762"
  },
  {
   "metadata": {
    "ExecuteTime": {
     "end_time": "2025-02-16T08:42:41.498309Z",
     "start_time": "2025-02-16T08:42:41.467476Z"
    }
   },
   "cell_type": "code",
   "source": [
    "x = [4, 8, 2, 3, 8, 1, 3, 6, 3, 8, 7, 3, 7, 3, 5, 9, 3, 4, 3, 8, 2, 5]\n",
    "y = [5, 7, 2, 4, 2, 5, 7, 2, 4, 4, 3, 1, 5, 6, 2, 5, 3, 7, 3, 8, 1, 6]"
   ],
   "id": "767cb9c179d39372",
   "outputs": [],
   "execution_count": 46
  },
  {
   "metadata": {
    "ExecuteTime": {
     "end_time": "2025-02-16T08:44:20.359306Z",
     "start_time": "2025-02-16T08:44:20.333143Z"
    }
   },
   "cell_type": "code",
   "source": [
    "xy = []\n",
    "\n",
    "for i in range(len(x)):\n",
    "      xy.append(x[i]*y[i])\n",
    "\n",
    "print(xy)"
   ],
   "id": "1f57d9b19a232514",
   "outputs": [
    {
     "name": "stdout",
     "output_type": "stream",
     "text": [
      "[20, 56, 4, 12, 16, 5, 21, 12, 12, 32, 21, 3, 35, 18, 10, 45, 9, 28, 9, 64, 2, 30]\n"
     ]
    }
   ],
   "execution_count": 47
  },
  {
   "metadata": {
    "ExecuteTime": {
     "end_time": "2025-02-16T09:02:54.179371Z",
     "start_time": "2025-02-16T09:02:53.363701Z"
    }
   },
   "cell_type": "code",
   "source": "import numpy as np",
   "id": "7d854f339813d1e7",
   "outputs": [],
   "execution_count": 49
  },
  {
   "metadata": {
    "ExecuteTime": {
     "end_time": "2025-02-16T09:08:04.033953Z",
     "start_time": "2025-02-16T09:08:04.021265Z"
    }
   },
   "cell_type": "code",
   "source": [
    "x = np.array([4, 8, 2, 3, 8, 1, 3, 6, 3, 8, 7, 3, 7, 3, 5, 9, 3, 4, 3, 8, 2, 5])\n",
    "y = np.array([5, 7, 2, 4, 2, 5, 7, 2, 4, 4, 3, 1, 5, 6, 2, 5, 3, 7, 3, 8, 1, 6])"
   ],
   "id": "e871e7fb71c8429d",
   "outputs": [],
   "execution_count": 55
  },
  {
   "metadata": {
    "ExecuteTime": {
     "end_time": "2025-02-16T09:13:09.638653Z",
     "start_time": "2025-02-16T09:13:09.622950Z"
    }
   },
   "cell_type": "code",
   "source": "print(x*y)",
   "id": "4f1f96fa93755316",
   "outputs": [
    {
     "name": "stdout",
     "output_type": "stream",
     "text": [
      "[20 56  4 12 16  5 21 12 12 32 21  3 35 18 10 45  9 28  9 64  2 30]\n"
     ]
    }
   ],
   "execution_count": 57
  },
  {
   "metadata": {
    "ExecuteTime": {
     "end_time": "2025-02-16T09:13:25.816764Z",
     "start_time": "2025-02-16T09:13:25.809731Z"
    }
   },
   "cell_type": "code",
   "source": "x*y",
   "id": "b616aa89d901ce0a",
   "outputs": [
    {
     "data": {
      "text/plain": [
       "array([20, 56,  4, 12, 16,  5, 21, 12, 12, 32, 21,  3, 35, 18, 10, 45,  9,\n",
       "       28,  9, 64,  2, 30])"
      ]
     },
     "execution_count": 58,
     "metadata": {},
     "output_type": "execute_result"
    }
   ],
   "execution_count": 58
  },
  {
   "metadata": {
    "ExecuteTime": {
     "end_time": "2025-02-16T09:13:33.360857Z",
     "start_time": "2025-02-16T09:13:33.342068Z"
    }
   },
   "cell_type": "code",
   "source": "x.ndim",
   "id": "bb756a9f2b557ebf",
   "outputs": [
    {
     "data": {
      "text/plain": [
       "1"
      ]
     },
     "execution_count": 59,
     "metadata": {},
     "output_type": "execute_result"
    }
   ],
   "execution_count": 59
  },
  {
   "metadata": {
    "ExecuteTime": {
     "end_time": "2025-02-16T09:13:40.054643Z",
     "start_time": "2025-02-16T09:13:40.050270Z"
    }
   },
   "cell_type": "code",
   "source": "x.size",
   "id": "69ae96b22931a0a4",
   "outputs": [
    {
     "data": {
      "text/plain": [
       "22"
      ]
     },
     "execution_count": 60,
     "metadata": {},
     "output_type": "execute_result"
    }
   ],
   "execution_count": 60
  },
  {
   "metadata": {
    "ExecuteTime": {
     "end_time": "2025-02-16T09:13:47.544268Z",
     "start_time": "2025-02-16T09:13:47.537633Z"
    }
   },
   "cell_type": "code",
   "source": "x.shape",
   "id": "d21b82b18e509aa7",
   "outputs": [
    {
     "data": {
      "text/plain": [
       "(22,)"
      ]
     },
     "execution_count": 61,
     "metadata": {},
     "output_type": "execute_result"
    }
   ],
   "execution_count": 61
  },
  {
   "metadata": {
    "ExecuteTime": {
     "end_time": "2025-02-16T09:17:14.097095Z",
     "start_time": "2025-02-16T09:17:14.086692Z"
    }
   },
   "cell_type": "code",
   "source": "a = np.array([1, 2, 3])",
   "id": "57fb9d731261c19e",
   "outputs": [],
   "execution_count": 62
  },
  {
   "metadata": {
    "ExecuteTime": {
     "end_time": "2025-02-16T09:17:18.562558Z",
     "start_time": "2025-02-16T09:17:18.557158Z"
    }
   },
   "cell_type": "code",
   "source": "a.ndim",
   "id": "37c60e00d2799126",
   "outputs": [
    {
     "data": {
      "text/plain": [
       "1"
      ]
     },
     "execution_count": 63,
     "metadata": {},
     "output_type": "execute_result"
    }
   ],
   "execution_count": 63
  },
  {
   "metadata": {
    "ExecuteTime": {
     "end_time": "2025-02-16T09:17:21.243155Z",
     "start_time": "2025-02-16T09:17:21.237868Z"
    }
   },
   "cell_type": "code",
   "source": "b = np.array([[1.3, 2.4, 3], [0.3, 4.1, 2]])",
   "id": "a564a3bce75908ba",
   "outputs": [],
   "execution_count": 64
  },
  {
   "metadata": {
    "ExecuteTime": {
     "end_time": "2025-02-16T09:18:34.882480Z",
     "start_time": "2025-02-16T09:18:34.877355Z"
    }
   },
   "cell_type": "code",
   "source": "b",
   "id": "638e5b1e0e8c98d6",
   "outputs": [
    {
     "data": {
      "text/plain": [
       "array([[1.3, 2.4, 3. ],\n",
       "       [0.3, 4.1, 2. ]])"
      ]
     },
     "execution_count": 66,
     "metadata": {},
     "output_type": "execute_result"
    }
   ],
   "execution_count": 66
  },
  {
   "metadata": {
    "ExecuteTime": {
     "end_time": "2025-02-16T09:19:23.479560Z",
     "start_time": "2025-02-16T09:19:23.469998Z"
    }
   },
   "cell_type": "code",
   "source": "b.ndim",
   "id": "627110ce167f8912",
   "outputs": [
    {
     "data": {
      "text/plain": [
       "2"
      ]
     },
     "execution_count": 67,
     "metadata": {},
     "output_type": "execute_result"
    }
   ],
   "execution_count": 67
  },
  {
   "metadata": {
    "ExecuteTime": {
     "end_time": "2025-02-16T09:19:27.499363Z",
     "start_time": "2025-02-16T09:19:27.492637Z"
    }
   },
   "cell_type": "code",
   "source": "b.shape",
   "id": "be46ee280836ed66",
   "outputs": [
    {
     "data": {
      "text/plain": [
       "(2, 3)"
      ]
     },
     "execution_count": 68,
     "metadata": {},
     "output_type": "execute_result"
    }
   ],
   "execution_count": 68
  },
  {
   "metadata": {
    "ExecuteTime": {
     "end_time": "2025-02-16T09:29:03.336532Z",
     "start_time": "2025-02-16T09:29:03.315729Z"
    }
   },
   "cell_type": "code",
   "source": [
    "arr= np.array([[  0,   0,   0,   0,   0,   0,   0,   0,   0,   0,   0],\n",
    "       [  0,   0,   0,   0, 256, 256, 256, 256,   0,   0,   0],\n",
    "       [  0,   0,   0,   0, 256,   0,   0, 256,   0,   0,   0],\n",
    "       [  0,   0,   0,   0, 256,   0,   0, 256,   0,   0,   0],\n",
    "       [  0,   0,   0,   0, 256,   0,   0, 256,   0,   0,   0],\n",
    "       [  0,   0,   0,   0, 256,   0,   0, 256,   0,   0,   0],\n",
    "       [  0,   0,   0,   0, 256, 256, 256, 256,   0,   0,   0],\n",
    "       [  0,   0,   0,   0,   0,   0,   0,   0,   0,   0,   0]])"
   ],
   "id": "f276ecb2f55547f3",
   "outputs": [],
   "execution_count": 69
  },
  {
   "metadata": {
    "ExecuteTime": {
     "end_time": "2025-02-16T09:29:08.403347Z",
     "start_time": "2025-02-16T09:29:08.393816Z"
    }
   },
   "cell_type": "code",
   "source": "arr.ndim",
   "id": "1fc4e8c289ddb21e",
   "outputs": [
    {
     "data": {
      "text/plain": [
       "2"
      ]
     },
     "execution_count": 70,
     "metadata": {},
     "output_type": "execute_result"
    }
   ],
   "execution_count": 70
  },
  {
   "metadata": {
    "ExecuteTime": {
     "end_time": "2025-02-16T09:29:14.630760Z",
     "start_time": "2025-02-16T09:29:14.621144Z"
    }
   },
   "cell_type": "code",
   "source": "arr.shape",
   "id": "b6129b879aa7fe5",
   "outputs": [
    {
     "data": {
      "text/plain": [
       "(8, 11)"
      ]
     },
     "execution_count": 71,
     "metadata": {},
     "output_type": "execute_result"
    }
   ],
   "execution_count": 71
  },
  {
   "metadata": {
    "ExecuteTime": {
     "end_time": "2025-02-16T09:29:18.676616Z",
     "start_time": "2025-02-16T09:29:18.668722Z"
    }
   },
   "cell_type": "code",
   "source": "arr.size",
   "id": "4f6d98b6db7b0ea6",
   "outputs": [
    {
     "data": {
      "text/plain": [
       "88"
      ]
     },
     "execution_count": 72,
     "metadata": {},
     "output_type": "execute_result"
    }
   ],
   "execution_count": 72
  },
  {
   "metadata": {
    "ExecuteTime": {
     "end_time": "2025-02-16T09:33:26.277341Z",
     "start_time": "2025-02-16T09:33:26.272504Z"
    }
   },
   "cell_type": "code",
   "source": "import matplotlib.pyplot as plt",
   "id": "a3e44f64fa018cf3",
   "outputs": [],
   "execution_count": 77
  },
  {
   "metadata": {
    "ExecuteTime": {
     "end_time": "2025-02-16T09:33:29.879828Z",
     "start_time": "2025-02-16T09:33:29.792501Z"
    }
   },
   "cell_type": "code",
   "source": "plt.matshow(arr, cmap='gray')",
   "id": "4ff6b43ee65ea4ec",
   "outputs": [
    {
     "data": {
      "text/plain": [
       "<matplotlib.image.AxesImage at 0x105dcb700>"
      ]
     },
     "execution_count": 78,
     "metadata": {},
     "output_type": "execute_result"
    },
    {
     "data": {
      "text/plain": [
       "<Figure size 660x480 with 1 Axes>"
      ],
      "image/png": "[encoded data removed]"
     },
     "metadata": {},
     "output_type": "display_data"
    }
   ],
   "execution_count": 78
  },
  {
   "metadata": {
    "ExecuteTime": {
     "end_time": "2025-02-16T09:47:27.730722Z",
     "start_time": "2025-02-16T09:47:27.706150Z"
    }
   },
   "cell_type": "code",
   "source": "image = plt.imread(\"indir.png\")",
   "id": "765907b51962ce21",
   "outputs": [],
   "execution_count": 81
  },
  {
   "metadata": {
    "ExecuteTime": {
     "end_time": "2025-02-16T09:47:39.089641Z",
     "start_time": "2025-02-16T09:47:39.082364Z"
    }
   },
   "cell_type": "code",
   "source": "image",
   "id": "8a8a2682ae214b79",
   "outputs": [
    {
     "data": {
      "text/plain": [
       "array([[[0.47058824, 0.46666667, 0.4509804 ],\n",
       "        [0.47058824, 0.46666667, 0.4509804 ],\n",
       "        [0.47058824, 0.46666667, 0.4509804 ],\n",
       "        ...,\n",
       "        [0.6784314 , 0.6745098 , 0.69411767],\n",
       "        [0.6784314 , 0.6745098 , 0.69411767],\n",
       "        [0.68235296, 0.6784314 , 0.69803923]],\n",
       "\n",
       "       [[0.47058824, 0.46666667, 0.4509804 ],\n",
       "        [0.47058824, 0.46666667, 0.4509804 ],\n",
       "        [0.47058824, 0.46666667, 0.4509804 ],\n",
       "        ...,\n",
       "        [0.6784314 , 0.6745098 , 0.69411767],\n",
       "        [0.68235296, 0.6784314 , 0.69803923],\n",
       "        [0.68235296, 0.6784314 , 0.69803923]],\n",
       "\n",
       "       [[0.47058824, 0.46666667, 0.4509804 ],\n",
       "        [0.47058824, 0.46666667, 0.4509804 ],\n",
       "        [0.47058824, 0.46666667, 0.4509804 ],\n",
       "        ...,\n",
       "        [0.6784314 , 0.6745098 , 0.69411767],\n",
       "        [0.68235296, 0.6784314 , 0.69803923],\n",
       "        [0.68235296, 0.6784314 , 0.69803923]],\n",
       "\n",
       "       ...,\n",
       "\n",
       "       [[0.53333336, 0.5411765 , 0.5294118 ],\n",
       "        [0.53333336, 0.5411765 , 0.5294118 ],\n",
       "        [0.5372549 , 0.5372549 , 0.5294118 ],\n",
       "        ...,\n",
       "        [0.10588235, 0.11372549, 0.16470589],\n",
       "        [0.10588235, 0.11372549, 0.16470589],\n",
       "        [0.10980392, 0.10588235, 0.16078432]],\n",
       "\n",
       "       [[0.53333336, 0.5411765 , 0.5294118 ],\n",
       "        [0.53333336, 0.5411765 , 0.5294118 ],\n",
       "        [0.5372549 , 0.5372549 , 0.5294118 ],\n",
       "        ...,\n",
       "        [0.10980392, 0.11764706, 0.16862746],\n",
       "        [0.10588235, 0.11372549, 0.16470589],\n",
       "        [0.11372549, 0.10980392, 0.17254902]],\n",
       "\n",
       "       [[0.53333336, 0.5411765 , 0.5294118 ],\n",
       "        [0.53333336, 0.5411765 , 0.5294118 ],\n",
       "        [0.5372549 , 0.5372549 , 0.5294118 ],\n",
       "        ...,\n",
       "        [0.10588235, 0.11372549, 0.16470589],\n",
       "        [0.10196079, 0.10980392, 0.16078432],\n",
       "        [0.10196079, 0.09803922, 0.16078432]]], dtype=float32)"
      ]
     },
     "execution_count": 83,
     "metadata": {},
     "output_type": "execute_result"
    }
   ],
   "execution_count": 83
  },
  {
   "metadata": {
    "ExecuteTime": {
     "end_time": "2025-02-16T10:17:43.834873Z",
     "start_time": "2025-02-16T10:17:43.807242Z"
    }
   },
   "cell_type": "code",
   "source": "image.shape",
   "id": "570ca83772ca8de3",
   "outputs": [
    {
     "data": {
      "text/plain": [
       "(222, 225, 3)"
      ]
     },
     "execution_count": 84,
     "metadata": {},
     "output_type": "execute_result"
    }
   ],
   "execution_count": 84
  },
  {
   "metadata": {
    "ExecuteTime": {
     "end_time": "2025-02-16T10:17:50.683644Z",
     "start_time": "2025-02-16T10:17:50.678124Z"
    }
   },
   "cell_type": "code",
   "source": "image.size",
   "id": "557d5a08301a261a",
   "outputs": [
    {
     "data": {
      "text/plain": [
       "149850"
      ]
     },
     "execution_count": 85,
     "metadata": {},
     "output_type": "execute_result"
    }
   ],
   "execution_count": 85
  },
  {
   "metadata": {
    "ExecuteTime": {
     "end_time": "2025-02-16T10:17:57.450355Z",
     "start_time": "2025-02-16T10:17:57.422436Z"
    }
   },
   "cell_type": "code",
   "source": "image.min()",
   "id": "8cadf4c8e2a386e6",
   "outputs": [
    {
     "data": {
      "text/plain": [
       "np.float32(0.0)"
      ]
     },
     "execution_count": 86,
     "metadata": {},
     "output_type": "execute_result"
    }
   ],
   "execution_count": 86
  },
  {
   "metadata": {
    "ExecuteTime": {
     "end_time": "2025-02-16T10:18:02.866341Z",
     "start_time": "2025-02-16T10:18:02.848283Z"
    }
   },
   "cell_type": "code",
   "source": "image.max()",
   "id": "80d4e3ac0b30be4d",
   "outputs": [
    {
     "data": {
      "text/plain": [
       "np.float32(0.8666667)"
      ]
     },
     "execution_count": 87,
     "metadata": {},
     "output_type": "execute_result"
    }
   ],
   "execution_count": 87
  },
  {
   "metadata": {
    "ExecuteTime": {
     "end_time": "2025-02-16T10:18:55.692399Z",
     "start_time": "2025-02-16T10:18:55.615093Z"
    }
   },
   "cell_type": "code",
   "source": "plt.imshow(image)",
   "id": "47b8a3d79eb95f35",
   "outputs": [
    {
     "data": {
      "text/plain": [
       "<matplotlib.image.AxesImage at 0x106d56340>"
      ]
     },
     "execution_count": 91,
     "metadata": {},
     "output_type": "execute_result"
    },
    {
     "data": {
      "text/plain": [
       "<Figure size 640x480 with 1 Axes>"
      ],
      "image/png": "[encoded data removed]"
     },
     "metadata": {},
     "output_type": "display_data"
    }
   ],
   "execution_count": 91
  },
  {
   "metadata": {
    "ExecuteTime": {
     "end_time": "2025-02-16T10:19:06.427720Z",
     "start_time": "2025-02-16T10:19:06.422163Z"
    }
   },
   "cell_type": "code",
   "source": "1920*1080*3",
   "id": "f86212e528f61ee9",
   "outputs": [
    {
     "data": {
      "text/plain": [
       "6220800"
      ]
     },
     "execution_count": 92,
     "metadata": {},
     "output_type": "execute_result"
    }
   ],
   "execution_count": 92
  },
  {
   "metadata": {},
   "cell_type": "markdown",
   "source": [
    "1. Bir listedeki isimlerin baş harflerini yazdıran uygulama\n",
    "\n",
    "2. \"Tamam\" ifadesini görene kadar bir şeyler yazmanı isteyen uygulama (while)\n",
    "\n",
    "3. Bir listedeki aynı isimleri teke indirecek bir uygulama(set ile yapmayacağız)\n",
    "\n",
    "4. \"Tamam\" yazana kadar girdiğiniz kelimeleri, bir listeye ekleyen uygulama\n",
    "\n",
    "5. Bir listedeki sadece stringleri döndüren bir döngü oluşturun(hem liste hem de diğer tiplerden oluşssun, stringler, booleanlar içersin, boş olmayan stringleri döndürsün)\n",
    "\n",
    "6. liste şeklindeki Celsius değerlerin fahrenayt a çevirecek uygulama(tekrardan liste şeklinde fahrenayta derecelerden oluşan listeye dönüştürür.)\n",
    "\n",
    "7. Tahmin oyunu  \"from random import randint\"  randint(0, 100) (rastgele sayılar türetmek için, mesela 73 tuttu, biz 50 girdik sonrasında da benim tuttuğum sayı daha büyük, sonra diyelim ki 75 girdik sonrasında da benim tuttuğum sayı daha küçük diyecek böyle böyle daraltacak. En sonda da doğruyu bulunda tebrikler şu kadar tahminde bildiniz.)\n",
    "\n",
    "8.  1 den 100 e kadar 3 er 3 er sayan uygulama\n",
    "\n",
    "9. While döngüsü yine bir döngü  5 kere dönmesi gerekirken 3. hakkında yanan - döngüden çıkan ve while\n",
    "döngüsünde de çıkan bir uygulama yazın\n",
    "\n",
    "10.Girdiğiniz kelimedeki belirli harfleri yazdıran bir uygulama(mesela belirli harflerden oluşan liste belirticez. Mesela türkçe karakterlerin tamamı listesi, girdide türkçe karakterler var mı yok mu onu kontrol ederiz mesela.)\n",
    "\n"
   ],
   "id": "d2a059a5441ba92b"
  },
  {
   "metadata": {
    "ExecuteTime": {
     "end_time": "2025-02-16T10:37:47.887848Z",
     "start_time": "2025-02-16T10:37:47.860221Z"
    }
   },
   "cell_type": "code",
   "source": [
    "c = np.array([[1, 2, 3], [4, 5, 6]])\n",
    "c"
   ],
   "id": "4a58a3fe570a3419",
   "outputs": [
    {
     "data": {
      "text/plain": [
       "array([[1, 2, 3],\n",
       "       [4, 5, 6]])"
      ]
     },
     "execution_count": 94,
     "metadata": {},
     "output_type": "execute_result"
    }
   ],
   "execution_count": 94
  },
  {
   "metadata": {
    "ExecuteTime": {
     "end_time": "2025-02-16T10:38:06.874095Z",
     "start_time": "2025-02-16T10:38:06.858914Z"
    }
   },
   "cell_type": "code",
   "source": [
    "d = np.array([[1, 2, 3], [4, 5, 6]])\n",
    "d"
   ],
   "id": "6467f71d3787581a",
   "outputs": [
    {
     "data": {
      "text/plain": [
       "array([[1, 2, 3],\n",
       "       [4, 5, 6]])"
      ]
     },
     "execution_count": 95,
     "metadata": {},
     "output_type": "execute_result"
    }
   ],
   "execution_count": 95
  },
  {
   "metadata": {
    "ExecuteTime": {
     "end_time": "2025-02-16T10:38:23.702259Z",
     "start_time": "2025-02-16T10:38:23.695158Z"
    }
   },
   "cell_type": "code",
   "source": [
    "e = np.array([[1, 2, 3], [4, 5, 6], [7, 8, 9]])\n",
    "e"
   ],
   "id": "3b236982ec342460",
   "outputs": [
    {
     "data": {
      "text/plain": [
       "array([[1, 2, 3],\n",
       "       [4, 5, 6],\n",
       "       [7, 8, 9]])"
      ]
     },
     "execution_count": 96,
     "metadata": {},
     "output_type": "execute_result"
    }
   ],
   "execution_count": 96
  },
  {
   "metadata": {
    "ExecuteTime": {
     "end_time": "2025-02-16T10:39:12.433194Z",
     "start_time": "2025-02-16T10:39:12.425269Z"
    }
   },
   "cell_type": "code",
   "source": "np.zeros((300, 400))",
   "id": "23717141f9566793",
   "outputs": [
    {
     "data": {
      "text/plain": [
       "array([[0., 0., 0., ..., 0., 0., 0.],\n",
       "       [0., 0., 0., ..., 0., 0., 0.],\n",
       "       [0., 0., 0., ..., 0., 0., 0.],\n",
       "       ...,\n",
       "       [0., 0., 0., ..., 0., 0., 0.],\n",
       "       [0., 0., 0., ..., 0., 0., 0.],\n",
       "       [0., 0., 0., ..., 0., 0., 0.]])"
      ]
     },
     "execution_count": 97,
     "metadata": {},
     "output_type": "execute_result"
    }
   ],
   "execution_count": 97
  },
  {
   "metadata": {
    "ExecuteTime": {
     "end_time": "2025-02-16T10:39:33.991365Z",
     "start_time": "2025-02-16T10:39:33.974893Z"
    }
   },
   "cell_type": "code",
   "source": "np.ones((3,4), dtype=int)",
   "id": "702c85ac36f20871",
   "outputs": [
    {
     "data": {
      "text/plain": [
       "array([[1, 1, 1, 1],\n",
       "       [1, 1, 1, 1],\n",
       "       [1, 1, 1, 1]])"
      ]
     },
     "execution_count": 98,
     "metadata": {},
     "output_type": "execute_result"
    }
   ],
   "execution_count": 98
  },
  {
   "metadata": {
    "ExecuteTime": {
     "end_time": "2025-02-16T10:45:55.502347Z",
     "start_time": "2025-02-16T10:45:55.490500Z"
    }
   },
   "cell_type": "code",
   "source": "np.full((4,3),2)",
   "id": "e136729b8094254c",
   "outputs": [
    {
     "data": {
      "text/plain": [
       "array([[2, 2, 2],\n",
       "       [2, 2, 2],\n",
       "       [2, 2, 2],\n",
       "       [2, 2, 2]])"
      ]
     },
     "execution_count": 99,
     "metadata": {},
     "output_type": "execute_result"
    }
   ],
   "execution_count": 99
  },
  {
   "metadata": {
    "ExecuteTime": {
     "end_time": "2025-02-16T10:47:51.679696Z",
     "start_time": "2025-02-16T10:47:51.651975Z"
    }
   },
   "cell_type": "code",
   "source": "np.full(4,2)",
   "id": "a8281ca3be3776a8",
   "outputs": [
    {
     "data": {
      "text/plain": [
       "array([2, 2, 2, 2])"
      ]
     },
     "execution_count": 100,
     "metadata": {},
     "output_type": "execute_result"
    }
   ],
   "execution_count": 100
  },
  {
   "metadata": {
    "ExecuteTime": {
     "end_time": "2025-02-16T10:48:04.573720Z",
     "start_time": "2025-02-16T10:48:04.567283Z"
    }
   },
   "cell_type": "code",
   "source": "np.arange(10)",
   "id": "5eae3a78ad6c30fd",
   "outputs": [
    {
     "data": {
      "text/plain": [
       "array([0, 1, 2, 3, 4, 5, 6, 7, 8, 9])"
      ]
     },
     "execution_count": 101,
     "metadata": {},
     "output_type": "execute_result"
    }
   ],
   "execution_count": 101
  },
  {
   "metadata": {
    "ExecuteTime": {
     "end_time": "2025-02-16T10:48:16.380100Z",
     "start_time": "2025-02-16T10:48:16.372641Z"
    }
   },
   "cell_type": "code",
   "source": "np.arange(3,10)",
   "id": "44652e40239b2b5c",
   "outputs": [
    {
     "data": {
      "text/plain": [
       "array([3, 4, 5, 6, 7, 8, 9])"
      ]
     },
     "execution_count": 102,
     "metadata": {},
     "output_type": "execute_result"
    }
   ],
   "execution_count": 102
  },
  {
   "metadata": {
    "ExecuteTime": {
     "end_time": "2025-02-16T10:48:43.050231Z",
     "start_time": "2025-02-16T10:48:43.040777Z"
    }
   },
   "cell_type": "code",
   "source": "np.arange(0,12,2)",
   "id": "9483429d685b8e0e",
   "outputs": [
    {
     "data": {
      "text/plain": [
       "array([ 0,  2,  4,  6,  8, 10])"
      ]
     },
     "execution_count": 103,
     "metadata": {},
     "output_type": "execute_result"
    }
   ],
   "execution_count": 103
  },
  {
   "metadata": {
    "ExecuteTime": {
     "end_time": "2025-02-16T10:49:04.731304Z",
     "start_time": "2025-02-16T10:49:04.712176Z"
    }
   },
   "cell_type": "code",
   "source": "np.arange(0,6,0.6)",
   "id": "86571769dc8a389e",
   "outputs": [
    {
     "data": {
      "text/plain": [
       "array([0. , 0.6, 1.2, 1.8, 2.4, 3. , 3.6, 4.2, 4.8, 5.4])"
      ]
     },
     "execution_count": 105,
     "metadata": {},
     "output_type": "execute_result"
    }
   ],
   "execution_count": 105
  },
  {
   "metadata": {
    "ExecuteTime": {
     "end_time": "2025-02-16T10:49:11.686938Z",
     "start_time": "2025-02-16T10:49:11.677957Z"
    }
   },
   "cell_type": "code",
   "source": "np.arange(0,12).reshape(3,4)",
   "id": "5e4d2cd5eca97444",
   "outputs": [
    {
     "data": {
      "text/plain": [
       "array([[ 0,  1,  2,  3],\n",
       "       [ 4,  5,  6,  7],\n",
       "       [ 8,  9, 10, 11]])"
      ]
     },
     "execution_count": 106,
     "metadata": {},
     "output_type": "execute_result"
    }
   ],
   "execution_count": 106
  },
  {
   "metadata": {
    "ExecuteTime": {
     "end_time": "2025-02-16T10:49:18.468161Z",
     "start_time": "2025-02-16T10:49:18.458642Z"
    }
   },
   "cell_type": "code",
   "source": "np.linspace(0, 10, 5)",
   "id": "31a418daa80ff82c",
   "outputs": [
    {
     "data": {
      "text/plain": [
       "array([ 0. ,  2.5,  5. ,  7.5, 10. ])"
      ]
     },
     "execution_count": 107,
     "metadata": {},
     "output_type": "execute_result"
    }
   ],
   "execution_count": 107
  },
  {
   "metadata": {
    "ExecuteTime": {
     "end_time": "2025-02-22T07:05:11.851257Z",
     "start_time": "2025-02-22T07:05:11.845762Z"
    }
   },
   "cell_type": "code",
   "source": "np.random.random((3, 3))",
   "id": "3823163f5dbaf28b",
   "outputs": [
    {
     "data": {
      "text/plain": [
       "array([[0.91198376, 0.10766627, 0.96180274],\n",
       "       [0.66068917, 0.86306063, 0.91505039],\n",
       "       [0.62551619, 0.22010541, 0.33682643]])"
      ]
     },
     "execution_count": 109,
     "metadata": {},
     "output_type": "execute_result"
    }
   ],
   "execution_count": 109
  },
  {
   "metadata": {},
   "cell_type": "code",
   "outputs": [],
   "execution_count": null,
   "source": "",
   "id": "3036c95b30aa6fd8"
  }
 ],
 "metadata": {
  "kernelspec": {
   "display_name": "Python 3",
   "language": "python",
   "name": "python3"
  },
  "language_info": {
   "codemirror_mode": {
    "name": "ipython",
    "version": 2
   },
   "file_extension": ".py",
   "mimetype": "text/x-python",
   "name": "python",
   "nbconvert_exporter": "python",
   "pygments_lexer": "ipython2",
   "version": "2.7.6"
  }
 },
 "nbformat": 4,
 "nbformat_minor": 5
}
