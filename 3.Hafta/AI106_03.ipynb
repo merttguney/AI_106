{
 "cells": [
  {
   "metadata": {},
   "cell_type": "markdown",
   "source": "# Dosyalar ile çalışmak",
   "id": "d6083aec8926fb3f"
  },
  {
   "metadata": {
    "ExecuteTime": {
     "end_time": "2025-02-15T08:40:05.446656Z",
     "start_time": "2025-02-15T08:40:05.428637Z"
    }
   },
   "cell_type": "code",
   "source": [
    "f = open(\"test.txt\",\"w+\")\n",
    "\n",
    "f.write(\"Benim adım Mert\")\n",
    "\n",
    "f.close()"
   ],
   "id": "4c4ffb9b55064312",
   "outputs": [],
   "execution_count": 2
  },
  {
   "metadata": {
    "ExecuteTime": {
     "end_time": "2025-02-15T08:40:05.472925Z",
     "start_time": "2025-02-15T08:40:05.469506Z"
    }
   },
   "cell_type": "code",
   "source": [
    "f = open(\"test.txt\",\"r\")\n",
    "\n",
    "data = f.read()\n",
    "\n",
    "f.close()\n",
    "\n",
    "print(data)"
   ],
   "id": "c35c49e906c2dd61",
   "outputs": [
    {
     "name": "stdout",
     "output_type": "stream",
     "text": [
      "Benim adım Mert\n"
     ]
    }
   ],
   "execution_count": 3
  },
  {
   "metadata": {},
   "cell_type": "markdown",
   "source": "# Nesneye Yönelik Programlama\n",
   "id": "eb17cf5d9b7da46f"
  },
  {
   "metadata": {
    "ExecuteTime": {
     "end_time": "2025-02-15T08:40:05.501279Z",
     "start_time": "2025-02-15T08:40:05.498704Z"
    }
   },
   "cell_type": "code",
   "source": [
    "class Araba():\n",
    "    korna = \"biip\"\n",
    "    renk = \"Kırmızı\""
   ],
   "id": "db8761c77252d4d7",
   "outputs": [],
   "execution_count": 4
  },
  {
   "metadata": {
    "ExecuteTime": {
     "end_time": "2025-02-15T08:40:05.523469Z",
     "start_time": "2025-02-15T08:40:05.519665Z"
    }
   },
   "cell_type": "code",
   "source": [
    "ford = Araba()\n",
    "toyota = Araba()\n",
    "print(ford.renk)"
   ],
   "id": "f194b104f06de427",
   "outputs": [
    {
     "name": "stdout",
     "output_type": "stream",
     "text": [
      "Kırmızı\n"
     ]
    }
   ],
   "execution_count": 5
  },
  {
   "metadata": {
    "ExecuteTime": {
     "end_time": "2025-02-15T08:40:05.553750Z",
     "start_time": "2025-02-15T08:40:05.551635Z"
    }
   },
   "cell_type": "code",
   "source": "ford.renk = \"Siyah\"",
   "id": "ed137d1f1de86dd3",
   "outputs": [],
   "execution_count": 6
  },
  {
   "metadata": {
    "ExecuteTime": {
     "end_time": "2025-02-15T08:40:05.579473Z",
     "start_time": "2025-02-15T08:40:05.575090Z"
    }
   },
   "cell_type": "code",
   "source": "print(ford.renk)",
   "id": "ac778a070d4946cf",
   "outputs": [
    {
     "name": "stdout",
     "output_type": "stream",
     "text": [
      "Siyah\n"
     ]
    }
   ],
   "execution_count": 7
  },
  {
   "metadata": {
    "ExecuteTime": {
     "end_time": "2025-02-15T08:40:05.603325Z",
     "start_time": "2025-02-15T08:40:05.595991Z"
    }
   },
   "cell_type": "code",
   "source": "print(toyota.renk)",
   "id": "a743c991bfc6ef18",
   "outputs": [
    {
     "name": "stdout",
     "output_type": "stream",
     "text": [
      "Kırmızı\n"
     ]
    }
   ],
   "execution_count": 8
  },
  {
   "metadata": {
    "ExecuteTime": {
     "end_time": "2025-02-15T08:40:05.624787Z",
     "start_time": "2025-02-15T08:40:05.622694Z"
    }
   },
   "cell_type": "code",
   "source": [
    "class Araba():\n",
    "    def __init__(self, color, year):  # self ilk parametredir.(sınıfın kendisi anlamına gelir.)\n",
    "        self.renk = color\n",
    "        self.yil = year"
   ],
   "id": "ddf00bd55b4367f2",
   "outputs": [],
   "execution_count": 9
  },
  {
   "metadata": {
    "ExecuteTime": {
     "end_time": "2025-02-15T08:40:05.646080Z",
     "start_time": "2025-02-15T08:40:05.640681Z"
    }
   },
   "cell_type": "code",
   "source": "ford = Araba(\"Mavi\", 2016)",
   "id": "711e21fb2ee6014b",
   "outputs": [],
   "execution_count": 10
  },
  {
   "metadata": {
    "ExecuteTime": {
     "end_time": "2025-02-15T08:40:05.661351Z",
     "start_time": "2025-02-15T08:40:05.656314Z"
    }
   },
   "cell_type": "code",
   "source": "ford.renk",
   "id": "952079033aa756c4",
   "outputs": [
    {
     "data": {
      "text/plain": [
       "'Mavi'"
      ]
     },
     "execution_count": 11,
     "metadata": {},
     "output_type": "execute_result"
    }
   ],
   "execution_count": 11
  },
  {
   "metadata": {
    "ExecuteTime": {
     "end_time": "2025-02-15T08:40:05.692706Z",
     "start_time": "2025-02-15T08:40:05.687987Z"
    }
   },
   "cell_type": "code",
   "source": "toyota = Araba(\"Turuncu\", 2018)",
   "id": "10a9d99875d7eab6",
   "outputs": [],
   "execution_count": 12
  },
  {
   "metadata": {
    "ExecuteTime": {
     "end_time": "2025-02-15T08:40:05.736122Z",
     "start_time": "2025-02-15T08:40:05.731427Z"
    }
   },
   "cell_type": "code",
   "source": "toyota.renk # Özellik",
   "id": "20ac6d5dcfc4c500",
   "outputs": [
    {
     "data": {
      "text/plain": [
       "'Turuncu'"
      ]
     },
     "execution_count": 13,
     "metadata": {},
     "output_type": "execute_result"
    }
   ],
   "execution_count": 13
  },
  {
   "metadata": {
    "ExecuteTime": {
     "end_time": "2025-02-15T08:40:05.789372Z",
     "start_time": "2025-02-15T08:40:05.786795Z"
    }
   },
   "cell_type": "code",
   "source": [
    "class Telefon():\n",
    "    def mesajUyari(self):\n",
    "        print(\"biip biip\")"
   ],
   "id": "a7b5d4751c874c5e",
   "outputs": [],
   "execution_count": 14
  },
  {
   "metadata": {
    "ExecuteTime": {
     "end_time": "2025-02-15T08:40:05.828043Z",
     "start_time": "2025-02-15T08:40:05.823822Z"
    }
   },
   "cell_type": "code",
   "source": [
    "iphone12 = Telefon()\n",
    "iphone12.mesajUyari() # Methodlar, fonksiyonlardan türer."
   ],
   "id": "da34944e2d49b3c2",
   "outputs": [
    {
     "name": "stdout",
     "output_type": "stream",
     "text": [
      "biip biip\n"
     ]
    }
   ],
   "execution_count": 15
  },
  {
   "metadata": {},
   "cell_type": "markdown",
   "source": "# Modül ve Paketler",
   "id": "59adbc504d3ccde7"
  },
  {
   "metadata": {
    "ExecuteTime": {
     "end_time": "2025-02-15T08:40:05.852854Z",
     "start_time": "2025-02-15T08:40:05.845410Z"
    }
   },
   "cell_type": "code",
   "source": "import ornek_modul",
   "id": "c312536121d467f3",
   "outputs": [],
   "execution_count": 16
  },
  {
   "metadata": {
    "ExecuteTime": {
     "end_time": "2025-02-15T08:40:05.876768Z",
     "start_time": "2025-02-15T08:40:05.873624Z"
    }
   },
   "cell_type": "code",
   "source": "ornek_modul.topla(10, 20)",
   "id": "32ab93e9d9b37ec1",
   "outputs": [
    {
     "name": "stdout",
     "output_type": "stream",
     "text": [
      "30\n"
     ]
    }
   ],
   "execution_count": 17
  },
  {
   "metadata": {
    "ExecuteTime": {
     "end_time": "2025-02-15T08:40:05.912118Z",
     "start_time": "2025-02-15T08:40:05.910142Z"
    }
   },
   "cell_type": "code",
   "source": "import sys",
   "id": "c8bbfe16c24c8055",
   "outputs": [],
   "execution_count": 18
  },
  {
   "metadata": {
    "ExecuteTime": {
     "end_time": "2025-02-15T08:40:05.924856Z",
     "start_time": "2025-02-15T08:40:05.922254Z"
    }
   },
   "cell_type": "code",
   "source": "sys.path",
   "id": "6329e67c8e0c08b",
   "outputs": [
    {
     "data": {
      "text/plain": [
       "['/Users/mertguney/Desktop/AI_106',\n",
       " '/Applications/PyCharm.app/Contents/plugins/python-ce/helpers/pydev',\n",
       " '/Applications/PyCharm.app/Contents/plugins/python/helpers-pro/jupyter_debug',\n",
       " '/Library/Developer/CommandLineTools/Library/Frameworks/Python3.framework/Versions/3.9/lib/python39.zip',\n",
       " '/Library/Developer/CommandLineTools/Library/Frameworks/Python3.framework/Versions/3.9/lib/python3.9',\n",
       " '/Library/Developer/CommandLineTools/Library/Frameworks/Python3.framework/Versions/3.9/lib/python3.9/lib-dynload',\n",
       " '',\n",
       " '/Users/mertguney/Library/Python/3.9/lib/python/site-packages',\n",
       " '/Library/Developer/CommandLineTools/Library/Frameworks/Python3.framework/Versions/3.9/lib/python3.9/site-packages']"
      ]
     },
     "execution_count": 19,
     "metadata": {},
     "output_type": "execute_result"
    }
   ],
   "execution_count": 19
  },
  {
   "metadata": {
    "ExecuteTime": {
     "end_time": "2025-02-15T08:40:05.967796Z",
     "start_time": "2025-02-15T08:40:05.965334Z"
    }
   },
   "cell_type": "code",
   "source": [
    "def topla(a,b):\n",
    "    print(a+b)\n",
    "\n",
    "def carp(c,d):\n",
    "    print(c*d)"
   ],
   "id": "82420b1f8055ce41",
   "outputs": [],
   "execution_count": 20
  },
  {
   "metadata": {
    "ExecuteTime": {
     "end_time": "2025-02-15T08:40:06.030928Z",
     "start_time": "2025-02-15T08:40:06.011430Z"
    }
   },
   "cell_type": "code",
   "source": "sys.path.append(\"/kod_dosyalari\")",
   "id": "5b44bbdb6a97b6b7",
   "outputs": [],
   "execution_count": 21
  },
  {
   "metadata": {
    "ExecuteTime": {
     "end_time": "2025-02-15T08:40:06.048921Z",
     "start_time": "2025-02-15T08:40:06.041943Z"
    }
   },
   "cell_type": "code",
   "source": "sys.path",
   "id": "1d062eb434aa1279",
   "outputs": [
    {
     "data": {
      "text/plain": [
       "['/Users/mertguney/Desktop/AI_106',\n",
       " '/Applications/PyCharm.app/Contents/plugins/python-ce/helpers/pydev',\n",
       " '/Applications/PyCharm.app/Contents/plugins/python/helpers-pro/jupyter_debug',\n",
       " '/Library/Developer/CommandLineTools/Library/Frameworks/Python3.framework/Versions/3.9/lib/python39.zip',\n",
       " '/Library/Developer/CommandLineTools/Library/Frameworks/Python3.framework/Versions/3.9/lib/python3.9',\n",
       " '/Library/Developer/CommandLineTools/Library/Frameworks/Python3.framework/Versions/3.9/lib/python3.9/lib-dynload',\n",
       " '',\n",
       " '/Users/mertguney/Library/Python/3.9/lib/python/site-packages',\n",
       " '/Library/Developer/CommandLineTools/Library/Frameworks/Python3.framework/Versions/3.9/lib/python3.9/site-packages',\n",
       " '/kod_dosyalari']"
      ]
     },
     "execution_count": 22,
     "metadata": {},
     "output_type": "execute_result"
    }
   ],
   "execution_count": 22
  },
  {
   "metadata": {
    "ExecuteTime": {
     "end_time": "2025-02-15T08:40:06.138719Z",
     "start_time": "2025-02-15T08:40:06.136276Z"
    }
   },
   "cell_type": "code",
   "source": "import ornek_modul as om",
   "id": "7d78003ee7d68464",
   "outputs": [],
   "execution_count": 23
  },
  {
   "metadata": {
    "ExecuteTime": {
     "end_time": "2025-02-15T08:40:06.196600Z",
     "start_time": "2025-02-15T08:40:06.194090Z"
    }
   },
   "cell_type": "code",
   "source": "om.carp(10, 20)",
   "id": "c47a6e6805bf9b2e",
   "outputs": [
    {
     "name": "stdout",
     "output_type": "stream",
     "text": [
      "200\n"
     ]
    }
   ],
   "execution_count": 24
  },
  {
   "metadata": {
    "ExecuteTime": {
     "end_time": "2025-02-15T08:40:06.306174Z",
     "start_time": "2025-02-15T08:40:06.293475Z"
    }
   },
   "cell_type": "code",
   "source": "from ornek_modul import topla",
   "id": "911126ae5dffb1d1",
   "outputs": [],
   "execution_count": 25
  },
  {
   "metadata": {
    "ExecuteTime": {
     "end_time": "2025-02-15T08:40:06.341165Z",
     "start_time": "2025-02-15T08:40:06.332647Z"
    }
   },
   "cell_type": "code",
   "source": "topla(457896, 124896)",
   "id": "919ccd52596d11ae",
   "outputs": [
    {
     "name": "stdout",
     "output_type": "stream",
     "text": [
      "582792\n"
     ]
    }
   ],
   "execution_count": 26
  },
  {
   "metadata": {
    "ExecuteTime": {
     "end_time": "2025-02-15T08:40:06.392974Z",
     "start_time": "2025-02-15T08:40:06.387725Z"
    }
   },
   "cell_type": "code",
   "source": "dir(om)",
   "id": "b701bd3bb33763d8",
   "outputs": [
    {
     "data": {
      "text/plain": [
       "['__builtins__',\n",
       " '__cached__',\n",
       " '__doc__',\n",
       " '__file__',\n",
       " '__loader__',\n",
       " '__name__',\n",
       " '__package__',\n",
       " '__spec__',\n",
       " 'carp',\n",
       " 'topla']"
      ]
     },
     "execution_count": 27,
     "metadata": {},
     "output_type": "execute_result"
    }
   ],
   "execution_count": 27
  },
  {
   "metadata": {},
   "cell_type": "markdown",
   "source": "# Hata Yönetimi",
   "id": "df2adad36910dc82"
  },
  {
   "metadata": {
    "ExecuteTime": {
     "end_time": "2025-02-15T08:40:21.349755Z",
     "start_time": "2025-02-15T08:40:21.342686Z"
    }
   },
   "cell_type": "code",
   "source": "5isim = 5",
   "id": "2bfb0a441ee7e73a",
   "outputs": [
    {
     "ename": "SyntaxError",
     "evalue": "invalid syntax (3173218729.py, line 1)",
     "output_type": "error",
     "traceback": [
      "\u001B[0;36m  Cell \u001B[0;32mIn[28], line 1\u001B[0;36m\u001B[0m\n\u001B[0;31m    5isim = 5\u001B[0m\n\u001B[0m     ^\u001B[0m\n\u001B[0;31mSyntaxError\u001B[0m\u001B[0;31m:\u001B[0m invalid syntax\n"
     ]
    }
   ],
   "execution_count": 28
  },
  {
   "metadata": {
    "ExecuteTime": {
     "end_time": "2025-02-15T08:40:44.599339Z",
     "start_time": "2025-02-15T08:40:44.593303Z"
    }
   },
   "cell_type": "code",
   "source": [
    "if 3>2\n",
    "    print(\"3, 2'den büyüktür\")"
   ],
   "id": "422dd4ef28766689",
   "outputs": [
    {
     "ename": "SyntaxError",
     "evalue": "invalid syntax (755824853.py, line 1)",
     "output_type": "error",
     "traceback": [
      "\u001B[0;36m  Cell \u001B[0;32mIn[29], line 1\u001B[0;36m\u001B[0m\n\u001B[0;31m    if 3>2\u001B[0m\n\u001B[0m          ^\u001B[0m\n\u001B[0;31mSyntaxError\u001B[0m\u001B[0;31m:\u001B[0m invalid syntax\n"
     ]
    }
   ],
   "execution_count": 29
  },
  {
   "metadata": {
    "ExecuteTime": {
     "end_time": "2025-02-15T08:40:55.176754Z",
     "start_time": "2025-02-15T08:40:55.134174Z"
    }
   },
   "cell_type": "code",
   "source": "6/0",
   "id": "636d9c8f69aed06e",
   "outputs": [
    {
     "ename": "ZeroDivisionError",
     "evalue": "division by zero",
     "output_type": "error",
     "traceback": [
      "\u001B[0;31m---------------------------------------------------------------------------\u001B[0m",
      "\u001B[0;31mZeroDivisionError\u001B[0m                         Traceback (most recent call last)",
      "Cell \u001B[0;32mIn[30], line 1\u001B[0m\n\u001B[0;32m----> 1\u001B[0m \u001B[38;5;241;43m6\u001B[39;49m\u001B[38;5;241;43m/\u001B[39;49m\u001B[38;5;241;43m0\u001B[39;49m\n",
      "\u001B[0;31mZeroDivisionError\u001B[0m: division by zero"
     ]
    }
   ],
   "execution_count": 30
  },
  {
   "metadata": {
    "ExecuteTime": {
     "end_time": "2025-02-15T08:46:39.597068Z",
     "start_time": "2025-02-15T08:46:25.138561Z"
    }
   },
   "cell_type": "code",
   "source": [
    "try: # Hata olasılığı olan kodları buraya yazarız.\n",
    "    sayi1 = float(input(\"Bölünecek sayıyı giriniz\"))\n",
    "    sayi2 = float(input(\"Böleni giriniz\"))\n",
    "\n",
    "    print(sayi1/sayi2)\n",
    "except:\n",
    "    print(\"Bir sayı, sıfıra bölünemez\")\n",
    "\n",
    "print(\"Programın ana akışı\")"
   ],
   "id": "9da299769b06f7a1",
   "outputs": [
    {
     "name": "stdout",
     "output_type": "stream",
     "text": [
      "Bir sayı, sıfıra bölünemez\n",
      "Programın ana akışı\n"
     ]
    }
   ],
   "execution_count": 32
  },
  {
   "metadata": {
    "ExecuteTime": {
     "end_time": "2025-02-15T09:17:34.644299Z",
     "start_time": "2025-02-15T09:17:22.506645Z"
    }
   },
   "cell_type": "code",
   "source": [
    "try:\n",
    "    sayi1 = float(input(\"Bölünecek sayıyı giriniz\"))\n",
    "    sayi2 = float(input(\"Böleni giriniz\"))\n",
    "\n",
    "    print(sayi1/sayi2)\n",
    "\n",
    "    liste=[1,2,3]\n",
    "    i=int(input(\"Lütfen bir indeks giriniz\"))\n",
    "    print(liste[i])\n",
    "\n",
    "except ZeroDivisionError:\n",
    "    print(\"Bir sayı sıfıra bölünemez\")\n",
    "except IndexError:\n",
    "    print(\"Liste indeksi olarak 2 den büyük değer giremezsiniz...\")\n",
    "\n",
    "print(\"Programın ana akışı\")"
   ],
   "id": "f75aa7c52ed8dffc",
   "outputs": [
    {
     "name": "stdout",
     "output_type": "stream",
     "text": [
      "4.0\n",
      "Liste indeksi olarak 2 den büyük değer giremezsiniz...\n",
      "Programın ana akışı\n"
     ]
    }
   ],
   "execution_count": 35
  },
  {
   "metadata": {},
   "cell_type": "markdown",
   "source": [
    "\n",
    "1. Dörtgen, üçgen veya  dairenin  Alan hesabı. Kullanıcıdan en boy değerleri alınacak ve alan hesaplanacak.\n",
    "\n",
    "\n",
    "2. Girilen \"gün\", \"saat\", \"dakika\" ve \"saniye\" değerine göre, toplam saniyeyi hesaplayan bir uygulama yapınız.\n",
    "\n",
    "\n",
    "3. Vücut Kitle Endeksini hesaplayan uygulamayı yapın (ağırlığın(kg) boyun karesine (m)bölümü)\n",
    "\n",
    "\n",
    "4. Restoran. Kullanıcı \"pizza\", \"burger\" veya \"salata\" seçeneklerinden birini seçecek. seçtiği menünün fiyatını bir değişkene atayacak.\n",
    "Bu fiyata %15 vergi oranı uygulayacak, %10 bahşiş ekleyecek ve toplam fiyat yazdırılacak.\n",
    "\n",
    "5. feed'i inch, yard, mil e çevirin.\n",
    "\n",
    "\n",
    "6. Kullanıcı bir kelime girecek, bu kelime \"tr\" ifadesi içeriyorsa \"kelime tr ifadesi içeriyor\" mesajı, içermiyorsa \"tr ifadesi içermiyor\" mesajı versin.\n",
    "\n",
    "\n",
    "7. Kullanıcıdan iki kelime girdisi isteyeceksiniz. ikisinin aynı kelime olup olmadığını kıyaslayacaksınız.\n",
    "(kullanıcı ister büyük harfle girsin ister küçük. -lower)\n",
    "\n",
    "\n",
    "8. Herhangi  bir sayı girsin. Girdiği sayının 100 den büyük, küçük veya eşit olduğu mesajı verilsin. (tiplere dikkat)\n",
    "\n",
    "\n",
    "9. Kullanıcı yaşını girecek, 12 yaşa kadar- Çocuk, 13-19 yaş - Ergen, 20-30 yaş Genç yetişkin, 30-64 yaş Yetişkin, 64 yaş üzeri olgun.\n",
    "\n",
    "\n",
    "10. Kullanıcı bir kelime girecek, sonu \"miş\" le mi bitiyor kontrol edilecek. mesaj yazdıracaksınız.\n",
    "\n",
    "\n",
    "11. Hesap makinesi. Kullanıcıdan hangi işlemi yapmak istediği metin olarak alınacak. \"bol\" \"carp\" gibi.\n",
    "\n",
    "12. Uygulama\n",
    "Aslandan kaçma oyunu\n",
    "Bir aslanla karşılaştınız ne yapardınız?\n",
    "1-Kaçardım\n",
    "2-Ağaca tırmanırdım\n",
    "\n",
    "1 seçeneği seçilirse\n",
    "    1-Nehire doğru\n",
    "    2-Otoyola doğru\n",
    "eğer burda 1 seçilirse aslana yakalanacak, 2 seçilirse aslandan kaçabilecek.\n",
    "\n",
    "2 seçeneği seçilirse\n",
    "    1-En yakın\n",
    "    2-Biraz daha uzak ama daha uzun\n",
    "eğer burada 1 seçeneği seçilirse aslan sizi yakalayacak."
   ],
   "id": "abea89249bca059"
  },
  {
   "metadata": {
    "ExecuteTime": {
     "end_time": "2025-02-15T20:19:18.500982Z",
     "start_time": "2025-02-15T20:19:11.911651Z"
    }
   },
   "cell_type": "code",
   "source": [
    "genişlik = float(input(\"Genişlik: \"))\n",
    "yukseklik = float(input(\"yükseklik: \"))\n",
    "alan = genişlik * yukseklik\n",
    "print(\"Odanın alanı \", alan , \" m kare\")"
   ],
   "id": "454b8011c88d054a",
   "outputs": [
    {
     "name": "stdout",
     "output_type": "stream",
     "text": [
      "Odanın alanı  12.0  m kare\n"
     ]
    }
   ],
   "execution_count": 37
  },
  {
   "metadata": {
    "ExecuteTime": {
     "end_time": "2025-02-15T20:19:42.317822Z",
     "start_time": "2025-02-15T20:19:26.650613Z"
    }
   },
   "cell_type": "code",
   "source": [
    "gun = float(input(\"Gun sayısı giriniz: \"))\n",
    "saat = float(input(\"Saat sayısı: \"))\n",
    "dakika = float(input(\"Dakika?: \"))\n",
    "saniye = float(input(\"Saniye: \"))\n",
    "\n",
    "gun_saniye = gun * 86400\n",
    "saat_saniye = saat * 3600\n",
    "dakika_saniye = dakika * 60\n",
    "\n",
    "\n",
    "toplam_saniye = gun_saniye + saat_saniye + dakika_saniye + saniye\n",
    "print(\"Toplam saniye: \", toplam_saniye)"
   ],
   "id": "82410cf9fd066c5c",
   "outputs": [
    {
     "name": "stdout",
     "output_type": "stream",
     "text": [
      "Toplam saniye:  714312.0\n"
     ]
    }
   ],
   "execution_count": 38
  },
  {
   "metadata": {
    "ExecuteTime": {
     "end_time": "2025-02-15T20:20:05.263617Z",
     "start_time": "2025-02-15T20:20:00.662340Z"
    }
   },
   "cell_type": "code",
   "source": [
    "yemek = input(\"Hangi yemeği (menüyü) istersiniz? (pizza, burger, salata)? \")\n",
    "\n",
    "if yemek == \"pizza\":\n",
    "      fiyat = 150.98\n",
    "elif yemek == \"burger\":\n",
    "      fiyat = 140.55\n",
    "else:\n",
    "      fiyat = 100.11\n",
    "\n",
    "\n",
    "vergi_orani = 0.15\n",
    "vergi = vergi_orani * fiyat\n",
    "# bahsis vergi oranı 10 %\n",
    "bahsis_orani = 0.10\n",
    "bahsis = bahsis_orani * fiyat\n",
    "\n",
    "toplam_fiyat = vergi + bahsis + fiyat\n",
    "\n",
    "\n",
    "print(yemek, \"fiyatı: \", fiyat, \"TL\")\n",
    "print(f\"Vergi:  {vergi:.2f} TL\")\n",
    "print(f\"Bahşiş:  {bahsis:.2f}TL\")\n",
    "print(f\"Toplam fiyat: {toplam_fiyat:.2f} TL\")"
   ],
   "id": "c428daec2b71cb49",
   "outputs": [
    {
     "name": "stdout",
     "output_type": "stream",
     "text": [
      "burger fiyatı:  140.55 TL\n",
      "Vergi:  21.08 TL\n",
      "Bahşiş:  14.06TL\n",
      "Toplam fiyat: 175.69 TL\n"
     ]
    }
   ],
   "execution_count": 39
  },
  {
   "metadata": {},
   "cell_type": "code",
   "outputs": [],
   "execution_count": null,
   "source": "",
   "id": "2268d023f187df0e"
  }
 ],
 "metadata": {
  "kernelspec": {
   "display_name": "Python 3",
   "language": "python",
   "name": "python3"
  },
  "language_info": {
   "codemirror_mode": {
    "name": "ipython",
    "version": 2
   },
   "file_extension": ".py",
   "mimetype": "text/x-python",
   "name": "python",
   "nbconvert_exporter": "python",
   "pygments_lexer": "ipython2",
   "version": "2.7.6"
  }
 },
 "nbformat": 4,
 "nbformat_minor": 5
}
